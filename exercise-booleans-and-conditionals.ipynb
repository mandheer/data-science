{
 "cells": [
  {
   "cell_type": "markdown",
   "id": "214d1a62",
   "metadata": {
    "papermill": {
     "duration": 0.022351,
     "end_time": "2021-08-06T23:43:19.756251",
     "exception": false,
     "start_time": "2021-08-06T23:43:19.733900",
     "status": "completed"
    },
    "tags": []
   },
   "source": [
    "**This notebook is an exercise in the [Python](https://www.kaggle.com/learn/python) course.  You can reference the tutorial at [this link](https://www.kaggle.com/colinmorris/booleans-and-conditionals).**\n",
    "\n",
    "---\n"
   ]
  },
  {
   "cell_type": "markdown",
   "id": "410af658",
   "metadata": {
    "papermill": {
     "duration": 0.020938,
     "end_time": "2021-08-06T23:43:19.799781",
     "exception": false,
     "start_time": "2021-08-06T23:43:19.778843",
     "status": "completed"
    },
    "tags": []
   },
   "source": [
    "In this exercise, you'll put to work what you have learned about booleans and conditionals.\n",
    "\n",
    "To get started, **run the setup code below** before writing your own code (and if you leave this notebook and come back later, don't forget to run the setup code again)."
   ]
  },
  {
   "cell_type": "code",
   "execution_count": 1,
   "id": "5e520540",
   "metadata": {
    "execution": {
     "iopub.execute_input": "2021-08-06T23:43:19.851577Z",
     "iopub.status.busy": "2021-08-06T23:43:19.850896Z",
     "iopub.status.idle": "2021-08-06T23:43:19.968120Z",
     "shell.execute_reply": "2021-08-06T23:43:19.968586Z",
     "shell.execute_reply.started": "2021-08-06T23:42:55.671277Z"
    },
    "papermill": {
     "duration": 0.148141,
     "end_time": "2021-08-06T23:43:19.968877",
     "exception": false,
     "start_time": "2021-08-06T23:43:19.820736",
     "status": "completed"
    },
    "tags": []
   },
   "outputs": [
    {
     "name": "stdout",
     "output_type": "stream",
     "text": [
      "Setup complete.\n"
     ]
    }
   ],
   "source": [
    "from learntools.core import binder; binder.bind(globals())\n",
    "from learntools.python.ex3 import *\n",
    "print('Setup complete.')"
   ]
  },
  {
   "cell_type": "markdown",
   "id": "523ddeac",
   "metadata": {
    "papermill": {
     "duration": 0.021056,
     "end_time": "2021-08-06T23:43:20.011773",
     "exception": false,
     "start_time": "2021-08-06T23:43:19.990717",
     "status": "completed"
    },
    "tags": []
   },
   "source": [
    "# 1.\n",
    "\n",
    "Many programming languages have [`sign`](https://en.wikipedia.org/wiki/Sign_function) available as a built-in function. Python doesn't, but we can define our own!\n",
    "\n",
    "In the cell below, define a function called `sign` which takes a numerical argument and returns -1 if it's negative, 1 if it's positive, and 0 if it's 0."
   ]
  },
  {
   "cell_type": "code",
   "execution_count": 2,
   "id": "24e1be54",
   "metadata": {
    "execution": {
     "iopub.execute_input": "2021-08-06T23:43:20.061753Z",
     "iopub.status.busy": "2021-08-06T23:43:20.061086Z",
     "iopub.status.idle": "2021-08-06T23:43:20.066452Z",
     "shell.execute_reply": "2021-08-06T23:43:20.066843Z",
     "shell.execute_reply.started": "2021-08-06T23:42:55.678609Z"
    },
    "papermill": {
     "duration": 0.033883,
     "end_time": "2021-08-06T23:43:20.066999",
     "exception": false,
     "start_time": "2021-08-06T23:43:20.033116",
     "status": "completed"
    },
    "tags": []
   },
   "outputs": [
    {
     "data": {
      "application/javascript": [
       "parent.postMessage({\"jupyterEvent\": \"custom.exercise_interaction\", \"data\": {\"outcomeType\": 1, \"valueTowardsCompletion\": 0.2, \"interactionType\": 1, \"questionType\": 2, \"questionId\": \"1_SignFunctionProblem\", \"learnToolsVersion\": \"0.3.4\", \"failureMessage\": \"\", \"exceptionClass\": \"\", \"trace\": \"\"}}, \"*\")"
      ],
      "text/plain": [
       "<IPython.core.display.Javascript object>"
      ]
     },
     "metadata": {},
     "output_type": "display_data"
    },
    {
     "data": {
      "text/markdown": [
       "<span style=\"color:#33cc33\">Correct</span>"
      ],
      "text/plain": [
       "Correct"
      ]
     },
     "metadata": {},
     "output_type": "display_data"
    }
   ],
   "source": [
    "# Your code goes here. Define a function called 'sign'\n",
    "def sign(num):\n",
    "    if num == 0 :\n",
    "        return 0\n",
    "    elif num > 0:\n",
    "        return 1\n",
    "    elif num < 0:\n",
    "        return -1\n",
    "    else:\n",
    "        raise TypeError(\"invalid input\")\n",
    "# Check your answer\n",
    "q1.check()"
   ]
  },
  {
   "cell_type": "code",
   "execution_count": 3,
   "id": "b942b9d1",
   "metadata": {
    "execution": {
     "iopub.execute_input": "2021-08-06T23:43:20.117496Z",
     "iopub.status.busy": "2021-08-06T23:43:20.116867Z",
     "iopub.status.idle": "2021-08-06T23:43:20.121296Z",
     "shell.execute_reply": "2021-08-06T23:43:20.121707Z",
     "shell.execute_reply.started": "2021-08-06T23:42:55.696563Z"
    },
    "papermill": {
     "duration": 0.032632,
     "end_time": "2021-08-06T23:43:20.121866",
     "exception": false,
     "start_time": "2021-08-06T23:43:20.089234",
     "status": "completed"
    },
    "tags": []
   },
   "outputs": [
    {
     "data": {
      "application/javascript": [
       "parent.postMessage({\"jupyterEvent\": \"custom.exercise_interaction\", \"data\": {\"interactionType\": 3, \"questionType\": 2, \"questionId\": \"1_SignFunctionProblem\", \"learnToolsVersion\": \"0.3.4\", \"valueTowardsCompletion\": 0.0, \"failureMessage\": \"\", \"exceptionClass\": \"\", \"trace\": \"\", \"outcomeType\": 4}}, \"*\")"
      ],
      "text/plain": [
       "<IPython.core.display.Javascript object>"
      ]
     },
     "metadata": {},
     "output_type": "display_data"
    },
    {
     "data": {
      "text/markdown": [
       "<span style=\"color:#33cc99\">Solution:</span> \n",
       "```python\n",
       "def sign(x):\n",
       "    if x > 0:\n",
       "        return 1\n",
       "    elif x < 0:\n",
       "        return -1\n",
       "    else:\n",
       "        return 0\n",
       "```"
      ],
      "text/plain": [
       "Solution: \n",
       "```python\n",
       "def sign(x):\n",
       "    if x > 0:\n",
       "        return 1\n",
       "    elif x < 0:\n",
       "        return -1\n",
       "    else:\n",
       "        return 0\n",
       "```"
      ]
     },
     "metadata": {},
     "output_type": "display_data"
    }
   ],
   "source": [
    "q1.solution()"
   ]
  },
  {
   "cell_type": "markdown",
   "id": "cab82132",
   "metadata": {
    "papermill": {
     "duration": 0.023459,
     "end_time": "2021-08-06T23:43:20.168161",
     "exception": false,
     "start_time": "2021-08-06T23:43:20.144702",
     "status": "completed"
    },
    "tags": []
   },
   "source": [
    "# 2.\n",
    "\n",
    "We've decided to add \"logging\" to our `to_smash` function from the previous exercise."
   ]
  },
  {
   "cell_type": "code",
   "execution_count": 4,
   "id": "df45b9b7",
   "metadata": {
    "execution": {
     "iopub.execute_input": "2021-08-06T23:43:20.219684Z",
     "iopub.status.busy": "2021-08-06T23:43:20.219003Z",
     "iopub.status.idle": "2021-08-06T23:43:20.223250Z",
     "shell.execute_reply": "2021-08-06T23:43:20.222765Z",
     "shell.execute_reply.started": "2021-08-06T23:42:55.711585Z"
    },
    "papermill": {
     "duration": 0.032522,
     "end_time": "2021-08-06T23:43:20.223412",
     "exception": false,
     "start_time": "2021-08-06T23:43:20.190890",
     "status": "completed"
    },
    "tags": []
   },
   "outputs": [
    {
     "name": "stdout",
     "output_type": "stream",
     "text": [
      "Splitting 91 candies\n"
     ]
    },
    {
     "data": {
      "text/plain": [
       "1"
      ]
     },
     "execution_count": 4,
     "metadata": {},
     "output_type": "execute_result"
    }
   ],
   "source": [
    "def to_smash(total_candies):\n",
    "    \"\"\"Return the number of leftover candies that must be smashed after distributing\n",
    "    the given number of candies evenly between 3 friends.\n",
    "    \n",
    "    >>> to_smash(91)\n",
    "    1\n",
    "    \"\"\"\n",
    "    print(\"Splitting\", total_candies, \"candies\")\n",
    "    return total_candies % 3\n",
    "\n",
    "to_smash(91)"
   ]
  },
  {
   "cell_type": "markdown",
   "id": "d6c1a5b7",
   "metadata": {
    "papermill": {
     "duration": 0.022993,
     "end_time": "2021-08-06T23:43:20.269736",
     "exception": false,
     "start_time": "2021-08-06T23:43:20.246743",
     "status": "completed"
    },
    "tags": []
   },
   "source": [
    "What happens if we call it with `total_candies = 1`?"
   ]
  },
  {
   "cell_type": "code",
   "execution_count": 5,
   "id": "940e5e9d",
   "metadata": {
    "execution": {
     "iopub.execute_input": "2021-08-06T23:43:20.319481Z",
     "iopub.status.busy": "2021-08-06T23:43:20.318578Z",
     "iopub.status.idle": "2021-08-06T23:43:20.327025Z",
     "shell.execute_reply": "2021-08-06T23:43:20.326598Z",
     "shell.execute_reply.started": "2021-08-06T23:42:55.725335Z"
    },
    "papermill": {
     "duration": 0.034274,
     "end_time": "2021-08-06T23:43:20.327155",
     "exception": false,
     "start_time": "2021-08-06T23:43:20.292881",
     "status": "completed"
    },
    "tags": []
   },
   "outputs": [
    {
     "name": "stdout",
     "output_type": "stream",
     "text": [
      "Splitting 1 candies\n"
     ]
    },
    {
     "data": {
      "text/plain": [
       "1"
      ]
     },
     "execution_count": 5,
     "metadata": {},
     "output_type": "execute_result"
    }
   ],
   "source": [
    "to_smash(1)"
   ]
  },
  {
   "cell_type": "markdown",
   "id": "3780b25f",
   "metadata": {
    "papermill": {
     "duration": 0.023459,
     "end_time": "2021-08-06T23:43:20.374717",
     "exception": false,
     "start_time": "2021-08-06T23:43:20.351258",
     "status": "completed"
    },
    "tags": []
   },
   "source": [
    "That isn't great grammar!\n",
    "\n",
    "Modify the definition in the cell below to correct the grammar of our print statement. (If there's only one candy, we should use the singular \"candy\" instead of the plural \"candies\")"
   ]
  },
  {
   "cell_type": "code",
   "execution_count": 6,
   "id": "c9376e23",
   "metadata": {
    "execution": {
     "iopub.execute_input": "2021-08-06T23:43:20.428197Z",
     "iopub.status.busy": "2021-08-06T23:43:20.427341Z",
     "iopub.status.idle": "2021-08-06T23:43:20.431685Z",
     "shell.execute_reply": "2021-08-06T23:43:20.432090Z",
     "shell.execute_reply.started": "2021-08-06T23:42:55.743192Z"
    },
    "papermill": {
     "duration": 0.03376,
     "end_time": "2021-08-06T23:43:20.432236",
     "exception": false,
     "start_time": "2021-08-06T23:43:20.398476",
     "status": "completed"
    },
    "tags": []
   },
   "outputs": [
    {
     "name": "stdout",
     "output_type": "stream",
     "text": [
      "Splitting 91 candies\n",
      "Splitting 1 candy\n"
     ]
    },
    {
     "data": {
      "text/plain": [
       "1"
      ]
     },
     "execution_count": 6,
     "metadata": {},
     "output_type": "execute_result"
    }
   ],
   "source": [
    "def to_smash(total_candies):\n",
    "    \"\"\"Return the number of leftover candies that must be smashed after distributing\n",
    "    the given number of candies evenly between 3 friends.\n",
    "    \n",
    "    >>> to_smash(91)\n",
    "    1\n",
    "    \"\"\"\n",
    "    print(\"Splitting\", total_candies, \"candies\" if total_candies//2 else \"candy\")\n",
    "    return total_candies % 3\n",
    "\n",
    "to_smash(91)\n",
    "to_smash(1)"
   ]
  },
  {
   "cell_type": "markdown",
   "id": "5aea332f",
   "metadata": {
    "papermill": {
     "duration": 0.024367,
     "end_time": "2021-08-06T23:43:20.480775",
     "exception": false,
     "start_time": "2021-08-06T23:43:20.456408",
     "status": "completed"
    },
    "tags": []
   },
   "source": [
    "To get credit for completing this problem, and to see the official answer, run the code cell below."
   ]
  },
  {
   "cell_type": "code",
   "execution_count": 7,
   "id": "153d578f",
   "metadata": {
    "execution": {
     "iopub.execute_input": "2021-08-06T23:43:20.534778Z",
     "iopub.status.busy": "2021-08-06T23:43:20.533892Z",
     "iopub.status.idle": "2021-08-06T23:43:20.540190Z",
     "shell.execute_reply": "2021-08-06T23:43:20.540643Z",
     "shell.execute_reply.started": "2021-08-06T23:42:55.757658Z"
    },
    "papermill": {
     "duration": 0.035204,
     "end_time": "2021-08-06T23:43:20.540808",
     "exception": false,
     "start_time": "2021-08-06T23:43:20.505604",
     "status": "completed"
    },
    "tags": []
   },
   "outputs": [
    {
     "data": {
      "application/javascript": [
       "parent.postMessage({\"jupyterEvent\": \"custom.exercise_interaction\", \"data\": {\"interactionType\": 3, \"questionType\": 4, \"questionId\": \"2_PluralizationProblem\", \"learnToolsVersion\": \"0.3.4\", \"valueTowardsCompletion\": 0.0, \"failureMessage\": \"\", \"exceptionClass\": \"\", \"trace\": \"\", \"outcomeType\": 4}}, \"*\")"
      ],
      "text/plain": [
       "<IPython.core.display.Javascript object>"
      ]
     },
     "metadata": {},
     "output_type": "display_data"
    },
    {
     "data": {
      "text/markdown": [
       "<span style=\"color:#33cc99\">Solution:</span> A straightforward (and totally fine) solution is to replace the original `print` call with:\n",
       "\n",
       "```python\n",
       "if total_candies == 1:\n",
       "    print(\"Splitting 1 candy\")\n",
       "else:\n",
       "    print(\"Splitting\", total_candies, \"candies\")\n",
       "```\n",
       "\n",
       "Here's a slightly more succinct solution using a conditional expression:\n",
       "\n",
       "```python\n",
       "print(\"Splitting\", total_candies, \"candy\" if total_candies == 1 else \"candies\")\n",
       "```"
      ],
      "text/plain": [
       "Solution: A straightforward (and totally fine) solution is to replace the original `print` call with:\n",
       "\n",
       "```python\n",
       "if total_candies == 1:\n",
       "    print(\"Splitting 1 candy\")\n",
       "else:\n",
       "    print(\"Splitting\", total_candies, \"candies\")\n",
       "```\n",
       "\n",
       "Here's a slightly more succinct solution using a conditional expression:\n",
       "\n",
       "```python\n",
       "print(\"Splitting\", total_candies, \"candy\" if total_candies == 1 else \"candies\")\n",
       "```"
      ]
     },
     "metadata": {},
     "output_type": "display_data"
    }
   ],
   "source": [
    "# Check your answer (Run this code cell to receive credit!)\n",
    "q2.solution()"
   ]
  },
  {
   "cell_type": "markdown",
   "id": "67d72ff7",
   "metadata": {
    "papermill": {
     "duration": 0.025334,
     "end_time": "2021-08-06T23:43:20.591997",
     "exception": false,
     "start_time": "2021-08-06T23:43:20.566663",
     "status": "completed"
    },
    "tags": []
   },
   "source": [
    "# 3. <span title=\"A bit spicy\" style=\"color: darkgreen \">🌶️</span>\n",
    "\n",
    "In the tutorial, we talked about deciding whether we're prepared for the weather. I said that I'm safe from today's weather if...\n",
    "- I have an umbrella...\n",
    "- or if the rain isn't too heavy and I have a hood...\n",
    "- otherwise, I'm still fine unless it's raining *and* it's a workday\n",
    "\n",
    "The function below uses our first attempt at turning this logic into a Python expression. I claimed that there was a bug in that code. Can you find it?\n",
    "\n",
    "To prove that `prepared_for_weather` is buggy, come up with a set of inputs where either:\n",
    "- the function returns `False` (but should have returned `True`), or\n",
    "- the function returned `True` (but should have returned `False`).\n",
    "\n",
    "To get credit for completing this question, your code should return a <font color='#33cc33'>Correct</font> result."
   ]
  },
  {
   "cell_type": "code",
   "execution_count": 8,
   "id": "0200824b",
   "metadata": {
    "execution": {
     "iopub.execute_input": "2021-08-06T23:43:20.650816Z",
     "iopub.status.busy": "2021-08-06T23:43:20.650032Z",
     "iopub.status.idle": "2021-08-06T23:43:20.657260Z",
     "shell.execute_reply": "2021-08-06T23:43:20.656820Z",
     "shell.execute_reply.started": "2021-08-06T23:42:55.770267Z"
    },
    "papermill": {
     "duration": 0.038801,
     "end_time": "2021-08-06T23:43:20.657423",
     "exception": false,
     "start_time": "2021-08-06T23:43:20.618622",
     "status": "completed"
    },
    "tags": []
   },
   "outputs": [
    {
     "name": "stdout",
     "output_type": "stream",
     "text": [
      "False\n"
     ]
    },
    {
     "data": {
      "application/javascript": [
       "parent.postMessage({\"jupyterEvent\": \"custom.exercise_interaction\", \"data\": {\"outcomeType\": 1, \"valueTowardsCompletion\": 0.2, \"interactionType\": 1, \"questionType\": 1, \"questionId\": \"3_WeatherDebug\", \"learnToolsVersion\": \"0.3.4\", \"failureMessage\": \"\", \"exceptionClass\": \"\", \"trace\": \"\"}}, \"*\")"
      ],
      "text/plain": [
       "<IPython.core.display.Javascript object>"
      ]
     },
     "metadata": {},
     "output_type": "display_data"
    },
    {
     "data": {
      "text/markdown": [
       "<span style=\"color:#33cc33\">Correct:</span> \n",
       "\n",
       "One example of a failing test case is:\n",
       "\n",
       "```python\n",
       "have_umbrella = False\n",
       "rain_level = 0.0\n",
       "have_hood = False\n",
       "is_workday = False\n",
       "```\n",
       "\n",
       "Clearly we're prepared for the weather in this case. It's not raining. Not only that, it's not a workday, so we don't even need to leave the house! But our function will return False on these inputs.\n",
       "\n",
       "The key problem is that Python implictly parenthesizes the last part as:\n",
       "\n",
       "```python\n",
       "(not (rain_level > 0)) and is_workday\n",
       "```\n",
       "\n",
       "Whereas what we were trying to express would look more like:\n",
       "\n",
       "```python\n",
       "not (rain_level > 0 and is_workday)\n",
       "```\n"
      ],
      "text/plain": [
       "Correct: \n",
       "\n",
       "One example of a failing test case is:\n",
       "\n",
       "```python\n",
       "have_umbrella = False\n",
       "rain_level = 0.0\n",
       "have_hood = False\n",
       "is_workday = False\n",
       "```\n",
       "\n",
       "Clearly we're prepared for the weather in this case. It's not raining. Not only that, it's not a workday, so we don't even need to leave the house! But our function will return False on these inputs.\n",
       "\n",
       "The key problem is that Python implictly parenthesizes the last part as:\n",
       "\n",
       "```python\n",
       "(not (rain_level > 0)) and is_workday\n",
       "```\n",
       "\n",
       "Whereas what we were trying to express would look more like:\n",
       "\n",
       "```python\n",
       "not (rain_level > 0 and is_workday)\n",
       "```"
      ]
     },
     "metadata": {},
     "output_type": "display_data"
    }
   ],
   "source": [
    "def prepared_for_weather(have_umbrella, rain_level, have_hood, is_workday):\n",
    "    # Don't change this code. Our goal is just to find the bug, not fix it!\n",
    "    return have_umbrella or rain_level < 5 and have_hood or not rain_level > 0 and is_workday\n",
    "\n",
    "# Change the values of these inputs so they represent a case where prepared_for_weather\n",
    "# returns the wrong answer.\n",
    "have_umbrella = False\n",
    "rain_level = 1.0\n",
    "have_hood = False\n",
    "is_workday = False\n",
    "\n",
    "# Check what the function returns given the current values of the variables above\n",
    "actual = prepared_for_weather(have_umbrella, rain_level, have_hood, is_workday)\n",
    "print(actual)\n",
    "\n",
    "# Check your answer\n",
    "q3.check()"
   ]
  },
  {
   "cell_type": "code",
   "execution_count": 9,
   "id": "073f52d0",
   "metadata": {
    "execution": {
     "iopub.execute_input": "2021-08-06T23:43:20.713798Z",
     "iopub.status.busy": "2021-08-06T23:43:20.713157Z",
     "iopub.status.idle": "2021-08-06T23:43:20.719633Z",
     "shell.execute_reply": "2021-08-06T23:43:20.720066Z",
     "shell.execute_reply.started": "2021-08-06T23:42:55.784436Z"
    },
    "papermill": {
     "duration": 0.036797,
     "end_time": "2021-08-06T23:43:20.720224",
     "exception": false,
     "start_time": "2021-08-06T23:43:20.683427",
     "status": "completed"
    },
    "tags": []
   },
   "outputs": [
    {
     "data": {
      "application/javascript": [
       "parent.postMessage({\"jupyterEvent\": \"custom.exercise_interaction\", \"data\": {\"interactionType\": 2, \"questionType\": 1, \"questionId\": \"3_WeatherDebug\", \"learnToolsVersion\": \"0.3.4\", \"valueTowardsCompletion\": 0.0, \"failureMessage\": \"\", \"exceptionClass\": \"\", \"trace\": \"\", \"outcomeType\": 4}}, \"*\")"
      ],
      "text/plain": [
       "<IPython.core.display.Javascript object>"
      ]
     },
     "metadata": {},
     "output_type": "display_data"
    },
    {
     "data": {
      "text/markdown": [
       "<span style=\"color:#3366cc\">Hint:</span> Take a look at how we fixed our original expression in the main lesson. We added parentheses around certain subexpressions. The bug in this code is caused by Python evaluating certain operations in the \"wrong\" order."
      ],
      "text/plain": [
       "Hint: Take a look at how we fixed our original expression in the main lesson. We added parentheses around certain subexpressions. The bug in this code is caused by Python evaluating certain operations in the \"wrong\" order."
      ]
     },
     "metadata": {},
     "output_type": "display_data"
    },
    {
     "data": {
      "application/javascript": [
       "parent.postMessage({\"jupyterEvent\": \"custom.exercise_interaction\", \"data\": {\"interactionType\": 3, \"questionType\": 1, \"questionId\": \"3_WeatherDebug\", \"learnToolsVersion\": \"0.3.4\", \"valueTowardsCompletion\": 0.0, \"failureMessage\": \"\", \"exceptionClass\": \"\", \"trace\": \"\", \"outcomeType\": 4}}, \"*\")"
      ],
      "text/plain": [
       "<IPython.core.display.Javascript object>"
      ]
     },
     "metadata": {},
     "output_type": "display_data"
    },
    {
     "data": {
      "text/markdown": [
       "<span style=\"color:#33cc99\">Solution:</span> One example of a failing test case is:\n",
       "\n",
       "```python\n",
       "have_umbrella = False\n",
       "rain_level = 0.0\n",
       "have_hood = False\n",
       "is_workday = False\n",
       "```\n",
       "\n",
       "Clearly we're prepared for the weather in this case. It's not raining. Not only that, it's not a workday, so we don't even need to leave the house! But our function will return False on these inputs.\n",
       "\n",
       "The key problem is that Python implictly parenthesizes the last part as:\n",
       "\n",
       "```python\n",
       "(not (rain_level > 0)) and is_workday\n",
       "```\n",
       "\n",
       "Whereas what we were trying to express would look more like:\n",
       "\n",
       "```python\n",
       "not (rain_level > 0 and is_workday)\n",
       "```\n"
      ],
      "text/plain": [
       "Solution: One example of a failing test case is:\n",
       "\n",
       "```python\n",
       "have_umbrella = False\n",
       "rain_level = 0.0\n",
       "have_hood = False\n",
       "is_workday = False\n",
       "```\n",
       "\n",
       "Clearly we're prepared for the weather in this case. It's not raining. Not only that, it's not a workday, so we don't even need to leave the house! But our function will return False on these inputs.\n",
       "\n",
       "The key problem is that Python implictly parenthesizes the last part as:\n",
       "\n",
       "```python\n",
       "(not (rain_level > 0)) and is_workday\n",
       "```\n",
       "\n",
       "Whereas what we were trying to express would look more like:\n",
       "\n",
       "```python\n",
       "not (rain_level > 0 and is_workday)\n",
       "```"
      ]
     },
     "metadata": {},
     "output_type": "display_data"
    }
   ],
   "source": [
    "q3.hint()\n",
    "q3.solution()"
   ]
  },
  {
   "cell_type": "markdown",
   "id": "29c254fc",
   "metadata": {
    "papermill": {
     "duration": 0.027274,
     "end_time": "2021-08-06T23:43:20.775040",
     "exception": false,
     "start_time": "2021-08-06T23:43:20.747766",
     "status": "completed"
    },
    "tags": []
   },
   "source": [
    "# 4.\n",
    "\n",
    "The function `is_negative` below is implemented correctly - it returns True if the given number is negative and False otherwise.\n",
    "\n",
    "However, it's more verbose than it needs to be. We can actually reduce the number of lines of code in this function by *75%* while keeping the same behaviour. \n",
    "\n",
    "See if you can come up with an equivalent body that uses just **one line** of code, and put it in the function `concise_is_negative`. (HINT: you don't even need Python's ternary syntax)"
   ]
  },
  {
   "cell_type": "code",
   "execution_count": 10,
   "id": "cb8a33b0",
   "metadata": {
    "execution": {
     "iopub.execute_input": "2021-08-06T23:43:20.833081Z",
     "iopub.status.busy": "2021-08-06T23:43:20.832541Z",
     "iopub.status.idle": "2021-08-06T23:43:20.839733Z",
     "shell.execute_reply": "2021-08-06T23:43:20.840126Z",
     "shell.execute_reply.started": "2021-08-06T23:42:55.804218Z"
    },
    "papermill": {
     "duration": 0.037527,
     "end_time": "2021-08-06T23:43:20.840289",
     "exception": false,
     "start_time": "2021-08-06T23:43:20.802762",
     "status": "completed"
    },
    "tags": []
   },
   "outputs": [
    {
     "data": {
      "application/javascript": [
       "parent.postMessage({\"jupyterEvent\": \"custom.exercise_interaction\", \"data\": {\"outcomeType\": 1, \"valueTowardsCompletion\": 0.2, \"interactionType\": 1, \"questionType\": 2, \"questionId\": \"4_ConciseIsNegative\", \"learnToolsVersion\": \"0.3.4\", \"failureMessage\": \"\", \"exceptionClass\": \"\", \"trace\": \"\"}}, \"*\")"
      ],
      "text/plain": [
       "<IPython.core.display.Javascript object>"
      ]
     },
     "metadata": {},
     "output_type": "display_data"
    },
    {
     "data": {
      "text/markdown": [
       "<span style=\"color:#33cc33\">Correct</span>"
      ],
      "text/plain": [
       "Correct"
      ]
     },
     "metadata": {},
     "output_type": "display_data"
    }
   ],
   "source": [
    "def is_negative(number):\n",
    "    if number < 0:\n",
    "        return True\n",
    "    else:\n",
    "        return False\n",
    "\n",
    "def concise_is_negative(number):\n",
    "    return number<0 # Your code goes here (try to keep it to one line!)\n",
    "\n",
    "# Check your answer\n",
    "q4.check()"
   ]
  },
  {
   "cell_type": "code",
   "execution_count": 11,
   "id": "80bc56b7",
   "metadata": {
    "execution": {
     "iopub.execute_input": "2021-08-06T23:43:20.900470Z",
     "iopub.status.busy": "2021-08-06T23:43:20.899881Z",
     "iopub.status.idle": "2021-08-06T23:43:20.907510Z",
     "shell.execute_reply": "2021-08-06T23:43:20.907927Z",
     "shell.execute_reply.started": "2021-08-06T23:42:55.815712Z"
    },
    "papermill": {
     "duration": 0.039096,
     "end_time": "2021-08-06T23:43:20.908081",
     "exception": false,
     "start_time": "2021-08-06T23:43:20.868985",
     "status": "completed"
    },
    "tags": []
   },
   "outputs": [
    {
     "data": {
      "application/javascript": [
       "parent.postMessage({\"jupyterEvent\": \"custom.exercise_interaction\", \"data\": {\"interactionType\": 2, \"questionType\": 2, \"questionId\": \"4_ConciseIsNegative\", \"learnToolsVersion\": \"0.3.4\", \"valueTowardsCompletion\": 0.0, \"failureMessage\": \"\", \"exceptionClass\": \"\", \"trace\": \"\", \"outcomeType\": 4}}, \"*\")"
      ],
      "text/plain": [
       "<IPython.core.display.Javascript object>"
      ]
     },
     "metadata": {},
     "output_type": "display_data"
    },
    {
     "data": {
      "text/markdown": [
       "<span style=\"color:#3366cc\">Hint:</span> If the value of the expression `number < 0` is `True`, then we return `True`. If it's `False`, then we return `False`..."
      ],
      "text/plain": [
       "Hint: If the value of the expression `number < 0` is `True`, then we return `True`. If it's `False`, then we return `False`..."
      ]
     },
     "metadata": {},
     "output_type": "display_data"
    },
    {
     "data": {
      "application/javascript": [
       "parent.postMessage({\"jupyterEvent\": \"custom.exercise_interaction\", \"data\": {\"interactionType\": 3, \"questionType\": 2, \"questionId\": \"4_ConciseIsNegative\", \"learnToolsVersion\": \"0.3.4\", \"valueTowardsCompletion\": 0.0, \"failureMessage\": \"\", \"exceptionClass\": \"\", \"trace\": \"\", \"outcomeType\": 4}}, \"*\")"
      ],
      "text/plain": [
       "<IPython.core.display.Javascript object>"
      ]
     },
     "metadata": {},
     "output_type": "display_data"
    },
    {
     "data": {
      "text/markdown": [
       "<span style=\"color:#33cc99\">Solution:</span> \n",
       "```python\n",
       "return number < 0\n",
       "```"
      ],
      "text/plain": [
       "Solution: \n",
       "```python\n",
       "return number < 0\n",
       "```"
      ]
     },
     "metadata": {},
     "output_type": "display_data"
    }
   ],
   "source": [
    "q4.hint()\n",
    "q4.solution()"
   ]
  },
  {
   "cell_type": "markdown",
   "id": "a5ef5758",
   "metadata": {
    "papermill": {
     "duration": 0.030284,
     "end_time": "2021-08-06T23:43:20.968798",
     "exception": false,
     "start_time": "2021-08-06T23:43:20.938514",
     "status": "completed"
    },
    "tags": []
   },
   "source": [
    "# 5a.\n",
    "\n",
    "The boolean variables `ketchup`, `mustard` and `onion` represent whether a customer wants a particular topping on their hot dog. We want to implement a number of boolean functions that correspond to some yes-or-no questions about the customer's order. For example:"
   ]
  },
  {
   "cell_type": "code",
   "execution_count": 12,
   "id": "d2f73380",
   "metadata": {
    "execution": {
     "iopub.execute_input": "2021-08-06T23:43:21.032437Z",
     "iopub.status.busy": "2021-08-06T23:43:21.031838Z",
     "iopub.status.idle": "2021-08-06T23:43:21.035037Z",
     "shell.execute_reply": "2021-08-06T23:43:21.035497Z",
     "shell.execute_reply.started": "2021-08-06T23:42:55.835887Z"
    },
    "papermill": {
     "duration": 0.036643,
     "end_time": "2021-08-06T23:43:21.035662",
     "exception": false,
     "start_time": "2021-08-06T23:43:20.999019",
     "status": "completed"
    },
    "tags": []
   },
   "outputs": [],
   "source": [
    "def onionless(ketchup, mustard, onion):\n",
    "    \"\"\"Return whether the customer doesn't want onions.\n",
    "    \"\"\"\n",
    "    return not onion"
   ]
  },
  {
   "cell_type": "code",
   "execution_count": 13,
   "id": "6ad54d6f",
   "metadata": {
    "execution": {
     "iopub.execute_input": "2021-08-06T23:43:21.106966Z",
     "iopub.status.busy": "2021-08-06T23:43:21.105921Z",
     "iopub.status.idle": "2021-08-06T23:43:21.114286Z",
     "shell.execute_reply": "2021-08-06T23:43:21.114833Z",
     "shell.execute_reply.started": "2021-08-06T23:42:55.841770Z"
    },
    "papermill": {
     "duration": 0.049496,
     "end_time": "2021-08-06T23:43:21.115004",
     "exception": false,
     "start_time": "2021-08-06T23:43:21.065508",
     "status": "completed"
    },
    "tags": []
   },
   "outputs": [
    {
     "data": {
      "application/javascript": [
       "parent.postMessage({\"jupyterEvent\": \"custom.exercise_interaction\", \"data\": {\"outcomeType\": 1, \"valueTowardsCompletion\": 0.2, \"interactionType\": 1, \"questionType\": 2, \"questionId\": \"5.1_AllToppings\", \"learnToolsVersion\": \"0.3.4\", \"failureMessage\": \"\", \"exceptionClass\": \"\", \"trace\": \"\"}}, \"*\")"
      ],
      "text/plain": [
       "<IPython.core.display.Javascript object>"
      ]
     },
     "metadata": {},
     "output_type": "display_data"
    },
    {
     "data": {
      "text/markdown": [
       "<span style=\"color:#33cc33\">Correct</span>"
      ],
      "text/plain": [
       "Correct"
      ]
     },
     "metadata": {},
     "output_type": "display_data"
    }
   ],
   "source": [
    "def wants_all_toppings(ketchup, mustard, onion):\n",
    "    \"\"\"Return whether the customer wants \"the works\" (all 3 toppings)\n",
    "    \"\"\"\n",
    "    return ketchup and mustard and onion\n",
    "\n",
    "# Check your answer\n",
    "q5.a.check()"
   ]
  },
  {
   "cell_type": "code",
   "execution_count": 14,
   "id": "d36cf736",
   "metadata": {
    "execution": {
     "iopub.execute_input": "2021-08-06T23:43:21.191657Z",
     "iopub.status.busy": "2021-08-06T23:43:21.191098Z",
     "iopub.status.idle": "2021-08-06T23:43:21.199394Z",
     "shell.execute_reply": "2021-08-06T23:43:21.199812Z",
     "shell.execute_reply.started": "2021-08-06T23:42:55.858951Z"
    },
    "papermill": {
     "duration": 0.042746,
     "end_time": "2021-08-06T23:43:21.199965",
     "exception": false,
     "start_time": "2021-08-06T23:43:21.157219",
     "status": "completed"
    },
    "tags": []
   },
   "outputs": [
    {
     "data": {
      "application/javascript": [
       "parent.postMessage({\"jupyterEvent\": \"custom.exercise_interaction\", \"data\": {\"interactionType\": 2, \"questionType\": 2, \"questionId\": \"5.1_AllToppings\", \"learnToolsVersion\": \"0.3.4\", \"valueTowardsCompletion\": 0.0, \"failureMessage\": \"\", \"exceptionClass\": \"\", \"trace\": \"\", \"outcomeType\": 4}}, \"*\")"
      ],
      "text/plain": [
       "<IPython.core.display.Javascript object>"
      ]
     },
     "metadata": {},
     "output_type": "display_data"
    },
    {
     "data": {
      "text/markdown": [
       "<span style=\"color:#3366cc\">Hint:</span> You'll need to use the `and` operator."
      ],
      "text/plain": [
       "Hint: You'll need to use the `and` operator."
      ]
     },
     "metadata": {},
     "output_type": "display_data"
    },
    {
     "data": {
      "application/javascript": [
       "parent.postMessage({\"jupyterEvent\": \"custom.exercise_interaction\", \"data\": {\"interactionType\": 3, \"questionType\": 2, \"questionId\": \"5.1_AllToppings\", \"learnToolsVersion\": \"0.3.4\", \"valueTowardsCompletion\": 0.0, \"failureMessage\": \"\", \"exceptionClass\": \"\", \"trace\": \"\", \"outcomeType\": 4}}, \"*\")"
      ],
      "text/plain": [
       "<IPython.core.display.Javascript object>"
      ]
     },
     "metadata": {},
     "output_type": "display_data"
    },
    {
     "data": {
      "text/markdown": [
       "<span style=\"color:#33cc99\">Solution:</span> \n",
       "```python\n",
       "return ketchup and mustard and onion\n",
       "```"
      ],
      "text/plain": [
       "Solution: \n",
       "```python\n",
       "return ketchup and mustard and onion\n",
       "```"
      ]
     },
     "metadata": {},
     "output_type": "display_data"
    }
   ],
   "source": [
    "q5.a.hint()\n",
    "q5.a.solution()"
   ]
  },
  {
   "cell_type": "markdown",
   "id": "9e76c3f9",
   "metadata": {
    "papermill": {
     "duration": 0.03165,
     "end_time": "2021-08-06T23:43:21.265874",
     "exception": false,
     "start_time": "2021-08-06T23:43:21.234224",
     "status": "completed"
    },
    "tags": []
   },
   "source": [
    "# 5b.\n",
    "\n",
    "For the next function, fill in the body to match the English description in the docstring. "
   ]
  },
  {
   "cell_type": "code",
   "execution_count": 15,
   "id": "3b217503",
   "metadata": {
    "execution": {
     "iopub.execute_input": "2021-08-06T23:43:21.333002Z",
     "iopub.status.busy": "2021-08-06T23:43:21.332408Z",
     "iopub.status.idle": "2021-08-06T23:43:21.338266Z",
     "shell.execute_reply": "2021-08-06T23:43:21.338754Z",
     "shell.execute_reply.started": "2021-08-06T23:42:55.878720Z"
    },
    "papermill": {
     "duration": 0.040884,
     "end_time": "2021-08-06T23:43:21.338918",
     "exception": false,
     "start_time": "2021-08-06T23:43:21.298034",
     "status": "completed"
    },
    "tags": []
   },
   "outputs": [
    {
     "data": {
      "application/javascript": [
       "parent.postMessage({\"jupyterEvent\": \"custom.exercise_interaction\", \"data\": {\"outcomeType\": 1, \"valueTowardsCompletion\": 0.2, \"interactionType\": 1, \"questionType\": 2, \"questionId\": \"5.2_PlainDog\", \"learnToolsVersion\": \"0.3.4\", \"failureMessage\": \"\", \"exceptionClass\": \"\", \"trace\": \"\"}}, \"*\")"
      ],
      "text/plain": [
       "<IPython.core.display.Javascript object>"
      ]
     },
     "metadata": {},
     "output_type": "display_data"
    },
    {
     "data": {
      "text/markdown": [
       "<span style=\"color:#33cc33\">Correct:</span> \n",
       "\n",
       "One solution looks like:\n",
       "```python\n",
       "return not ketchup and not mustard and not onion\n",
       "```\n",
       "\n",
       "We can also [\"factor out\" the nots](https://en.wikipedia.org/wiki/De_Morgan%27s_laws) to get:\n",
       "\n",
       "```python\n",
       "return not (ketchup or mustard or onion)\n",
       "```"
      ],
      "text/plain": [
       "Correct: \n",
       "\n",
       "One solution looks like:\n",
       "```python\n",
       "return not ketchup and not mustard and not onion\n",
       "```\n",
       "\n",
       "We can also [\"factor out\" the nots](https://en.wikipedia.org/wiki/De_Morgan%27s_laws) to get:\n",
       "\n",
       "```python\n",
       "return not (ketchup or mustard or onion)\n",
       "```"
      ]
     },
     "metadata": {},
     "output_type": "display_data"
    }
   ],
   "source": [
    "def wants_plain_hotdog(ketchup, mustard, onion):\n",
    "    \"\"\"Return whether the customer wants a plain hot dog with no toppings.\n",
    "    \"\"\"\n",
    "    return not (ketchup or mustard or onion)\n",
    "\n",
    "# Check your answer\n",
    "q5.b.check()"
   ]
  },
  {
   "cell_type": "code",
   "execution_count": 16,
   "id": "21f70bf0",
   "metadata": {
    "execution": {
     "iopub.execute_input": "2021-08-06T23:43:21.407379Z",
     "iopub.status.busy": "2021-08-06T23:43:21.406754Z",
     "iopub.status.idle": "2021-08-06T23:43:21.410325Z",
     "shell.execute_reply": "2021-08-06T23:43:21.409801Z",
     "shell.execute_reply.started": "2021-08-06T23:42:55.889120Z"
    },
    "papermill": {
     "duration": 0.038657,
     "end_time": "2021-08-06T23:43:21.410484",
     "exception": false,
     "start_time": "2021-08-06T23:43:21.371827",
     "status": "completed"
    },
    "tags": []
   },
   "outputs": [],
   "source": [
    "#q5.b.hint()\n",
    "#q5.b.solution()"
   ]
  },
  {
   "cell_type": "markdown",
   "id": "9bffb4c6",
   "metadata": {
    "papermill": {
     "duration": 0.032484,
     "end_time": "2021-08-06T23:43:21.475916",
     "exception": false,
     "start_time": "2021-08-06T23:43:21.443432",
     "status": "completed"
    },
    "tags": []
   },
   "source": [
    "# 5c.\n",
    "\n",
    "You know what to do: for the next function, fill in the body to match the English description in the docstring."
   ]
  },
  {
   "cell_type": "code",
   "execution_count": 17,
   "id": "d1aa3417",
   "metadata": {
    "execution": {
     "iopub.execute_input": "2021-08-06T23:43:21.552519Z",
     "iopub.status.busy": "2021-08-06T23:43:21.551912Z",
     "iopub.status.idle": "2021-08-06T23:43:21.557724Z",
     "shell.execute_reply": "2021-08-06T23:43:21.558411Z",
     "shell.execute_reply.started": "2021-08-06T23:42:55.896156Z"
    },
    "papermill": {
     "duration": 0.049848,
     "end_time": "2021-08-06T23:43:21.558621",
     "exception": false,
     "start_time": "2021-08-06T23:43:21.508773",
     "status": "completed"
    },
    "tags": []
   },
   "outputs": [
    {
     "data": {
      "application/javascript": [
       "parent.postMessage({\"jupyterEvent\": \"custom.exercise_interaction\", \"data\": {\"outcomeType\": 1, \"valueTowardsCompletion\": 0.2, \"interactionType\": 1, \"questionType\": 2, \"questionId\": \"5.3_OneSauce\", \"learnToolsVersion\": \"0.3.4\", \"failureMessage\": \"\", \"exceptionClass\": \"\", \"trace\": \"\"}}, \"*\")"
      ],
      "text/plain": [
       "<IPython.core.display.Javascript object>"
      ]
     },
     "metadata": {},
     "output_type": "display_data"
    },
    {
     "data": {
      "text/markdown": [
       "<span style=\"color:#33cc33\">Correct</span>"
      ],
      "text/plain": [
       "Correct"
      ]
     },
     "metadata": {},
     "output_type": "display_data"
    }
   ],
   "source": [
    "def exactly_one_sauce(ketchup, mustard, onion):\n",
    "    \"\"\"Return whether the customer wants either ketchup or mustard, but not both.\n",
    "    (You may be familiar with this operation under the name \"exclusive or\")\n",
    "    \"\"\"\n",
    "    return (ketchup and not mustard) or (mustard and not ketchup)\n",
    "\n",
    "# Check your answer\n",
    "q5.c.check()"
   ]
  },
  {
   "cell_type": "code",
   "execution_count": 18,
   "id": "9ca71778",
   "metadata": {
    "execution": {
     "iopub.execute_input": "2021-08-06T23:43:21.633614Z",
     "iopub.status.busy": "2021-08-06T23:43:21.633026Z",
     "iopub.status.idle": "2021-08-06T23:43:21.644634Z",
     "shell.execute_reply": "2021-08-06T23:43:21.645086Z",
     "shell.execute_reply.started": "2021-08-06T23:42:55.910830Z"
    },
    "papermill": {
     "duration": 0.05035,
     "end_time": "2021-08-06T23:43:21.645245",
     "exception": false,
     "start_time": "2021-08-06T23:43:21.594895",
     "status": "completed"
    },
    "tags": []
   },
   "outputs": [
    {
     "data": {
      "application/javascript": [
       "parent.postMessage({\"jupyterEvent\": \"custom.exercise_interaction\", \"data\": {\"interactionType\": 2, \"questionType\": 2, \"questionId\": \"5.3_OneSauce\", \"learnToolsVersion\": \"0.3.4\", \"valueTowardsCompletion\": 0.0, \"failureMessage\": \"\", \"exceptionClass\": \"\", \"trace\": \"\", \"outcomeType\": 4}}, \"*\")"
      ],
      "text/plain": [
       "<IPython.core.display.Javascript object>"
      ]
     },
     "metadata": {},
     "output_type": "display_data"
    },
    {
     "data": {
      "text/markdown": [
       "<span style=\"color:#3366cc\">Hint:</span> There are exactly two ways to set ketchup and mustard to make this true. What are they?"
      ],
      "text/plain": [
       "Hint: There are exactly two ways to set ketchup and mustard to make this true. What are they?"
      ]
     },
     "metadata": {},
     "output_type": "display_data"
    },
    {
     "data": {
      "application/javascript": [
       "parent.postMessage({\"jupyterEvent\": \"custom.exercise_interaction\", \"data\": {\"interactionType\": 3, \"questionType\": 2, \"questionId\": \"5.3_OneSauce\", \"learnToolsVersion\": \"0.3.4\", \"valueTowardsCompletion\": 0.0, \"failureMessage\": \"\", \"exceptionClass\": \"\", \"trace\": \"\", \"outcomeType\": 4}}, \"*\")"
      ],
      "text/plain": [
       "<IPython.core.display.Javascript object>"
      ]
     },
     "metadata": {},
     "output_type": "display_data"
    },
    {
     "data": {
      "text/markdown": [
       "<span style=\"color:#33cc99\">Solution:</span> \n",
       "```python\n",
       "return (ketchup and not mustard) or (mustard and not ketchup)\n",
       "```"
      ],
      "text/plain": [
       "Solution: \n",
       "```python\n",
       "return (ketchup and not mustard) or (mustard and not ketchup)\n",
       "```"
      ]
     },
     "metadata": {},
     "output_type": "display_data"
    }
   ],
   "source": [
    "q5.c.hint()\n",
    "q5.c.solution()"
   ]
  },
  {
   "cell_type": "markdown",
   "id": "c19882d8",
   "metadata": {
    "papermill": {
     "duration": 0.034552,
     "end_time": "2021-08-06T23:43:21.714988",
     "exception": false,
     "start_time": "2021-08-06T23:43:21.680436",
     "status": "completed"
    },
    "tags": []
   },
   "source": [
    "# 6. <span title=\"A bit spicy\" style=\"color: darkgreen \">🌶️</span>\n",
    "\n",
    "We’ve seen that calling `bool()` on an integer returns `False` if it’s equal to 0 and `True` otherwise. What happens if we call `int()` on a bool? Try it out in the notebook cell below.\n",
    "\n",
    "Can you take advantage of this to write a succinct function that corresponds to the English sentence \"does the customer want exactly one topping?\"?"
   ]
  },
  {
   "cell_type": "code",
   "execution_count": 19,
   "id": "b7d7dff9",
   "metadata": {
    "execution": {
     "iopub.execute_input": "2021-08-06T23:43:21.789874Z",
     "iopub.status.busy": "2021-08-06T23:43:21.789282Z",
     "iopub.status.idle": "2021-08-06T23:43:21.794127Z",
     "shell.execute_reply": "2021-08-06T23:43:21.794596Z",
     "shell.execute_reply.started": "2021-08-06T23:42:55.925906Z"
    },
    "papermill": {
     "duration": 0.044712,
     "end_time": "2021-08-06T23:43:21.794753",
     "exception": false,
     "start_time": "2021-08-06T23:43:21.750041",
     "status": "completed"
    },
    "tags": []
   },
   "outputs": [
    {
     "data": {
      "application/javascript": [
       "parent.postMessage({\"jupyterEvent\": \"custom.exercise_interaction\", \"data\": {\"outcomeType\": 1, \"valueTowardsCompletion\": 0.2, \"interactionType\": 1, \"questionType\": 2, \"questionId\": \"6_OneTopping\", \"learnToolsVersion\": \"0.3.4\", \"failureMessage\": \"\", \"exceptionClass\": \"\", \"trace\": \"\"}}, \"*\")"
      ],
      "text/plain": [
       "<IPython.core.display.Javascript object>"
      ]
     },
     "metadata": {},
     "output_type": "display_data"
    },
    {
     "data": {
      "text/markdown": [
       "<span style=\"color:#33cc33\">Correct:</span> \n",
       "\n",
       "This condition would be pretty complicated to express using just `and`, `or` and `not`, but using boolean-to-integer conversion gives us this short solution:\n",
       "```python\n",
       "return (int(ketchup) + int(mustard) + int(onion)) == 1\n",
       "```\n",
       "\n",
       "Fun fact: we don't technically need to call `int` on the arguments. Just by doing addition with booleans, Python implicitly does the integer conversion. So we could also write...\n",
       "\n",
       "```python\n",
       "return (ketchup + mustard + onion) == 1\n",
       "```"
      ],
      "text/plain": [
       "Correct: \n",
       "\n",
       "This condition would be pretty complicated to express using just `and`, `or` and `not`, but using boolean-to-integer conversion gives us this short solution:\n",
       "```python\n",
       "return (int(ketchup) + int(mustard) + int(onion)) == 1\n",
       "```\n",
       "\n",
       "Fun fact: we don't technically need to call `int` on the arguments. Just by doing addition with booleans, Python implicitly does the integer conversion. So we could also write...\n",
       "\n",
       "```python\n",
       "return (ketchup + mustard + onion) == 1\n",
       "```"
      ]
     },
     "metadata": {},
     "output_type": "display_data"
    }
   ],
   "source": [
    "def exactly_one_topping(ketchup, mustard, onion):\n",
    "    \"\"\"Return whether the customer wants exactly one of the three available toppings\n",
    "    on their hot dog.\n",
    "    \"\"\"\n",
    "#     return ketchup and not mustard and not onion or \\\n",
    "#         not ketchup and mustard and not onion or \\\n",
    "#         not ketchup and not mustard and onion\n",
    "    return int(ketchup) + int(mustard) + int(onion) == 1\n",
    "\n",
    "# Check your answer\n",
    "q6.check()"
   ]
  },
  {
   "cell_type": "code",
   "execution_count": 20,
   "id": "8a446862",
   "metadata": {
    "execution": {
     "iopub.execute_input": "2021-08-06T23:43:21.869959Z",
     "iopub.status.busy": "2021-08-06T23:43:21.869219Z",
     "iopub.status.idle": "2021-08-06T23:43:21.872010Z",
     "shell.execute_reply": "2021-08-06T23:43:21.872423Z",
     "shell.execute_reply.started": "2021-08-06T23:42:55.937678Z"
    },
    "papermill": {
     "duration": 0.042304,
     "end_time": "2021-08-06T23:43:21.872583",
     "exception": false,
     "start_time": "2021-08-06T23:43:21.830279",
     "status": "completed"
    },
    "tags": []
   },
   "outputs": [],
   "source": [
    "#q6.hint()\n",
    "#q6.solution()"
   ]
  },
  {
   "cell_type": "markdown",
   "id": "5b5a7506",
   "metadata": {
    "papermill": {
     "duration": 0.035924,
     "end_time": "2021-08-06T23:43:21.944420",
     "exception": false,
     "start_time": "2021-08-06T23:43:21.908496",
     "status": "completed"
    },
    "tags": []
   },
   "source": [
    "# 7. <span title=\"A bit spicy\" style=\"color: darkgreen \">🌶️</span> (Optional)\n",
    "\n",
    "In this problem we'll be working with a simplified version of [blackjack](https://en.wikipedia.org/wiki/Blackjack) (aka twenty-one). In this version there is one player (who you'll control) and a dealer. Play proceeds as follows:\n",
    "\n",
    "- The player is dealt two face-up cards. The dealer is dealt one face-up card.\n",
    "- The player may ask to be dealt another card ('hit') as many times as they wish. If the sum of their cards exceeds 21, they lose the round immediately.\n",
    "- The dealer then deals additional cards to himself until either:\n",
    "    - the sum of the dealer's cards exceeds 21, in which case the player wins the round\n",
    "    - the sum of the dealer's cards is greater than or equal to 17. If the player's total is greater than the dealer's, the player wins. Otherwise, the dealer wins (even in case of a tie).\n",
    "    \n",
    "When calculating the sum of cards, Jack, Queen, and King count for 10. Aces can count as 1 or 11 (when referring to a player's \"total\" above, we mean the largest total that can be made without exceeding 21. So e.g. A+8 = 19, A+8+8 = 17)\n",
    "\n",
    "For this problem, you'll write a function representing the player's decision-making strategy in this game. We've provided a very unintelligent implementation below:"
   ]
  },
  {
   "cell_type": "code",
   "execution_count": 21,
   "id": "845f4f10",
   "metadata": {
    "execution": {
     "iopub.execute_input": "2021-08-06T23:43:22.022857Z",
     "iopub.status.busy": "2021-08-06T23:43:22.021959Z",
     "iopub.status.idle": "2021-08-06T23:43:22.027379Z",
     "shell.execute_reply": "2021-08-06T23:43:22.028157Z",
     "shell.execute_reply.started": "2021-08-06T23:42:55.946031Z"
    },
    "papermill": {
     "duration": 0.048069,
     "end_time": "2021-08-06T23:43:22.028468",
     "exception": false,
     "start_time": "2021-08-06T23:43:21.980399",
     "status": "completed"
    },
    "tags": []
   },
   "outputs": [],
   "source": [
    "def should_hit(dealer_total, player_total, player_low_aces, player_high_aces):\n",
    "    \"\"\"Return True if the player should hit (request another card) given the current game\n",
    "    state, or False if the player should stay.\n",
    "    When calculating a hand's total value, we count aces as \"high\" (with value 11) if doing so\n",
    "    doesn't bring the total above 21, otherwise we count them as low (with value 1). \n",
    "    For example, if the player's hand is {A, A, A, 7}, we will count it as 11 + 1 + 1 + 7,\n",
    "    and therefore set player_total=20, player_low_aces=2, player_high_aces=1.\n",
    "    \"\"\"\n",
    "    return False"
   ]
  },
  {
   "cell_type": "markdown",
   "id": "e30d811f",
   "metadata": {
    "papermill": {
     "duration": 0.040284,
     "end_time": "2021-08-06T23:43:22.111419",
     "exception": false,
     "start_time": "2021-08-06T23:43:22.071135",
     "status": "completed"
    },
    "tags": []
   },
   "source": [
    "This very conservative agent *always* sticks with the hand of two cards that they're dealt.\n",
    "\n",
    "We'll be simulating games between your player agent and our own dealer agent by calling your function.\n",
    "\n",
    "Try running the function below to see an example of a simulated game:"
   ]
  },
  {
   "cell_type": "code",
   "execution_count": 22,
   "id": "c4006e69",
   "metadata": {
    "execution": {
     "iopub.execute_input": "2021-08-06T23:43:22.186473Z",
     "iopub.status.busy": "2021-08-06T23:43:22.185897Z",
     "iopub.status.idle": "2021-08-06T23:43:22.192410Z",
     "shell.execute_reply": "2021-08-06T23:43:22.191929Z",
     "shell.execute_reply.started": "2021-08-06T23:42:55.956432Z"
    },
    "papermill": {
     "duration": 0.044566,
     "end_time": "2021-08-06T23:43:22.192540",
     "exception": false,
     "start_time": "2021-08-06T23:43:22.147974",
     "status": "completed"
    },
    "tags": []
   },
   "outputs": [
    {
     "name": "stdout",
     "output_type": "stream",
     "text": [
      "Player starts with 4 and 6 (total = 10)\n",
      "Dealer starts with 8\n",
      "\n",
      "__Player's turn__\n",
      "Player stays\n",
      "\n",
      "__Dealer's turn__\n",
      "Dealer hits and receives K. (total = 18)\n",
      "Dealer stands.\n",
      "Dealer wins. 18 >= 10\n"
     ]
    }
   ],
   "source": [
    "q7.simulate_one_game()"
   ]
  },
  {
   "cell_type": "markdown",
   "id": "1a39a48e",
   "metadata": {
    "papermill": {
     "duration": 0.036198,
     "end_time": "2021-08-06T23:43:22.265991",
     "exception": false,
     "start_time": "2021-08-06T23:43:22.229793",
     "status": "completed"
    },
    "tags": []
   },
   "source": [
    "The real test of your agent's mettle is their average win rate over many games. Try calling the function below to simulate 50000 games of blackjack (it may take a couple seconds):"
   ]
  },
  {
   "cell_type": "code",
   "execution_count": 23,
   "id": "07b17399",
   "metadata": {
    "execution": {
     "iopub.execute_input": "2021-08-06T23:43:22.366838Z",
     "iopub.status.busy": "2021-08-06T23:43:22.361807Z",
     "iopub.status.idle": "2021-08-06T23:43:23.597473Z",
     "shell.execute_reply": "2021-08-06T23:43:23.597866Z",
     "shell.execute_reply.started": "2021-08-06T23:42:55.969903Z"
    },
    "papermill": {
     "duration": 1.295798,
     "end_time": "2021-08-06T23:43:23.598041",
     "exception": false,
     "start_time": "2021-08-06T23:43:22.302243",
     "status": "completed"
    },
    "tags": []
   },
   "outputs": [
    {
     "name": "stdout",
     "output_type": "stream",
     "text": [
      "Player won 19082 out of 50000 games (win rate = 38.2%)\n"
     ]
    }
   ],
   "source": [
    "q7.simulate(n_games=50000)"
   ]
  },
  {
   "cell_type": "markdown",
   "id": "905b9233",
   "metadata": {
    "papermill": {
     "duration": 0.036456,
     "end_time": "2021-08-06T23:43:23.671362",
     "exception": false,
     "start_time": "2021-08-06T23:43:23.634906",
     "status": "completed"
    },
    "tags": []
   },
   "source": [
    "Our dumb agent that completely ignores the game state still manages to win shockingly often!\n",
    "\n",
    "Try adding some more smarts to the `should_hit` function and see how it affects the results."
   ]
  },
  {
   "cell_type": "code",
   "execution_count": 24,
   "id": "614a68c7",
   "metadata": {
    "execution": {
     "iopub.execute_input": "2021-08-06T23:43:23.753008Z",
     "iopub.status.busy": "2021-08-06T23:43:23.752294Z",
     "iopub.status.idle": "2021-08-06T23:43:24.975711Z",
     "shell.execute_reply": "2021-08-06T23:43:24.976348Z",
     "shell.execute_reply.started": "2021-08-06T23:42:57.974615Z"
    },
    "papermill": {
     "duration": 1.268656,
     "end_time": "2021-08-06T23:43:24.976577",
     "exception": false,
     "start_time": "2021-08-06T23:43:23.707921",
     "status": "completed"
    },
    "tags": []
   },
   "outputs": [
    {
     "name": "stdout",
     "output_type": "stream",
     "text": [
      "Player won 18976 out of 50000 games (win rate = 38.0%)\n"
     ]
    }
   ],
   "source": [
    "def should_hit(dealer_total, player_total, player_low_aces, player_high_aces):\n",
    "    \"\"\"Return True if the player should hit (request another card) given the current game\n",
    "    state, or False if the player should stay.\n",
    "    When calculating a hand's total value, we count aces as \"high\" (with value 11) if doing so\n",
    "    doesn't bring the total above 21, otherwise we count them as low (with value 1). \n",
    "    For example, if the player's hand is {A, A, A, 7}, we will count it as 11 + 1 + 1 + 7,\n",
    "    and therefore set player_total=20, player_low_aces=2, player_high_aces=1.\n",
    "    \"\"\"\n",
    "    return False\n",
    "\n",
    "q7.simulate(n_games=50000)"
   ]
  },
  {
   "cell_type": "markdown",
   "id": "bbbec6b6",
   "metadata": {
    "papermill": {
     "duration": 0.03646,
     "end_time": "2021-08-06T23:43:25.050698",
     "exception": false,
     "start_time": "2021-08-06T23:43:25.014238",
     "status": "completed"
    },
    "tags": []
   },
   "source": [
    "# Keep Going\n",
    "\n",
    "Learn about **[lists and tuples](https://www.kaggle.com/colinmorris/lists)** to handle multiple items of data in a systematic way."
   ]
  },
  {
   "cell_type": "markdown",
   "id": "6f14cf51",
   "metadata": {
    "papermill": {
     "duration": 0.036193,
     "end_time": "2021-08-06T23:43:25.123364",
     "exception": false,
     "start_time": "2021-08-06T23:43:25.087171",
     "status": "completed"
    },
    "tags": []
   },
   "source": [
    "---\n",
    "\n",
    "\n",
    "\n",
    "\n",
    "*Have questions or comments? Visit the [Learn Discussion forum](https://www.kaggle.com/learn-forum/161283) to chat with other Learners.*"
   ]
  }
 ],
 "metadata": {
  "kernelspec": {
   "display_name": "Python 3",
   "language": "python",
   "name": "python3"
  },
  "language_info": {
   "codemirror_mode": {
    "name": "ipython",
    "version": 3
   },
   "file_extension": ".py",
   "mimetype": "text/x-python",
   "name": "python",
   "nbconvert_exporter": "python",
   "pygments_lexer": "ipython3",
   "version": "3.7.10"
  },
  "papermill": {
   "default_parameters": {},
   "duration": 13.763158,
   "end_time": "2021-08-06T23:43:26.631607",
   "environment_variables": {},
   "exception": null,
   "input_path": "__notebook__.ipynb",
   "output_path": "__notebook__.ipynb",
   "parameters": {},
   "start_time": "2021-08-06T23:43:12.868449",
   "version": "2.3.3"
  }
 },
 "nbformat": 4,
 "nbformat_minor": 5
}
