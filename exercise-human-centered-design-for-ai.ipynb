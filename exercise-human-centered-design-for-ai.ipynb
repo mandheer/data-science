{
 "cells": [
  {
   "cell_type": "markdown",
   "id": "b024ce5b",
   "metadata": {
    "papermill": {
     "duration": 0.012751,
     "end_time": "2021-08-15T21:37:34.492819",
     "exception": false,
     "start_time": "2021-08-15T21:37:34.480068",
     "status": "completed"
    },
    "tags": []
   },
   "source": [
    "**This notebook is an exercise in the [AI Ethics](https://www.kaggle.com/learn/ai-ethics) course.  You can reference the tutorial at [this link](https://www.kaggle.com/var0101/human-centered-design-for-ai).**\n",
    "\n",
    "---\n"
   ]
  },
  {
   "cell_type": "markdown",
   "id": "0dc4ceb2",
   "metadata": {
    "papermill": {
     "duration": 0.011627,
     "end_time": "2021-08-15T21:37:34.516567",
     "exception": false,
     "start_time": "2021-08-15T21:37:34.504940",
     "status": "completed"
    },
    "tags": []
   },
   "source": [
    "In the tutorial, you learned about human-centered design (HCD) and became familiar with six general steps to apply it to AI systems. In this exercise, you will identify and address design issues in six interesting AI use cases. \n",
    "\n",
    "# Introduction\n",
    "\n",
    "Begin by running the next code cell.  \n",
    "- Clicking inside the code cell.\n",
    "- Click on the triangle (in the shape of a \"Play button\") that appears to the left of the code cell.\n",
    "- If your code is run successfully, you will see `Setup Complete` as output below the cell."
   ]
  },
  {
   "cell_type": "code",
   "execution_count": 1,
   "id": "2a7e5613",
   "metadata": {
    "execution": {
     "iopub.execute_input": "2021-08-15T21:37:34.552141Z",
     "iopub.status.busy": "2021-08-15T21:37:34.551268Z",
     "iopub.status.idle": "2021-08-15T21:37:34.677958Z",
     "shell.execute_reply": "2021-08-15T21:37:34.677263Z",
     "shell.execute_reply.started": "2021-08-15T21:36:46.485762Z"
    },
    "papermill": {
     "duration": 0.149826,
     "end_time": "2021-08-15T21:37:34.678135",
     "exception": false,
     "start_time": "2021-08-15T21:37:34.528309",
     "status": "completed"
    },
    "tags": []
   },
   "outputs": [
    {
     "name": "stdout",
     "output_type": "stream",
     "text": [
      "Setup Complete\n"
     ]
    }
   ],
   "source": [
    "# Set up feedback system\n",
    "from learntools.core import binder\n",
    "binder.bind(globals())\n",
    "from learntools.ethics.ex2 import *\n",
    "print(\"Setup Complete\")"
   ]
  },
  {
   "cell_type": "markdown",
   "id": "6cbb53a8",
   "metadata": {
    "papermill": {
     "duration": 0.011839,
     "end_time": "2021-08-15T21:37:34.702656",
     "exception": false,
     "start_time": "2021-08-15T21:37:34.690817",
     "status": "completed"
    },
    "tags": []
   },
   "source": [
    "# 1) Reducing plastic waste\n",
    "\n",
    "A Cambodian organization wants to help reduce the significant amounts of plastic waste that pollute the Mekong River System. Which of the following would be an appropriate way to start?  (Your answer might use more than one option.)\n",
    " \n",
    "- Watch the people currently addressing the problem as they navigate existing tools and processes.\n",
    "- Conduct individual interviews with the people currently addressing the problem.\n",
    "- Assemble focus groups that consist of people currently addressing the problem.\n",
    "\n",
    "After you have answered the question, view the official solution by running the code cell below."
   ]
  },
  {
   "cell_type": "code",
   "execution_count": 2,
   "id": "2b39709b",
   "metadata": {
    "execution": {
     "iopub.execute_input": "2021-08-15T21:37:34.740460Z",
     "iopub.status.busy": "2021-08-15T21:37:34.739399Z",
     "iopub.status.idle": "2021-08-15T21:37:34.746232Z",
     "shell.execute_reply": "2021-08-15T21:37:34.745602Z",
     "shell.execute_reply.started": "2021-08-15T21:36:50.727222Z"
    },
    "papermill": {
     "duration": 0.031318,
     "end_time": "2021-08-15T21:37:34.746385",
     "exception": false,
     "start_time": "2021-08-15T21:37:34.715067",
     "status": "completed"
    },
    "tags": []
   },
   "outputs": [
    {
     "data": {
      "application/javascript": [
       "parent.postMessage({\"jupyterEvent\": \"custom.exercise_interaction\", \"data\": {\"outcomeType\": 1, \"valueTowardsCompletion\": 0.16666666666666666, \"interactionType\": 1, \"questionType\": 4, \"questionId\": \"1_ReduceWaste\", \"learnToolsVersion\": \"0.3.4\", \"failureMessage\": \"\", \"exceptionClass\": \"\", \"trace\": \"\"}}, \"*\")"
      ],
      "text/plain": [
       "<IPython.core.display.Javascript object>"
      ]
     },
     "metadata": {},
     "output_type": "display_data"
    },
    {
     "data": {
      "text/markdown": [
       "<span style=\"color:#33cc33\">Solution:</span> These are all good ways to start!"
      ],
      "text/plain": [
       "Solution: These are all good ways to start!"
      ]
     },
     "metadata": {},
     "output_type": "display_data"
    }
   ],
   "source": [
    "# Check your answer (Run this code cell to receive credit!)\n",
    "q_1.check()"
   ]
  },
  {
   "cell_type": "markdown",
   "id": "57c6b321",
   "metadata": {
    "papermill": {
     "duration": 0.017511,
     "end_time": "2021-08-15T21:37:34.779015",
     "exception": false,
     "start_time": "2021-08-15T21:37:34.761504",
     "status": "completed"
    },
    "tags": []
   },
   "source": [
    "# 2) Detecting breast cancer\n",
    "\n",
    "Pathologists try to detect breast cancer by examining cells on tissue slides under microscopes. This tiring and repetitive work requires an expert eye. Your team wants to create a technology solution that helps pathologists with this task in real-time, using a camera. However, due to the complexity of the work, your team has not found rule-based systems to be capable of adding value to the review of images. \n",
    "\n",
    "Would AI add value to a potential solution? Why or why not?"
   ]
  },
  {
   "cell_type": "code",
   "execution_count": 3,
   "id": "d727b062",
   "metadata": {
    "execution": {
     "iopub.execute_input": "2021-08-15T21:37:34.811630Z",
     "iopub.status.busy": "2021-08-15T21:37:34.810856Z",
     "iopub.status.idle": "2021-08-15T21:37:34.818737Z",
     "shell.execute_reply": "2021-08-15T21:37:34.818170Z",
     "shell.execute_reply.started": "2021-08-15T21:36:55.469716Z"
    },
    "papermill": {
     "duration": 0.025823,
     "end_time": "2021-08-15T21:37:34.818877",
     "exception": false,
     "start_time": "2021-08-15T21:37:34.793054",
     "status": "completed"
    },
    "tags": []
   },
   "outputs": [
    {
     "data": {
      "application/javascript": [
       "parent.postMessage({\"jupyterEvent\": \"custom.exercise_interaction\", \"data\": {\"outcomeType\": 1, \"valueTowardsCompletion\": 0.16666666666666666, \"interactionType\": 1, \"questionType\": 4, \"questionId\": \"2_DetectCancer\", \"learnToolsVersion\": \"0.3.4\", \"failureMessage\": \"\", \"exceptionClass\": \"\", \"trace\": \"\"}}, \"*\")"
      ],
      "text/plain": [
       "<IPython.core.display.Javascript object>"
      ]
     },
     "metadata": {},
     "output_type": "display_data"
    },
    {
     "data": {
      "text/markdown": [
       "<span style=\"color:#33cc33\">Solution:</span> Yes, it would. People would generally agree that the goal is desirable, especially since the AI system will be working with pathologists rather than in their place. AI can help people with repetitive tasks and AI systems have proven effective in similar medical image recognition use cases. That said, it is important to follow current industry best practices and to be thorough in the rest of the design process, including in analyzing harms and in considering how medical practitioners will actually interact with the product in a medical setting."
      ],
      "text/plain": [
       "Solution: Yes, it would. People would generally agree that the goal is desirable, especially since the AI system will be working with pathologists rather than in their place. AI can help people with repetitive tasks and AI systems have proven effective in similar medical image recognition use cases. That said, it is important to follow current industry best practices and to be thorough in the rest of the design process, including in analyzing harms and in considering how medical practitioners will actually interact with the product in a medical setting."
      ]
     },
     "metadata": {},
     "output_type": "display_data"
    }
   ],
   "source": [
    "# Check your answer (Run this code cell to receive credit!)\n",
    "q_2.check()"
   ]
  },
  {
   "cell_type": "markdown",
   "id": "60ac5848",
   "metadata": {
    "papermill": {
     "duration": 0.015888,
     "end_time": "2021-08-15T21:37:34.848953",
     "exception": false,
     "start_time": "2021-08-15T21:37:34.833065",
     "status": "completed"
    },
    "tags": []
   },
   "source": [
    "# 3) Flagging suspicious activity \n",
    "\n",
    "A bank is using AI to flag suspicious international money transfers for potential money laundering, anti-terrorist financing or sanctions concerns. Though the system has proven more effective than the bank’s current processes, it still frequently flags legitimate transactions for review. \n",
    "\n",
    "What are some potential harms that the system could cause, and how can the bank reduce the impacts of these potential harms?"
   ]
  },
  {
   "cell_type": "code",
   "execution_count": 4,
   "id": "6208b84c",
   "metadata": {
    "execution": {
     "iopub.execute_input": "2021-08-15T21:37:34.882564Z",
     "iopub.status.busy": "2021-08-15T21:37:34.881870Z",
     "iopub.status.idle": "2021-08-15T21:37:34.886443Z",
     "shell.execute_reply": "2021-08-15T21:37:34.885830Z",
     "shell.execute_reply.started": "2021-08-15T21:36:59.441251Z"
    },
    "papermill": {
     "duration": 0.023335,
     "end_time": "2021-08-15T21:37:34.886578",
     "exception": false,
     "start_time": "2021-08-15T21:37:34.863243",
     "status": "completed"
    },
    "tags": []
   },
   "outputs": [
    {
     "data": {
      "application/javascript": [
       "parent.postMessage({\"jupyterEvent\": \"custom.exercise_interaction\", \"data\": {\"outcomeType\": 1, \"valueTowardsCompletion\": 0.16666666666666666, \"interactionType\": 1, \"questionType\": 4, \"questionId\": \"3_FlagActivity\", \"learnToolsVersion\": \"0.3.4\", \"failureMessage\": \"\", \"exceptionClass\": \"\", \"trace\": \"\"}}, \"*\")"
      ],
      "text/plain": [
       "<IPython.core.display.Javascript object>"
      ]
     },
     "metadata": {},
     "output_type": "display_data"
    },
    {
     "data": {
      "text/markdown": [
       "<span style=\"color:#33cc33\">Solution:</span> One potential harm is that the AI system could be biased against certain groups, flagging, delaying or denying their legitimate transactions at higher rates than those of other groups. The bank can reduce these harms by selecting data carefully, identifying and mitigating potential bias (see Lessons 3 and 4), not operationalizing the system until potential bias is addressed and ensuring appropriate and continuous human oversight of the system once it is operational."
      ],
      "text/plain": [
       "Solution: One potential harm is that the AI system could be biased against certain groups, flagging, delaying or denying their legitimate transactions at higher rates than those of other groups. The bank can reduce these harms by selecting data carefully, identifying and mitigating potential bias (see Lessons 3 and 4), not operationalizing the system until potential bias is addressed and ensuring appropriate and continuous human oversight of the system once it is operational."
      ]
     },
     "metadata": {},
     "output_type": "display_data"
    }
   ],
   "source": [
    "# Check your answer (Run this code cell to receive credit!)\n",
    "q_3.check()"
   ]
  },
  {
   "cell_type": "markdown",
   "id": "eca00ccf",
   "metadata": {
    "papermill": {
     "duration": 0.014718,
     "end_time": "2021-08-15T21:37:34.916590",
     "exception": false,
     "start_time": "2021-08-15T21:37:34.901872",
     "status": "completed"
    },
    "tags": []
   },
   "source": [
    "# 4) Prototyping a chatbot\n",
    "\n",
    "During an ongoing pandemic outbreak, a country’s public health agency is facing a large volume of phone calls and e-mails from people looking for health information. The agency has determined that an AI-powered interactive chatbot that answers pandemic-related questions would help people get the specific information they want quickly, while reducing the burden on the agency’s employees. How should the agency start prototyping the chatbot?\n",
    "- Build out the AI solution to the best of its ability before testing it with a diverse group of potential users.\n",
    "- Build a non-AI prototype quickly and start testing it with a diverse group of potential users."
   ]
  },
  {
   "cell_type": "code",
   "execution_count": 5,
   "id": "109fc8e5",
   "metadata": {
    "execution": {
     "iopub.execute_input": "2021-08-15T21:37:34.951506Z",
     "iopub.status.busy": "2021-08-15T21:37:34.950796Z",
     "iopub.status.idle": "2021-08-15T21:37:34.955689Z",
     "shell.execute_reply": "2021-08-15T21:37:34.956146Z",
     "shell.execute_reply.started": "2021-08-15T21:37:04.007681Z"
    },
    "papermill": {
     "duration": 0.024746,
     "end_time": "2021-08-15T21:37:34.956316",
     "exception": false,
     "start_time": "2021-08-15T21:37:34.931570",
     "status": "completed"
    },
    "tags": []
   },
   "outputs": [
    {
     "data": {
      "application/javascript": [
       "parent.postMessage({\"jupyterEvent\": \"custom.exercise_interaction\", \"data\": {\"outcomeType\": 1, \"valueTowardsCompletion\": 0.16666666666666666, \"interactionType\": 1, \"questionType\": 4, \"questionId\": \"4_PrototypeChatbot\", \"learnToolsVersion\": \"0.3.4\", \"failureMessage\": \"\", \"exceptionClass\": \"\", \"trace\": \"\"}}, \"*\")"
      ],
      "text/plain": [
       "<IPython.core.display.Javascript object>"
      ]
     },
     "metadata": {},
     "output_type": "display_data"
    },
    {
     "data": {
      "text/markdown": [
       "<span style=\"color:#33cc33\">Solution:</span> The correct answer is: Build a non-AI prototype quickly and start testing it with a diverse group of potential users. Iterating on a non-AI prototype is easier, faster and less expensive than iterating on an AI prototype. Iterating on a non-AI prototype also provides early information on user expectations, interactions and needs. This information should inform the eventual design of AI prototypes."
      ],
      "text/plain": [
       "Solution: The correct answer is: Build a non-AI prototype quickly and start testing it with a diverse group of potential users. Iterating on a non-AI prototype is easier, faster and less expensive than iterating on an AI prototype. Iterating on a non-AI prototype also provides early information on user expectations, interactions and needs. This information should inform the eventual design of AI prototypes."
      ]
     },
     "metadata": {},
     "output_type": "display_data"
    }
   ],
   "source": [
    "# Check your answer (Run this code cell to receive credit!)\n",
    "q_4.check()"
   ]
  },
  {
   "cell_type": "markdown",
   "id": "326f6c0b",
   "metadata": {
    "papermill": {
     "duration": 0.015688,
     "end_time": "2021-08-15T21:37:34.988216",
     "exception": false,
     "start_time": "2021-08-15T21:37:34.972528",
     "status": "completed"
    },
    "tags": []
   },
   "source": [
    "# 5) Detecting misinformation\n",
    "\n",
    "A social media platform is planning to deploy a new AI system to flag and remove social media messages containing misinformation. Though the system has proven effective in tests, it sometimes flags non-objectionable content as misinformation. \n",
    "\n",
    "What are some ways in which the social media platform could allow someone whose message has been flagged to contest the misinformation designation?"
   ]
  },
  {
   "cell_type": "code",
   "execution_count": 6,
   "id": "9ed1650c",
   "metadata": {
    "execution": {
     "iopub.execute_input": "2021-08-15T21:37:35.026495Z",
     "iopub.status.busy": "2021-08-15T21:37:35.025775Z",
     "iopub.status.idle": "2021-08-15T21:37:35.032196Z",
     "shell.execute_reply": "2021-08-15T21:37:35.031648Z",
     "shell.execute_reply.started": "2021-08-15T21:37:06.944583Z"
    },
    "papermill": {
     "duration": 0.028101,
     "end_time": "2021-08-15T21:37:35.032356",
     "exception": false,
     "start_time": "2021-08-15T21:37:35.004255",
     "status": "completed"
    },
    "tags": []
   },
   "outputs": [
    {
     "data": {
      "application/javascript": [
       "parent.postMessage({\"jupyterEvent\": \"custom.exercise_interaction\", \"data\": {\"outcomeType\": 1, \"valueTowardsCompletion\": 0.16666666666666666, \"interactionType\": 1, \"questionType\": 4, \"questionId\": \"5_DetectMisinformation\", \"learnToolsVersion\": \"0.3.4\", \"failureMessage\": \"\", \"exceptionClass\": \"\", \"trace\": \"\"}}, \"*\")"
      ],
      "text/plain": [
       "<IPython.core.display.Javascript object>"
      ]
     },
     "metadata": {},
     "output_type": "display_data"
    },
    {
     "data": {
      "text/markdown": [
       "<span style=\"color:#33cc33\">Solution:</span> The social media company should ask customers how they would want to challenge a determination. It could be by easily accessing a challenge form on which a user can describe why their message does not contain misinformation, requesting further review by a human reviewer, requesting an explanation of why the content was flagged or a combination of these and other means."
      ],
      "text/plain": [
       "Solution: The social media company should ask customers how they would want to challenge a determination. It could be by easily accessing a challenge form on which a user can describe why their message does not contain misinformation, requesting further review by a human reviewer, requesting an explanation of why the content was flagged or a combination of these and other means."
      ]
     },
     "metadata": {},
     "output_type": "display_data"
    }
   ],
   "source": [
    "# Check your answer (Run this code cell to receive credit!)\n",
    "q_5.check()"
   ]
  },
  {
   "cell_type": "markdown",
   "id": "f9054b58",
   "metadata": {
    "papermill": {
     "duration": 0.016757,
     "end_time": "2021-08-15T21:37:35.067711",
     "exception": false,
     "start_time": "2021-08-15T21:37:35.050954",
     "status": "completed"
    },
    "tags": []
   },
   "source": [
    "# 6) Improving autonomous vehicles\n",
    "\n",
    "What are some of the ways to improve the safety of autonomous vehicles?  (You might pick more than one option.)\n",
    "- Incorporate the safety features of regular vehicles.\n",
    "- Test the system in a variety of environments.\n",
    "- Hire an internal ‘red team’ to play the role of bad actors seeking to manipulate the autonomous driving system. Strengthen the system against the team’s attacks on an ongoing basis."
   ]
  },
  {
   "cell_type": "code",
   "execution_count": 7,
   "id": "458a0fb3",
   "metadata": {
    "execution": {
     "iopub.execute_input": "2021-08-15T21:37:35.107449Z",
     "iopub.status.busy": "2021-08-15T21:37:35.106428Z",
     "iopub.status.idle": "2021-08-15T21:37:35.113768Z",
     "shell.execute_reply": "2021-08-15T21:37:35.113087Z",
     "shell.execute_reply.started": "2021-08-15T21:37:09.971980Z"
    },
    "papermill": {
     "duration": 0.029255,
     "end_time": "2021-08-15T21:37:35.113917",
     "exception": false,
     "start_time": "2021-08-15T21:37:35.084662",
     "status": "completed"
    },
    "tags": []
   },
   "outputs": [
    {
     "data": {
      "application/javascript": [
       "parent.postMessage({\"jupyterEvent\": \"custom.exercise_interaction\", \"data\": {\"outcomeType\": 1, \"valueTowardsCompletion\": 0.16666666666666666, \"interactionType\": 1, \"questionType\": 4, \"questionId\": \"6_ImproveVehicles\", \"learnToolsVersion\": \"0.3.4\", \"failureMessage\": \"\", \"exceptionClass\": \"\", \"trace\": \"\"}}, \"*\")"
      ],
      "text/plain": [
       "<IPython.core.display.Javascript object>"
      ]
     },
     "metadata": {},
     "output_type": "display_data"
    },
    {
     "data": {
      "text/markdown": [
       "<span style=\"color:#33cc33\">Solution:</span> All of these are great ways to improve safety."
      ],
      "text/plain": [
       "Solution: All of these are great ways to improve safety."
      ]
     },
     "metadata": {},
     "output_type": "display_data"
    }
   ],
   "source": [
    "# Check your answer (Run this code cell to receive credit!)\n",
    "q_6.check()"
   ]
  },
  {
   "cell_type": "markdown",
   "id": "246841fb",
   "metadata": {
    "papermill": {
     "duration": 0.018168,
     "end_time": "2021-08-15T21:37:35.150586",
     "exception": false,
     "start_time": "2021-08-15T21:37:35.132418",
     "status": "completed"
    },
    "tags": []
   },
   "source": [
    "# Keep going\n",
    "\n",
    "Continue to **[identify bias](https://www.kaggle.com/alexisbcook/identifying-bias-in-ai)** in machine learning applications."
   ]
  },
  {
   "cell_type": "markdown",
   "id": "68114006",
   "metadata": {
    "papermill": {
     "duration": 0.0185,
     "end_time": "2021-08-15T21:37:35.187321",
     "exception": false,
     "start_time": "2021-08-15T21:37:35.168821",
     "status": "completed"
    },
    "tags": []
   },
   "source": [
    "---\n",
    "\n",
    "\n",
    "\n",
    "\n",
    "*Have questions or comments? Visit the [Learn Discussion forum](https://www.kaggle.com/learn-forum/230765) to chat with other Learners.*"
   ]
  }
 ],
 "metadata": {
  "kernelspec": {
   "display_name": "Python 3",
   "language": "python",
   "name": "python3"
  },
  "language_info": {
   "codemirror_mode": {
    "name": "ipython",
    "version": 3
   },
   "file_extension": ".py",
   "mimetype": "text/x-python",
   "name": "python",
   "nbconvert_exporter": "python",
   "pygments_lexer": "ipython3",
   "version": "3.7.10"
  },
  "papermill": {
   "default_parameters": {},
   "duration": 9.577908,
   "end_time": "2021-08-15T21:37:35.815992",
   "environment_variables": {},
   "exception": null,
   "input_path": "__notebook__.ipynb",
   "output_path": "__notebook__.ipynb",
   "parameters": {},
   "start_time": "2021-08-15T21:37:26.238084",
   "version": "2.3.3"
  }
 },
 "nbformat": 4,
 "nbformat_minor": 5
}
