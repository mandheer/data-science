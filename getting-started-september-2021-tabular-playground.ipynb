{
 "cells": [
  {
   "cell_type": "markdown",
   "id": "8e8f0edd",
   "metadata": {
    "papermill": {
     "duration": 0.009149,
     "end_time": "2021-09-01T15:22:25.196690",
     "exception": false,
     "start_time": "2021-09-01T15:22:25.187541",
     "status": "completed"
    },
    "tags": []
   },
   "source": [
    "# Welcome to the September 2021 Tabular Playground Competition! #\n",
    "\n",
    "In this competition, we predict whether a customer will make an insurance claim.\n",
    "\n",
    "# Data #\n",
    "\n",
    "The full dataset has almost one million rows. We'll use just a sample so we can explore the data more quickly."
   ]
  },
  {
   "cell_type": "code",
   "execution_count": 1,
   "id": "ba7c2455",
   "metadata": {
    "execution": {
     "iopub.execute_input": "2021-09-01T15:22:25.218164Z",
     "iopub.status.busy": "2021-09-01T15:22:25.216932Z",
     "iopub.status.idle": "2021-09-01T15:22:26.328349Z",
     "shell.execute_reply": "2021-09-01T15:22:26.328959Z",
     "shell.execute_reply.started": "2021-09-01T15:20:13.735510Z"
    },
    "papermill": {
     "duration": 1.123476,
     "end_time": "2021-09-01T15:22:26.329350",
     "exception": false,
     "start_time": "2021-09-01T15:22:25.205874",
     "status": "completed"
    },
    "tags": []
   },
   "outputs": [
    {
     "data": {
      "text/html": [
       "<div>\n",
       "<style scoped>\n",
       "    .dataframe tbody tr th:only-of-type {\n",
       "        vertical-align: middle;\n",
       "    }\n",
       "\n",
       "    .dataframe tbody tr th {\n",
       "        vertical-align: top;\n",
       "    }\n",
       "\n",
       "    .dataframe thead th {\n",
       "        text-align: right;\n",
       "    }\n",
       "</style>\n",
       "<table border=\"1\" class=\"dataframe\">\n",
       "  <thead>\n",
       "    <tr style=\"text-align: right;\">\n",
       "      <th></th>\n",
       "      <th>f1</th>\n",
       "      <th>f2</th>\n",
       "      <th>f3</th>\n",
       "      <th>f4</th>\n",
       "      <th>f5</th>\n",
       "      <th>f6</th>\n",
       "      <th>f7</th>\n",
       "      <th>f8</th>\n",
       "      <th>f9</th>\n",
       "      <th>f10</th>\n",
       "      <th>...</th>\n",
       "      <th>f110</th>\n",
       "      <th>f111</th>\n",
       "      <th>f112</th>\n",
       "      <th>f113</th>\n",
       "      <th>f114</th>\n",
       "      <th>f115</th>\n",
       "      <th>f116</th>\n",
       "      <th>f117</th>\n",
       "      <th>f118</th>\n",
       "      <th>claim</th>\n",
       "    </tr>\n",
       "    <tr>\n",
       "      <th>id</th>\n",
       "      <th></th>\n",
       "      <th></th>\n",
       "      <th></th>\n",
       "      <th></th>\n",
       "      <th></th>\n",
       "      <th></th>\n",
       "      <th></th>\n",
       "      <th></th>\n",
       "      <th></th>\n",
       "      <th></th>\n",
       "      <th></th>\n",
       "      <th></th>\n",
       "      <th></th>\n",
       "      <th></th>\n",
       "      <th></th>\n",
       "      <th></th>\n",
       "      <th></th>\n",
       "      <th></th>\n",
       "      <th></th>\n",
       "      <th></th>\n",
       "      <th></th>\n",
       "    </tr>\n",
       "  </thead>\n",
       "  <tbody>\n",
       "    <tr>\n",
       "      <th>0</th>\n",
       "      <td>0.10859</td>\n",
       "      <td>0.004314</td>\n",
       "      <td>-37.566</td>\n",
       "      <td>0.017364</td>\n",
       "      <td>0.28915</td>\n",
       "      <td>-10.25100</td>\n",
       "      <td>135.12</td>\n",
       "      <td>168900.0</td>\n",
       "      <td>3.992400e+14</td>\n",
       "      <td>86.489</td>\n",
       "      <td>...</td>\n",
       "      <td>-12.2280</td>\n",
       "      <td>1.7482</td>\n",
       "      <td>1.90960</td>\n",
       "      <td>-7.11570</td>\n",
       "      <td>4378.80</td>\n",
       "      <td>1.2096</td>\n",
       "      <td>8.613400e+14</td>\n",
       "      <td>140.1</td>\n",
       "      <td>1.01770</td>\n",
       "      <td>1</td>\n",
       "    </tr>\n",
       "    <tr>\n",
       "      <th>1</th>\n",
       "      <td>0.10090</td>\n",
       "      <td>0.299610</td>\n",
       "      <td>11822.000</td>\n",
       "      <td>0.276500</td>\n",
       "      <td>0.45970</td>\n",
       "      <td>-0.83733</td>\n",
       "      <td>1721.90</td>\n",
       "      <td>119810.0</td>\n",
       "      <td>3.874100e+15</td>\n",
       "      <td>9953.600</td>\n",
       "      <td>...</td>\n",
       "      <td>-56.7580</td>\n",
       "      <td>4.1684</td>\n",
       "      <td>0.34808</td>\n",
       "      <td>4.14200</td>\n",
       "      <td>913.23</td>\n",
       "      <td>1.2464</td>\n",
       "      <td>7.575100e+15</td>\n",
       "      <td>1861.0</td>\n",
       "      <td>0.28359</td>\n",
       "      <td>0</td>\n",
       "    </tr>\n",
       "    <tr>\n",
       "      <th>2</th>\n",
       "      <td>0.17803</td>\n",
       "      <td>-0.006980</td>\n",
       "      <td>907.270</td>\n",
       "      <td>0.272140</td>\n",
       "      <td>0.45948</td>\n",
       "      <td>0.17327</td>\n",
       "      <td>2298.00</td>\n",
       "      <td>360650.0</td>\n",
       "      <td>1.224500e+13</td>\n",
       "      <td>15827.000</td>\n",
       "      <td>...</td>\n",
       "      <td>-5.7688</td>\n",
       "      <td>1.2042</td>\n",
       "      <td>0.26290</td>\n",
       "      <td>8.13120</td>\n",
       "      <td>45119.00</td>\n",
       "      <td>1.1764</td>\n",
       "      <td>3.218100e+14</td>\n",
       "      <td>3838.2</td>\n",
       "      <td>0.40690</td>\n",
       "      <td>1</td>\n",
       "    </tr>\n",
       "    <tr>\n",
       "      <th>3</th>\n",
       "      <td>0.15236</td>\n",
       "      <td>0.007259</td>\n",
       "      <td>780.100</td>\n",
       "      <td>0.025179</td>\n",
       "      <td>0.51947</td>\n",
       "      <td>7.49140</td>\n",
       "      <td>112.51</td>\n",
       "      <td>259490.0</td>\n",
       "      <td>7.781400e+13</td>\n",
       "      <td>-36.837</td>\n",
       "      <td>...</td>\n",
       "      <td>-34.8580</td>\n",
       "      <td>2.0694</td>\n",
       "      <td>0.79631</td>\n",
       "      <td>-16.33600</td>\n",
       "      <td>4952.40</td>\n",
       "      <td>1.1784</td>\n",
       "      <td>4.533000e+12</td>\n",
       "      <td>4889.1</td>\n",
       "      <td>0.51486</td>\n",
       "      <td>1</td>\n",
       "    </tr>\n",
       "    <tr>\n",
       "      <th>4</th>\n",
       "      <td>0.11623</td>\n",
       "      <td>0.502900</td>\n",
       "      <td>-109.150</td>\n",
       "      <td>0.297910</td>\n",
       "      <td>0.34490</td>\n",
       "      <td>-0.40932</td>\n",
       "      <td>2538.90</td>\n",
       "      <td>65332.0</td>\n",
       "      <td>1.907200e+15</td>\n",
       "      <td>144.120</td>\n",
       "      <td>...</td>\n",
       "      <td>-13.6410</td>\n",
       "      <td>1.5298</td>\n",
       "      <td>1.14640</td>\n",
       "      <td>-0.43124</td>\n",
       "      <td>3856.50</td>\n",
       "      <td>1.4830</td>\n",
       "      <td>-8.991300e+12</td>\n",
       "      <td>NaN</td>\n",
       "      <td>0.23049</td>\n",
       "      <td>1</td>\n",
       "    </tr>\n",
       "  </tbody>\n",
       "</table>\n",
       "<p>5 rows × 119 columns</p>\n",
       "</div>"
      ],
      "text/plain": [
       "         f1        f2         f3        f4       f5        f6       f7  \\\n",
       "id                                                                       \n",
       "0   0.10859  0.004314    -37.566  0.017364  0.28915 -10.25100   135.12   \n",
       "1   0.10090  0.299610  11822.000  0.276500  0.45970  -0.83733  1721.90   \n",
       "2   0.17803 -0.006980    907.270  0.272140  0.45948   0.17327  2298.00   \n",
       "3   0.15236  0.007259    780.100  0.025179  0.51947   7.49140   112.51   \n",
       "4   0.11623  0.502900   -109.150  0.297910  0.34490  -0.40932  2538.90   \n",
       "\n",
       "          f8            f9        f10  ...     f110    f111     f112  \\\n",
       "id                                     ...                             \n",
       "0   168900.0  3.992400e+14     86.489  ... -12.2280  1.7482  1.90960   \n",
       "1   119810.0  3.874100e+15   9953.600  ... -56.7580  4.1684  0.34808   \n",
       "2   360650.0  1.224500e+13  15827.000  ...  -5.7688  1.2042  0.26290   \n",
       "3   259490.0  7.781400e+13    -36.837  ... -34.8580  2.0694  0.79631   \n",
       "4    65332.0  1.907200e+15    144.120  ... -13.6410  1.5298  1.14640   \n",
       "\n",
       "        f113      f114    f115          f116    f117     f118  claim  \n",
       "id                                                                    \n",
       "0   -7.11570   4378.80  1.2096  8.613400e+14   140.1  1.01770      1  \n",
       "1    4.14200    913.23  1.2464  7.575100e+15  1861.0  0.28359      0  \n",
       "2    8.13120  45119.00  1.1764  3.218100e+14  3838.2  0.40690      1  \n",
       "3  -16.33600   4952.40  1.1784  4.533000e+12  4889.1  0.51486      1  \n",
       "4   -0.43124   3856.50  1.4830 -8.991300e+12     NaN  0.23049      1  \n",
       "\n",
       "[5 rows x 119 columns]"
      ]
     },
     "execution_count": 1,
     "metadata": {},
     "output_type": "execute_result"
    }
   ],
   "source": [
    "import pandas as pd\n",
    "from pathlib import Path\n",
    "\n",
    "data_dir = Path('../input/tabular-playground-series-sep-2021/')\n",
    "\n",
    "df_train = pd.read_csv(\n",
    "    data_dir / \"train.csv\",\n",
    "    index_col='id',\n",
    "    nrows=25000,  # comment this row to use the full dataset\n",
    ")\n",
    "\n",
    "FEATURES = df_train.columns[:-1]\n",
    "TARGET = df_train.columns[-1]\n",
    "\n",
    "df_train.head()"
   ]
  },
  {
   "cell_type": "markdown",
   "id": "b6b961dd",
   "metadata": {
    "papermill": {
     "duration": 0.008455,
     "end_time": "2021-09-01T15:22:26.347057",
     "exception": false,
     "start_time": "2021-09-01T15:22:26.338602",
     "status": "completed"
    },
    "tags": []
   },
   "source": [
    "The target `'claim'` has binary outcomes: `0` for no claim and `1` for claim."
   ]
  },
  {
   "cell_type": "markdown",
   "id": "24b751b6",
   "metadata": {
    "papermill": {
     "duration": 0.008695,
     "end_time": "2021-09-01T15:22:26.364755",
     "exception": false,
     "start_time": "2021-09-01T15:22:26.356060",
     "status": "completed"
    },
    "tags": []
   },
   "source": [
    "# Model #\n",
    "\n",
    "Let's try out a simple XGBoost model. This algorithm can handle missing values, but you could try imputing them instead.  We use `XGBClassifier` (instead of `XGBRegressor`, for instance), since this is a classification problem."
   ]
  },
  {
   "cell_type": "code",
   "execution_count": 2,
   "id": "71b8496c",
   "metadata": {
    "execution": {
     "iopub.execute_input": "2021-09-01T15:22:26.385203Z",
     "iopub.status.busy": "2021-09-01T15:22:26.384503Z",
     "iopub.status.idle": "2021-09-01T15:22:27.446461Z",
     "shell.execute_reply": "2021-09-01T15:22:27.447092Z",
     "shell.execute_reply.started": "2021-09-01T15:20:14.759417Z"
    },
    "papermill": {
     "duration": 1.073771,
     "end_time": "2021-09-01T15:22:27.447322",
     "exception": false,
     "start_time": "2021-09-01T15:22:26.373551",
     "status": "completed"
    },
    "tags": []
   },
   "outputs": [],
   "source": [
    "from xgboost import XGBClassifier\n",
    "\n",
    "X = df_train.loc[:, FEATURES]\n",
    "y = df_train.loc[:, TARGET]\n",
    "\n",
    "model = XGBClassifier(\n",
    "    max_depth=3,\n",
    "    subsample=0.5,\n",
    "    colsample_bytree=0.5,\n",
    "    n_jobs=-1,\n",
    "    # Uncomment if you want to use GPU. Recommended for whole training set.\n",
    "    #tree_method='gpu_hist',\n",
    "    random_state=0,\n",
    ")"
   ]
  },
  {
   "cell_type": "markdown",
   "id": "7ac2a4d1",
   "metadata": {
    "papermill": {
     "duration": 0.008597,
     "end_time": "2021-09-01T15:22:27.464357",
     "exception": false,
     "start_time": "2021-09-01T15:22:27.455760",
     "status": "completed"
    },
    "tags": []
   },
   "source": [
    "\n",
    "# Evaluation #\n",
    "\n",
    "The evaluation metric is AUC, which stands for \"area under curve\".  Run the next code cell to evaluate the model."
   ]
  },
  {
   "cell_type": "code",
   "execution_count": 3,
   "id": "7b8082ca",
   "metadata": {
    "execution": {
     "iopub.execute_input": "2021-09-01T15:22:27.484385Z",
     "iopub.status.busy": "2021-09-01T15:22:27.483680Z",
     "iopub.status.idle": "2021-09-01T15:22:38.552994Z",
     "shell.execute_reply": "2021-09-01T15:22:38.552422Z",
     "shell.execute_reply.started": "2021-09-01T15:20:15.643450Z"
    },
    "papermill": {
     "duration": 11.080366,
     "end_time": "2021-09-01T15:22:38.553174",
     "exception": false,
     "start_time": "2021-09-01T15:22:27.472808",
     "status": "completed"
    },
    "tags": []
   },
   "outputs": [
    {
     "name": "stdout",
     "output_type": "stream",
     "text": [
      "[15:22:27] WARNING: ../src/learner.cc:1095: Starting in XGBoost 1.3.0, the default evaluation metric used with the objective 'binary:logistic' was changed from 'error' to 'logloss'. Explicitly set eval_metric if you'd like to restore the old behavior.\n",
      "[15:22:32] WARNING: ../src/learner.cc:1095: Starting in XGBoost 1.3.0, the default evaluation metric used with the objective 'binary:logistic' was changed from 'error' to 'logloss'. Explicitly set eval_metric if you'd like to restore the old behavior.\n"
     ]
    },
    {
     "data": {
      "text/html": [
       "<div>\n",
       "<style scoped>\n",
       "    .dataframe tbody tr th:only-of-type {\n",
       "        vertical-align: middle;\n",
       "    }\n",
       "\n",
       "    .dataframe tbody tr th {\n",
       "        vertical-align: top;\n",
       "    }\n",
       "\n",
       "    .dataframe thead th {\n",
       "        text-align: right;\n",
       "    }\n",
       "</style>\n",
       "<table border=\"1\" class=\"dataframe\">\n",
       "  <thead>\n",
       "    <tr style=\"text-align: right;\">\n",
       "      <th></th>\n",
       "      <th>0</th>\n",
       "      <th>1</th>\n",
       "      <th>mean</th>\n",
       "      <th>std</th>\n",
       "    </tr>\n",
       "  </thead>\n",
       "  <tbody>\n",
       "    <tr>\n",
       "      <th>fit_time</th>\n",
       "      <td>5.163640</td>\n",
       "      <td>5.763061</td>\n",
       "      <td>5.463351</td>\n",
       "      <td>0.299710</td>\n",
       "    </tr>\n",
       "    <tr>\n",
       "      <th>score_time</th>\n",
       "      <td>0.027473</td>\n",
       "      <td>0.027307</td>\n",
       "      <td>0.027390</td>\n",
       "      <td>0.000083</td>\n",
       "    </tr>\n",
       "    <tr>\n",
       "      <th>test_roc_auc</th>\n",
       "      <td>0.758076</td>\n",
       "      <td>0.751630</td>\n",
       "      <td>0.754853</td>\n",
       "      <td>0.003223</td>\n",
       "    </tr>\n",
       "    <tr>\n",
       "      <th>train_roc_auc</th>\n",
       "      <td>0.867126</td>\n",
       "      <td>0.868199</td>\n",
       "      <td>0.867662</td>\n",
       "      <td>0.000536</td>\n",
       "    </tr>\n",
       "  </tbody>\n",
       "</table>\n",
       "</div>"
      ],
      "text/plain": [
       "                      0         1      mean       std\n",
       "fit_time       5.163640  5.763061  5.463351  0.299710\n",
       "score_time     0.027473  0.027307  0.027390  0.000083\n",
       "test_roc_auc   0.758076  0.751630  0.754853  0.003223\n",
       "train_roc_auc  0.867126  0.868199  0.867662  0.000536"
      ]
     },
     "metadata": {},
     "output_type": "display_data"
    }
   ],
   "source": [
    "from sklearn.model_selection import cross_validate\n",
    "import warnings \n",
    "warnings.filterwarnings('ignore')\n",
    "\n",
    "def score(X, y, model, cv):\n",
    "    scoring = [\"roc_auc\"]\n",
    "    scores = cross_validate(\n",
    "        model, X, y, scoring=scoring, cv=cv, return_train_score=True\n",
    "    )\n",
    "    scores = pd.DataFrame(scores).T\n",
    "    return scores.assign(\n",
    "        mean = lambda x: x.mean(axis=1),\n",
    "        std = lambda x: x.std(axis=1),\n",
    "    )\n",
    "\n",
    "scores = score(X, y, model, cv=2)\n",
    "\n",
    "display(scores)"
   ]
  },
  {
   "cell_type": "markdown",
   "id": "30aafafb",
   "metadata": {
    "papermill": {
     "duration": 0.008946,
     "end_time": "2021-09-01T15:22:38.571652",
     "exception": false,
     "start_time": "2021-09-01T15:22:38.562706",
     "status": "completed"
    },
    "tags": []
   },
   "source": [
    "A \"neutral\" AUC is 0.5, so anything better than that means our model learned something useful."
   ]
  },
  {
   "cell_type": "markdown",
   "id": "9a508f46",
   "metadata": {
    "papermill": {
     "duration": 0.00892,
     "end_time": "2021-09-01T15:22:38.589857",
     "exception": false,
     "start_time": "2021-09-01T15:22:38.580937",
     "status": "completed"
    },
    "tags": []
   },
   "source": [
    "# Make Submission #\n",
    "\n",
    "Our predictions are binary 0 and 1, but you're allowed to submit probabilities instead. In scikit-learn, you would use the `predict_proba` method instead of `predict`."
   ]
  },
  {
   "cell_type": "code",
   "execution_count": 4,
   "id": "be014387",
   "metadata": {
    "execution": {
     "iopub.execute_input": "2021-09-01T15:22:38.614977Z",
     "iopub.status.busy": "2021-09-01T15:22:38.614314Z",
     "iopub.status.idle": "2021-09-01T15:23:07.160435Z",
     "shell.execute_reply": "2021-09-01T15:23:07.159603Z",
     "shell.execute_reply.started": "2021-09-01T15:20:25.993996Z"
    },
    "papermill": {
     "duration": 28.561567,
     "end_time": "2021-09-01T15:23:07.160622",
     "exception": false,
     "start_time": "2021-09-01T15:22:38.599055",
     "status": "completed"
    },
    "tags": []
   },
   "outputs": [
    {
     "name": "stdout",
     "output_type": "stream",
     "text": [
      "[15:22:38] WARNING: ../src/learner.cc:1095: Starting in XGBoost 1.3.0, the default evaluation metric used with the objective 'binary:logistic' was changed from 'error' to 'logloss'. Explicitly set eval_metric if you'd like to restore the old behavior.\n"
     ]
    }
   ],
   "source": [
    "# Fit on full training set\n",
    "model.fit(X, y)\n",
    "\n",
    "X_test = pd.read_csv(data_dir / \"test.csv\", index_col='id')\n",
    "\n",
    "# Make predictions\n",
    "y_pred = pd.Series(\n",
    "    model.predict(X_test),\n",
    "    index=X_test.index,\n",
    "    name=TARGET,\n",
    ")\n",
    "\n",
    "# Create submission file\n",
    "y_pred.to_csv(\"submission.csv\")"
   ]
  }
 ],
 "metadata": {
  "kernelspec": {
   "display_name": "Python 3",
   "language": "python",
   "name": "python3"
  },
  "language_info": {
   "codemirror_mode": {
    "name": "ipython",
    "version": 3
   },
   "file_extension": ".py",
   "mimetype": "text/x-python",
   "name": "python",
   "nbconvert_exporter": "python",
   "pygments_lexer": "ipython3",
   "version": "3.7.10"
  },
  "papermill": {
   "default_parameters": {},
   "duration": 50.741609,
   "end_time": "2021-09-01T15:23:07.881971",
   "environment_variables": {},
   "exception": null,
   "input_path": "__notebook__.ipynb",
   "output_path": "__notebook__.ipynb",
   "parameters": {},
   "start_time": "2021-09-01T15:22:17.140362",
   "version": "2.3.3"
  }
 },
 "nbformat": 4,
 "nbformat_minor": 5
}
