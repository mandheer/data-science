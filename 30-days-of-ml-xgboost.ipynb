{
 "cells": [
  {
   "cell_type": "code",
   "execution_count": 1,
   "id": "ac10b535",
   "metadata": {
    "_cell_guid": "b1076dfc-b9ad-4769-8c92-a6c4dae69d19",
    "_uuid": "8f2839f25d086af736a60e9eeb907d3b93b6e0e5",
    "execution": {
     "iopub.execute_input": "2021-08-31T20:15:44.006026Z",
     "iopub.status.busy": "2021-08-31T20:15:44.004523Z",
     "iopub.status.idle": "2021-08-31T20:15:45.124800Z",
     "shell.execute_reply": "2021-08-31T20:15:45.125286Z",
     "shell.execute_reply.started": "2021-08-31T20:13:20.912703Z"
    },
    "papermill": {
     "duration": 1.137078,
     "end_time": "2021-08-31T20:15:45.125550",
     "exception": false,
     "start_time": "2021-08-31T20:15:43.988472",
     "status": "completed"
    },
    "tags": []
   },
   "outputs": [],
   "source": [
    "import numpy as np\n",
    "import pandas as pd\n",
    "\n",
    "from sklearn.model_selection import train_test_split\n",
    "from sklearn.pipeline import Pipeline\n",
    "from sklearn.preprocessing import OrdinalEncoder\n",
    "from sklearn.preprocessing import MinMaxScaler\n",
    "from sklearn.compose import ColumnTransformer\n",
    "from sklearn.metrics import mean_squared_error\n",
    "\n",
    "from sklearn.model_selection import cross_val_score\n",
    "\n",
    "from sklearn.impute import SimpleImputer\n",
    "from sklearn.preprocessing import OneHotEncoder\n",
    "\n",
    "from xgboost import XGBRegressor"
   ]
  },
  {
   "cell_type": "code",
   "execution_count": 2,
   "id": "cd6c0a98",
   "metadata": {
    "execution": {
     "iopub.execute_input": "2021-08-31T20:15:45.152412Z",
     "iopub.status.busy": "2021-08-31T20:15:45.151801Z",
     "iopub.status.idle": "2021-08-31T20:15:48.401047Z",
     "shell.execute_reply": "2021-08-31T20:15:48.401459Z",
     "shell.execute_reply.started": "2021-08-31T20:13:21.990655Z"
    },
    "papermill": {
     "duration": 3.264404,
     "end_time": "2021-08-31T20:15:48.401629",
     "exception": false,
     "start_time": "2021-08-31T20:15:45.137225",
     "status": "completed"
    },
    "tags": []
   },
   "outputs": [],
   "source": [
    "train_data = pd.read_csv('/kaggle/input/30-days-of-ml/train.csv', index_col='id')\n",
    "test_data = pd.read_csv('/kaggle/input/30-days-of-ml/test.csv', index_col='id')"
   ]
  },
  {
   "cell_type": "code",
   "execution_count": 3,
   "id": "25958f21",
   "metadata": {
    "execution": {
     "iopub.execute_input": "2021-08-31T20:15:48.428598Z",
     "iopub.status.busy": "2021-08-31T20:15:48.428076Z",
     "iopub.status.idle": "2021-08-31T20:15:48.431471Z",
     "shell.execute_reply": "2021-08-31T20:15:48.431898Z",
     "shell.execute_reply.started": "2021-08-31T20:13:25.627803Z"
    },
    "papermill": {
     "duration": 0.019007,
     "end_time": "2021-08-31T20:15:48.432025",
     "exception": false,
     "start_time": "2021-08-31T20:15:48.413018",
     "status": "completed"
    },
    "tags": []
   },
   "outputs": [],
   "source": [
    "categorical_cols = [col for col in train_data.columns if 'cat' in col]\n",
    "continuous_cols = [col for col in train_data.columns if 'cont' in col]"
   ]
  },
  {
   "cell_type": "code",
   "execution_count": 4,
   "id": "d3439ce7",
   "metadata": {
    "execution": {
     "iopub.execute_input": "2021-08-31T20:15:48.459015Z",
     "iopub.status.busy": "2021-08-31T20:15:48.457746Z",
     "iopub.status.idle": "2021-08-31T20:15:48.487699Z",
     "shell.execute_reply": "2021-08-31T20:15:48.487240Z",
     "shell.execute_reply.started": "2021-08-31T20:13:25.637363Z"
    },
    "papermill": {
     "duration": 0.045067,
     "end_time": "2021-08-31T20:15:48.487834",
     "exception": false,
     "start_time": "2021-08-31T20:15:48.442767",
     "status": "completed"
    },
    "tags": []
   },
   "outputs": [],
   "source": [
    "X = train_data.drop(['target'], axis=1)\n",
    "y = train_data['target']"
   ]
  },
  {
   "cell_type": "markdown",
   "id": "ed4034ab",
   "metadata": {
    "papermill": {
     "duration": 0.010495,
     "end_time": "2021-08-31T20:15:48.509494",
     "exception": false,
     "start_time": "2021-08-31T20:15:48.498999",
     "status": "completed"
    },
    "tags": []
   },
   "source": [
    "Removing columns based on the coefficient values from the [Data Preprocessing notebook](https://www.kaggle.com/aniketsharma00411/30-days-of-ml-data-analysis-and-preprocessing#Finding-correlation-between-features-and-target)."
   ]
  },
  {
   "cell_type": "code",
   "execution_count": 5,
   "id": "37321811",
   "metadata": {
    "execution": {
     "iopub.execute_input": "2021-08-31T20:15:48.571791Z",
     "iopub.status.busy": "2021-08-31T20:15:48.570234Z",
     "iopub.status.idle": "2021-08-31T20:15:48.572503Z",
     "shell.execute_reply": "2021-08-31T20:15:48.572937Z",
     "shell.execute_reply.started": "2021-08-31T20:13:25.675299Z"
    },
    "papermill": {
     "duration": 0.052758,
     "end_time": "2021-08-31T20:15:48.573084",
     "exception": false,
     "start_time": "2021-08-31T20:15:48.520326",
     "status": "completed"
    },
    "tags": []
   },
   "outputs": [],
   "source": [
    "to_remove = ['cont1', 'cat4', 'cat7']\n",
    "X = X.drop(to_remove, axis=1)"
   ]
  },
  {
   "cell_type": "code",
   "execution_count": 6,
   "id": "b306e0ac",
   "metadata": {
    "execution": {
     "iopub.execute_input": "2021-08-31T20:15:48.599732Z",
     "iopub.status.busy": "2021-08-31T20:15:48.599027Z",
     "iopub.status.idle": "2021-08-31T20:15:48.690741Z",
     "shell.execute_reply": "2021-08-31T20:15:48.691161Z",
     "shell.execute_reply.started": "2021-08-31T20:13:25.717575Z"
    },
    "papermill": {
     "duration": 0.107349,
     "end_time": "2021-08-31T20:15:48.691321",
     "exception": false,
     "start_time": "2021-08-31T20:15:48.583972",
     "status": "completed"
    },
    "tags": []
   },
   "outputs": [],
   "source": [
    "X_train, X_val, y_train, y_val = train_test_split(X, y, random_state=42)"
   ]
  },
  {
   "cell_type": "code",
   "execution_count": 7,
   "id": "8395ed59",
   "metadata": {
    "execution": {
     "iopub.execute_input": "2021-08-31T20:15:48.717135Z",
     "iopub.status.busy": "2021-08-31T20:15:48.716588Z",
     "iopub.status.idle": "2021-08-31T20:15:48.719853Z",
     "shell.execute_reply": "2021-08-31T20:15:48.720729Z",
     "shell.execute_reply.started": "2021-08-31T20:13:25.816990Z"
    },
    "papermill": {
     "duration": 0.018425,
     "end_time": "2021-08-31T20:15:48.720891",
     "exception": false,
     "start_time": "2021-08-31T20:15:48.702466",
     "status": "completed"
    },
    "tags": []
   },
   "outputs": [],
   "source": [
    "# Preprocessing for categorical data\n",
    "categorical_transformer = Pipeline(steps=[\n",
    "    ('imputer', SimpleImputer(strategy='most_frequent')),\n",
    "    ('onehot', OneHotEncoder(handle_unknown='ignore'))\n",
    "])"
   ]
  },
  {
   "cell_type": "code",
   "execution_count": 8,
   "id": "b3ee6b5b",
   "metadata": {
    "execution": {
     "iopub.execute_input": "2021-08-31T20:15:48.746723Z",
     "iopub.status.busy": "2021-08-31T20:15:48.745493Z",
     "iopub.status.idle": "2021-08-31T20:15:48.747761Z",
     "shell.execute_reply": "2021-08-31T20:15:48.748194Z",
     "shell.execute_reply.started": "2021-08-31T20:13:25.824773Z"
    },
    "papermill": {
     "duration": 0.016423,
     "end_time": "2021-08-31T20:15:48.748312",
     "exception": false,
     "start_time": "2021-08-31T20:15:48.731889",
     "status": "completed"
    },
    "tags": []
   },
   "outputs": [],
   "source": [
    "# Preprocessing for numerical data\n",
    "numerical_transformer = SimpleImputer(strategy='constant')"
   ]
  },
  {
   "cell_type": "markdown",
   "id": "0bd50636",
   "metadata": {
    "papermill": {
     "duration": 0.010687,
     "end_time": "2021-08-31T20:15:48.770235",
     "exception": false,
     "start_time": "2021-08-31T20:15:48.759548",
     "status": "completed"
    },
    "tags": []
   },
   "source": [
    "# Training Final Model"
   ]
  },
  {
   "cell_type": "code",
   "execution_count": 9,
   "id": "054a4257",
   "metadata": {
    "execution": {
     "iopub.execute_input": "2021-08-31T20:15:48.798392Z",
     "iopub.status.busy": "2021-08-31T20:15:48.797701Z",
     "iopub.status.idle": "2021-08-31T20:15:48.801182Z",
     "shell.execute_reply": "2021-08-31T20:15:48.800706Z",
     "shell.execute_reply.started": "2021-08-31T20:13:25.833766Z"
    },
    "papermill": {
     "duration": 0.019773,
     "end_time": "2021-08-31T20:15:48.801289",
     "exception": false,
     "start_time": "2021-08-31T20:15:48.781516",
     "status": "completed"
    },
    "tags": []
   },
   "outputs": [],
   "source": [
    "preprocessor = ColumnTransformer(\n",
    "    transformers=[\n",
    "        ('continuous', numerical_transformer, list(set(continuous_cols)-set(to_remove))),\n",
    "        ('categorical', categorical_transformer, list(set(categorical_cols)-set(to_remove)))\n",
    "    ])\n",
    "\n",
    "model= XGBRegressor(\n",
    "    n_estimators=1000,\n",
    "    learning_rate=0.03,\n",
    "    subsample=0.8,\n",
    "    colsample_bytree=0.1,\n",
    "    max_depth=3,\n",
    "    booster='gbtree',\n",
    "    tree_method='gpu_hist',\n",
    "    predictor='gpu_predictor',\n",
    "    reg_lambda=0.0009,\n",
    "    reg_alpha=23,\n",
    "    n_jobs=4,\n",
    "    random_state=42\n",
    ")\n",
    "\n",
    "pipeline = Pipeline(\n",
    "    steps=[\n",
    "        ('preprocessor', preprocessor),\n",
    "        ('model', model)\n",
    "    ])"
   ]
  },
  {
   "cell_type": "code",
   "execution_count": 10,
   "id": "715602da",
   "metadata": {
    "execution": {
     "iopub.execute_input": "2021-08-31T20:15:48.825959Z",
     "iopub.status.busy": "2021-08-31T20:15:48.825414Z",
     "iopub.status.idle": "2021-08-31T20:15:48.829397Z",
     "shell.execute_reply": "2021-08-31T20:15:48.828926Z",
     "shell.execute_reply.started": "2021-08-31T20:13:25.844340Z"
    },
    "papermill": {
     "duration": 0.017368,
     "end_time": "2021-08-31T20:15:48.829512",
     "exception": false,
     "start_time": "2021-08-31T20:15:48.812144",
     "status": "completed"
    },
    "tags": []
   },
   "outputs": [],
   "source": [
    "# from sklearn.model_selection import cross_val_score\n",
    "\n",
    "# # Multiply by -1 since sklearn calculates *negative* MAE\n",
    "# scores = -1 * cross_val_score(pipeline, X, y,\n",
    "#                               cv=5,\n",
    "#                               scoring='neg_mean_absolute_error')\n",
    "\n",
    "# print(\"MAE scores:\\n\", scores)\n",
    "# print(\"Average MAE score (across experiments):\")\n",
    "# print(scores.mean())"
   ]
  },
  {
   "cell_type": "code",
   "execution_count": 11,
   "id": "5ef788d4",
   "metadata": {
    "execution": {
     "iopub.execute_input": "2021-08-31T20:15:48.870880Z",
     "iopub.status.busy": "2021-08-31T20:15:48.869879Z",
     "iopub.status.idle": "2021-08-31T20:16:09.378064Z",
     "shell.execute_reply": "2021-08-31T20:16:09.378447Z",
     "shell.execute_reply.started": "2021-08-31T20:14:42.333325Z"
    },
    "papermill": {
     "duration": 20.538466,
     "end_time": "2021-08-31T20:16:09.378597",
     "exception": false,
     "start_time": "2021-08-31T20:15:48.840131",
     "status": "completed"
    },
    "tags": []
   },
   "outputs": [
    {
     "data": {
      "text/plain": [
       "Pipeline(steps=[('preprocessor',\n",
       "                 ColumnTransformer(transformers=[('continuous',\n",
       "                                                  SimpleImputer(strategy='constant'),\n",
       "                                                  ['cont9', 'cont3', 'cont6',\n",
       "                                                   'cont10', 'cont2', 'cont11',\n",
       "                                                   'cont4', 'cont12', 'cont8',\n",
       "                                                   'cont7', 'cont5', 'cont13',\n",
       "                                                   'cont0']),\n",
       "                                                 ('categorical',\n",
       "                                                  Pipeline(steps=[('imputer',\n",
       "                                                                   SimpleImputer(strategy='most_frequent')),\n",
       "                                                                  ('onehot',\n",
       "                                                                   OneHotEncoder(handle_unknown='ign...\n",
       "                              importance_type='gain',\n",
       "                              interaction_constraints='', learning_rate=0.03,\n",
       "                              max_delta_step=0, max_depth=3, min_child_weight=1,\n",
       "                              missing=nan, monotone_constraints='()',\n",
       "                              n_estimators=1000, n_jobs=4, num_parallel_tree=1,\n",
       "                              predictor='gpu_predictor', random_state=42,\n",
       "                              reg_alpha=23, reg_lambda=0.0009,\n",
       "                              scale_pos_weight=1, subsample=0.8,\n",
       "                              tree_method='gpu_hist', validate_parameters=1,\n",
       "                              verbosity=None))])"
      ]
     },
     "execution_count": 11,
     "metadata": {},
     "output_type": "execute_result"
    }
   ],
   "source": [
    "pipeline.fit(X, y)"
   ]
  },
  {
   "cell_type": "code",
   "execution_count": 12,
   "id": "5de643f4",
   "metadata": {
    "execution": {
     "iopub.execute_input": "2021-08-31T20:16:09.405129Z",
     "iopub.status.busy": "2021-08-31T20:16:09.404396Z",
     "iopub.status.idle": "2021-08-31T20:16:09.406617Z",
     "shell.execute_reply": "2021-08-31T20:16:09.406997Z",
     "shell.execute_reply.started": "2021-08-31T20:14:21.896419Z"
    },
    "papermill": {
     "duration": 0.017053,
     "end_time": "2021-08-31T20:16:09.407118",
     "exception": false,
     "start_time": "2021-08-31T20:16:09.390065",
     "status": "completed"
    },
    "tags": []
   },
   "outputs": [],
   "source": [
    "# from sklearn.metrics import mean_absolute_error\n",
    "# predictions = pipeline.predict(X_val)\n",
    "# mean_squared_error(y_train, pipeline.predict(X_train), squared=True)\n",
    "# print(\"Mean Absolute Error: \" + str(mean_squared_error(y_val, predictions, squared=True)))\n",
    "# print(\"Mean Absolute Error: \" + str(mean_absolute_error(predictions, y_val)))"
   ]
  },
  {
   "cell_type": "code",
   "execution_count": 13,
   "id": "8d8177ad",
   "metadata": {
    "execution": {
     "iopub.execute_input": "2021-08-31T20:16:09.465428Z",
     "iopub.status.busy": "2021-08-31T20:16:09.464322Z",
     "iopub.status.idle": "2021-08-31T20:16:10.646138Z",
     "shell.execute_reply": "2021-08-31T20:16:10.645221Z",
     "shell.execute_reply.started": "2021-08-31T20:13:46.111391Z"
    },
    "papermill": {
     "duration": 1.227862,
     "end_time": "2021-08-31T20:16:10.646275",
     "exception": false,
     "start_time": "2021-08-31T20:16:09.418413",
     "status": "completed"
    },
    "tags": []
   },
   "outputs": [],
   "source": [
    "final_predictions = pd.DataFrame(zip(test_data.index, pipeline.predict(test_data.drop(to_remove, axis=1))), columns=['id', 'target'])"
   ]
  },
  {
   "cell_type": "code",
   "execution_count": 14,
   "id": "f57b987f",
   "metadata": {
    "execution": {
     "iopub.execute_input": "2021-08-31T20:16:10.672858Z",
     "iopub.status.busy": "2021-08-31T20:16:10.672218Z",
     "iopub.status.idle": "2021-08-31T20:16:11.286281Z",
     "shell.execute_reply": "2021-08-31T20:16:11.286735Z",
     "shell.execute_reply.started": "2021-08-31T20:13:47.467811Z"
    },
    "papermill": {
     "duration": 0.629021,
     "end_time": "2021-08-31T20:16:11.286900",
     "exception": false,
     "start_time": "2021-08-31T20:16:10.657879",
     "status": "completed"
    },
    "tags": []
   },
   "outputs": [],
   "source": [
    "final_predictions.to_csv('/kaggle/working/submission.csv', index=False)"
   ]
  }
 ],
 "metadata": {
  "kernelspec": {
   "display_name": "Python 3",
   "language": "python",
   "name": "python3"
  },
  "language_info": {
   "codemirror_mode": {
    "name": "ipython",
    "version": 3
   },
   "file_extension": ".py",
   "mimetype": "text/x-python",
   "name": "python",
   "nbconvert_exporter": "python",
   "pygments_lexer": "ipython3",
   "version": "3.7.10"
  },
  "papermill": {
   "default_parameters": {},
   "duration": 35.651724,
   "end_time": "2021-08-31T20:16:12.884055",
   "environment_variables": {},
   "exception": null,
   "input_path": "__notebook__.ipynb",
   "output_path": "__notebook__.ipynb",
   "parameters": {},
   "start_time": "2021-08-31T20:15:37.232331",
   "version": "2.3.3"
  }
 },
 "nbformat": 4,
 "nbformat_minor": 5
}
