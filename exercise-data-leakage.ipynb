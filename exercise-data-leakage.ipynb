{
 "cells": [
  {
   "cell_type": "markdown",
   "id": "7925cfcc",
   "metadata": {
    "papermill": {
     "duration": 0.010934,
     "end_time": "2021-08-15T21:03:25.209908",
     "exception": false,
     "start_time": "2021-08-15T21:03:25.198974",
     "status": "completed"
    },
    "tags": []
   },
   "source": [
    "**This notebook is an exercise in the [Intermediate Machine Learning](https://www.kaggle.com/learn/intermediate-machine-learning) course.  You can reference the tutorial at [this link](https://www.kaggle.com/alexisbcook/data-leakage).**\n",
    "\n",
    "---\n"
   ]
  },
  {
   "cell_type": "markdown",
   "id": "eca3cb03",
   "metadata": {
    "papermill": {
     "duration": 0.007928,
     "end_time": "2021-08-15T21:03:25.226281",
     "exception": false,
     "start_time": "2021-08-15T21:03:25.218353",
     "status": "completed"
    },
    "tags": []
   },
   "source": [
    "Most people find target leakage very tricky until they've thought about it for a long time.\n",
    "\n",
    "So, before trying to think about leakage in the housing price example, we'll go through a few examples in other applications. Things will feel more familiar once you come back to a question about house prices.\n",
    "\n",
    "# Setup\n",
    "\n",
    "The questions below will give you feedback on your answers. Run the following cell to set up the feedback system."
   ]
  },
  {
   "cell_type": "code",
   "execution_count": 1,
   "id": "599645d8",
   "metadata": {
    "execution": {
     "iopub.execute_input": "2021-08-15T21:03:25.248548Z",
     "iopub.status.busy": "2021-08-15T21:03:25.246672Z",
     "iopub.status.idle": "2021-08-15T21:03:25.370967Z",
     "shell.execute_reply": "2021-08-15T21:03:25.371668Z",
     "shell.execute_reply.started": "2021-08-15T21:01:56.563962Z"
    },
    "papermill": {
     "duration": 0.137529,
     "end_time": "2021-08-15T21:03:25.372027",
     "exception": false,
     "start_time": "2021-08-15T21:03:25.234498",
     "status": "completed"
    },
    "tags": []
   },
   "outputs": [
    {
     "name": "stdout",
     "output_type": "stream",
     "text": [
      "Setup Complete\n"
     ]
    }
   ],
   "source": [
    "# Set up code checking\n",
    "from learntools.core import binder\n",
    "binder.bind(globals())\n",
    "from learntools.ml_intermediate.ex7 import *\n",
    "print(\"Setup Complete\")"
   ]
  },
  {
   "cell_type": "markdown",
   "id": "120161a0",
   "metadata": {
    "papermill": {
     "duration": 0.008369,
     "end_time": "2021-08-15T21:03:25.390415",
     "exception": false,
     "start_time": "2021-08-15T21:03:25.382046",
     "status": "completed"
    },
    "tags": []
   },
   "source": [
    "# Step 1: The Data Science of Shoelaces\n",
    "\n",
    "Nike has hired you as a data science consultant to help them save money on shoe materials. Your first assignment is to review a model one of their employees built to predict how many shoelaces they'll need each month. The features going into the machine learning model include:\n",
    "- The current month (January, February, etc)\n",
    "- Advertising expenditures in the previous month\n",
    "- Various macroeconomic features (like the unemployment rate) as of the beginning of the current month\n",
    "- The amount of leather they ended up using in the current month\n",
    "\n",
    "The results show the model is almost perfectly accurate if you include the feature about how much leather they used. But it is only moderately accurate if you leave that feature out. You realize this is because the amount of leather they use is a perfect indicator of how many shoes they produce, which in turn tells you how many shoelaces they need.\n",
    "\n",
    "Do you think the _leather used_ feature constitutes a source of data leakage? If your answer is \"it depends,\" what does it depend on?\n",
    "\n",
    "After you have thought about your answer, check it against the solution below."
   ]
  },
  {
   "cell_type": "code",
   "execution_count": 2,
   "id": "cda418f6",
   "metadata": {
    "execution": {
     "iopub.execute_input": "2021-08-15T21:03:25.414831Z",
     "iopub.status.busy": "2021-08-15T21:03:25.413848Z",
     "iopub.status.idle": "2021-08-15T21:03:25.418842Z",
     "shell.execute_reply": "2021-08-15T21:03:25.419363Z",
     "shell.execute_reply.started": "2021-08-15T21:02:10.169739Z"
    },
    "papermill": {
     "duration": 0.020578,
     "end_time": "2021-08-15T21:03:25.419533",
     "exception": false,
     "start_time": "2021-08-15T21:03:25.398955",
     "status": "completed"
    },
    "tags": []
   },
   "outputs": [
    {
     "data": {
      "application/javascript": [
       "parent.postMessage({\"jupyterEvent\": \"custom.exercise_interaction\", \"data\": {\"outcomeType\": 1, \"valueTowardsCompletion\": 0.2, \"interactionType\": 1, \"questionType\": 4, \"questionId\": \"1_DataScienceOfShoelaces\", \"learnToolsVersion\": \"0.3.4\", \"failureMessage\": \"\", \"exceptionClass\": \"\", \"trace\": \"\"}}, \"*\")"
      ],
      "text/plain": [
       "<IPython.core.display.Javascript object>"
      ]
     },
     "metadata": {},
     "output_type": "display_data"
    },
    {
     "data": {
      "text/markdown": [
       "<span style=\"color:#33cc33\">Correct:</span> \n",
       "\n",
       "This is tricky, and it depends on details of how data is collected (which is common when thinking about leakage). Would you at the beginning of the month decide how much leather will be used that month? If so, this is ok. But if that is determined during the month, you would not have access to it when you make the prediction. If you have a guess at the beginning of the month, and it is subsequently changed during the month, the actual amount used during the month cannot be used as a feature (because it causes leakage)."
      ],
      "text/plain": [
       "Correct: \n",
       "\n",
       "This is tricky, and it depends on details of how data is collected (which is common when thinking about leakage). Would you at the beginning of the month decide how much leather will be used that month? If so, this is ok. But if that is determined during the month, you would not have access to it when you make the prediction. If you have a guess at the beginning of the month, and it is subsequently changed during the month, the actual amount used during the month cannot be used as a feature (because it causes leakage)."
      ]
     },
     "metadata": {},
     "output_type": "display_data"
    }
   ],
   "source": [
    "# Check your answer (Run this code cell to receive credit!)\n",
    "q_1.check()"
   ]
  },
  {
   "cell_type": "markdown",
   "id": "ed3e03b5",
   "metadata": {
    "papermill": {
     "duration": 0.00905,
     "end_time": "2021-08-15T21:03:25.438104",
     "exception": false,
     "start_time": "2021-08-15T21:03:25.429054",
     "status": "completed"
    },
    "tags": []
   },
   "source": [
    "# Step 2: Return of the Shoelaces\n",
    "\n",
    "You have a new idea. You could use the amount of leather Nike ordered (rather than the amount they actually used) leading up to a given month as a predictor in your shoelace model.\n",
    "\n",
    "Does this change your answer about whether there is a leakage problem? If you answer \"it depends,\" what does it depend on?"
   ]
  },
  {
   "cell_type": "code",
   "execution_count": 3,
   "id": "b793d880",
   "metadata": {
    "execution": {
     "iopub.execute_input": "2021-08-15T21:03:25.459931Z",
     "iopub.status.busy": "2021-08-15T21:03:25.459079Z",
     "iopub.status.idle": "2021-08-15T21:03:25.465702Z",
     "shell.execute_reply": "2021-08-15T21:03:25.466124Z",
     "shell.execute_reply.started": "2021-08-15T21:02:15.085819Z"
    },
    "papermill": {
     "duration": 0.018891,
     "end_time": "2021-08-15T21:03:25.466309",
     "exception": false,
     "start_time": "2021-08-15T21:03:25.447418",
     "status": "completed"
    },
    "tags": []
   },
   "outputs": [
    {
     "data": {
      "application/javascript": [
       "parent.postMessage({\"jupyterEvent\": \"custom.exercise_interaction\", \"data\": {\"outcomeType\": 1, \"valueTowardsCompletion\": 0.2, \"interactionType\": 1, \"questionType\": 4, \"questionId\": \"2_RevengeOfShoelaces\", \"learnToolsVersion\": \"0.3.4\", \"failureMessage\": \"\", \"exceptionClass\": \"\", \"trace\": \"\"}}, \"*\")"
      ],
      "text/plain": [
       "<IPython.core.display.Javascript object>"
      ]
     },
     "metadata": {},
     "output_type": "display_data"
    },
    {
     "data": {
      "text/markdown": [
       "<span style=\"color:#33cc33\">Correct:</span> \n",
       "\n",
       "This could be fine, but it depends on whether they order shoelaces first or leather first. If they order shoelaces first, you won't know how much leather they've ordered when you predict their shoelace needs. If they order leather first, then you'll have that number available when you place your shoelace order, and you should be ok."
      ],
      "text/plain": [
       "Correct: \n",
       "\n",
       "This could be fine, but it depends on whether they order shoelaces first or leather first. If they order shoelaces first, you won't know how much leather they've ordered when you predict their shoelace needs. If they order leather first, then you'll have that number available when you place your shoelace order, and you should be ok."
      ]
     },
     "metadata": {},
     "output_type": "display_data"
    }
   ],
   "source": [
    "# Check your answer (Run this code cell to receive credit!)\n",
    "q_2.check()"
   ]
  },
  {
   "cell_type": "markdown",
   "id": "489d7568",
   "metadata": {
    "papermill": {
     "duration": 0.009777,
     "end_time": "2021-08-15T21:03:25.486306",
     "exception": false,
     "start_time": "2021-08-15T21:03:25.476529",
     "status": "completed"
    },
    "tags": []
   },
   "source": [
    "# 3. Getting Rich With Cryptocurrencies?\n",
    "\n",
    "You saved Nike so much money that they gave you a bonus. Congratulations.\n",
    "\n",
    "Your friend, who is also a data scientist, says he has built a model that will let you turn your bonus into millions of dollars. Specifically, his model predicts the price of a new cryptocurrency (like Bitcoin, but a newer one) one day ahead of the moment of prediction. His plan is to purchase the cryptocurrency whenever the model says the price of the currency (in dollars) is about to go up.\n",
    "\n",
    "The most important features in his model are:\n",
    "- Current price of the currency\n",
    "- Amount of the currency sold in the last 24 hours\n",
    "- Change in the currency price in the last 24 hours\n",
    "- Change in the currency price in the last 1 hour\n",
    "- Number of new tweets in the last 24 hours that mention the currency\n",
    "\n",
    "The value of the cryptocurrency in dollars has fluctuated up and down by over $\\$$100 in the last year, and yet his model's average error is less than $\\$$1. He says this is proof his model is accurate, and you should invest with him, buying the currency whenever the model says it is about to go up.\n",
    "\n",
    "Is he right? If there is a problem with his model, what is it?"
   ]
  },
  {
   "cell_type": "code",
   "execution_count": 4,
   "id": "28d00fc2",
   "metadata": {
    "execution": {
     "iopub.execute_input": "2021-08-15T21:03:25.509951Z",
     "iopub.status.busy": "2021-08-15T21:03:25.509056Z",
     "iopub.status.idle": "2021-08-15T21:03:25.515974Z",
     "shell.execute_reply": "2021-08-15T21:03:25.516442Z",
     "shell.execute_reply.started": "2021-08-15T21:02:22.513866Z"
    },
    "papermill": {
     "duration": 0.020183,
     "end_time": "2021-08-15T21:03:25.516599",
     "exception": false,
     "start_time": "2021-08-15T21:03:25.496416",
     "status": "completed"
    },
    "tags": []
   },
   "outputs": [
    {
     "data": {
      "application/javascript": [
       "parent.postMessage({\"jupyterEvent\": \"custom.exercise_interaction\", \"data\": {\"outcomeType\": 1, \"valueTowardsCompletion\": 0.2, \"interactionType\": 1, \"questionType\": 4, \"questionId\": \"3_CryptoWealthJK\", \"learnToolsVersion\": \"0.3.4\", \"failureMessage\": \"\", \"exceptionClass\": \"\", \"trace\": \"\"}}, \"*\")"
      ],
      "text/plain": [
       "<IPython.core.display.Javascript object>"
      ]
     },
     "metadata": {},
     "output_type": "display_data"
    },
    {
     "data": {
      "text/markdown": [
       "<span style=\"color:#33cc33\">Correct:</span> \n",
       "\n",
       "There is no source of leakage here. These features should be available at the moment you want to make a predition, and they're unlikely to be changed in the training data after the prediction target is determined. But, the way he describes accuracy could be misleading if you aren't careful. If the price moves gradually, today's price will be an accurate predictor of tomorrow's price, but it may not tell you whether it's a good time to invest. For instance, if it is $100 today, a model predicting a price of $100 tomorrow may seem accurate, even if it can't tell you whether the price is going up or down from the current price. A better prediction target would be the change in price over the next day. If you can consistently predict whether the price is about to go up or down (and by how much), you may have a winning investment opportunity."
      ],
      "text/plain": [
       "Correct: \n",
       "\n",
       "There is no source of leakage here. These features should be available at the moment you want to make a predition, and they're unlikely to be changed in the training data after the prediction target is determined. But, the way he describes accuracy could be misleading if you aren't careful. If the price moves gradually, today's price will be an accurate predictor of tomorrow's price, but it may not tell you whether it's a good time to invest. For instance, if it is $100 today, a model predicting a price of $100 tomorrow may seem accurate, even if it can't tell you whether the price is going up or down from the current price. A better prediction target would be the change in price over the next day. If you can consistently predict whether the price is about to go up or down (and by how much), you may have a winning investment opportunity."
      ]
     },
     "metadata": {},
     "output_type": "display_data"
    }
   ],
   "source": [
    "# Check your answer (Run this code cell to receive credit!)\n",
    "q_3.check()"
   ]
  },
  {
   "cell_type": "markdown",
   "id": "c3f9ab4d",
   "metadata": {
    "papermill": {
     "duration": 0.010497,
     "end_time": "2021-08-15T21:03:25.538035",
     "exception": false,
     "start_time": "2021-08-15T21:03:25.527538",
     "status": "completed"
    },
    "tags": []
   },
   "source": [
    "# Step 4: Preventing Infections\n",
    "\n",
    "An agency that provides healthcare wants to predict which patients from a rare surgery are at risk of infection, so it can alert the nurses to be especially careful when following up with those patients.\n",
    "\n",
    "You want to build a model. Each row in the modeling dataset will be a single patient who received the surgery, and the prediction target will be whether they got an infection.\n",
    "\n",
    "Some surgeons may do the procedure in a manner that raises or lowers the risk of infection. But how can you best incorporate the surgeon information into the model?\n",
    "\n",
    "You have a clever idea. \n",
    "1. Take all surgeries by each surgeon and calculate the infection rate among those surgeons.\n",
    "2. For each patient in the data, find out who the surgeon was and plug in that surgeon's average infection rate as a feature.\n",
    "\n",
    "Does this pose any target leakage issues?\n",
    "Does it pose any train-test contamination issues?"
   ]
  },
  {
   "cell_type": "code",
   "execution_count": 5,
   "id": "0fbbbf66",
   "metadata": {
    "execution": {
     "iopub.execute_input": "2021-08-15T21:03:25.563401Z",
     "iopub.status.busy": "2021-08-15T21:03:25.562548Z",
     "iopub.status.idle": "2021-08-15T21:03:25.569293Z",
     "shell.execute_reply": "2021-08-15T21:03:25.569697Z",
     "shell.execute_reply.started": "2021-08-15T21:02:30.092327Z"
    },
    "papermill": {
     "duration": 0.020826,
     "end_time": "2021-08-15T21:03:25.569856",
     "exception": false,
     "start_time": "2021-08-15T21:03:25.549030",
     "status": "completed"
    },
    "tags": []
   },
   "outputs": [
    {
     "data": {
      "application/javascript": [
       "parent.postMessage({\"jupyterEvent\": \"custom.exercise_interaction\", \"data\": {\"outcomeType\": 1, \"valueTowardsCompletion\": 0.2, \"interactionType\": 1, \"questionType\": 4, \"questionId\": \"4_PreventingInfections\", \"learnToolsVersion\": \"0.3.4\", \"failureMessage\": \"\", \"exceptionClass\": \"\", \"trace\": \"\"}}, \"*\")"
      ],
      "text/plain": [
       "<IPython.core.display.Javascript object>"
      ]
     },
     "metadata": {},
     "output_type": "display_data"
    },
    {
     "data": {
      "text/markdown": [
       "<span style=\"color:#33cc33\">Correct:</span> \n",
       "\n",
       "This poses a risk of both target leakage and train-test contamination (though you may be able to avoid both if you are careful).\n",
       "\n",
       "You have target leakage if a given patient's outcome contributes to the infection rate for his surgeon, which is then plugged back into the prediction model for whether that patient becomes infected. You can avoid target leakage if you calculate the surgeon's infection rate by using only the surgeries before the patient we are predicting for. Calculating this for each surgery in your training data may be a little tricky.\n",
       "\n",
       "You also have a train-test contamination problem if you calculate this using all surgeries a surgeon performed, including those from the test-set. The result would be that your model could look very accurate on the test set, even if it wouldn't generalize well to new patients after the model is deployed. This would happen because the surgeon-risk feature accounts for data in the test set. Test sets exist to estimate how the model will do when seeing new data. So this contamination defeats the purpose of the test set."
      ],
      "text/plain": [
       "Correct: \n",
       "\n",
       "This poses a risk of both target leakage and train-test contamination (though you may be able to avoid both if you are careful).\n",
       "\n",
       "You have target leakage if a given patient's outcome contributes to the infection rate for his surgeon, which is then plugged back into the prediction model for whether that patient becomes infected. You can avoid target leakage if you calculate the surgeon's infection rate by using only the surgeries before the patient we are predicting for. Calculating this for each surgery in your training data may be a little tricky.\n",
       "\n",
       "You also have a train-test contamination problem if you calculate this using all surgeries a surgeon performed, including those from the test-set. The result would be that your model could look very accurate on the test set, even if it wouldn't generalize well to new patients after the model is deployed. This would happen because the surgeon-risk feature accounts for data in the test set. Test sets exist to estimate how the model will do when seeing new data. So this contamination defeats the purpose of the test set."
      ]
     },
     "metadata": {},
     "output_type": "display_data"
    }
   ],
   "source": [
    "# Check your answer (Run this code cell to receive credit!)\n",
    "q_4.check()"
   ]
  },
  {
   "cell_type": "markdown",
   "id": "c1e27adf",
   "metadata": {
    "papermill": {
     "duration": 0.01145,
     "end_time": "2021-08-15T21:03:25.593174",
     "exception": false,
     "start_time": "2021-08-15T21:03:25.581724",
     "status": "completed"
    },
    "tags": []
   },
   "source": [
    "# Step 5: Housing Prices\n",
    "\n",
    "You will build a model to predict housing prices.  The model will be deployed on an ongoing basis, to predict the price of a new house when a description is added to a website.  Here are four features that could be used as predictors.\n",
    "1. Size of the house (in square meters)\n",
    "2. Average sales price of homes in the same neighborhood\n",
    "3. Latitude and longitude of the house\n",
    "4. Whether the house has a basement\n",
    "\n",
    "You have historic data to train and validate the model.\n",
    "\n",
    "Which of the features is most likely to be a source of leakage?"
   ]
  },
  {
   "cell_type": "code",
   "execution_count": 6,
   "id": "94688bd5",
   "metadata": {
    "execution": {
     "iopub.execute_input": "2021-08-15T21:03:25.619872Z",
     "iopub.status.busy": "2021-08-15T21:03:25.619004Z",
     "iopub.status.idle": "2021-08-15T21:03:25.625734Z",
     "shell.execute_reply": "2021-08-15T21:03:25.626183Z",
     "shell.execute_reply.started": "2021-08-15T21:02:57.398467Z"
    },
    "papermill": {
     "duration": 0.021402,
     "end_time": "2021-08-15T21:03:25.626347",
     "exception": false,
     "start_time": "2021-08-15T21:03:25.604945",
     "status": "completed"
    },
    "tags": []
   },
   "outputs": [
    {
     "data": {
      "application/javascript": [
       "parent.postMessage({\"jupyterEvent\": \"custom.exercise_interaction\", \"data\": {\"outcomeType\": 1, \"valueTowardsCompletion\": 0.2, \"interactionType\": 1, \"questionType\": 2, \"questionId\": \"5_HomeAgainLeakage\", \"learnToolsVersion\": \"0.3.4\", \"failureMessage\": \"\", \"exceptionClass\": \"\", \"trace\": \"\"}}, \"*\")"
      ],
      "text/plain": [
       "<IPython.core.display.Javascript object>"
      ]
     },
     "metadata": {},
     "output_type": "display_data"
    },
    {
     "data": {
      "text/markdown": [
       "<span style=\"color:#33cc33\">Correct:</span> \n",
       "\n",
       "2 is the source of target leakage. Here is an analysis for each feature: \n",
       "\n",
       "1. The size of a house is unlikely to be changed after it is sold (though technically it's possible). But typically this will be available when we need to make a prediction, and the data won't be modified after the home is sold. So it is pretty safe. \n",
       "\n",
       "2. We don't know the rules for when this is updated. If the field is updated in the raw data after a home was sold, and the home's sale is used to calculate the average, this constitutes a case of target leakage. At an extreme, if only one home is sold in the neighborhood, and it is the home we are trying to predict, then the average will be exactly equal to the value we are trying to predict.  In general, for neighborhoods with few sales, the model will perform very well on the training data.  But when you apply the model, the home you are predicting won't have been sold yet, so this feature won't work the same as it did in the training data. \n",
       "\n",
       "3. These don't change, and will be available at the time we want to make a prediction. So there's no risk of target leakage here. \n",
       "\n",
       "4. This also doesn't change, and it is available at the time we want to make a prediction. So there's no risk of target leakage here."
      ],
      "text/plain": [
       "Correct: \n",
       "\n",
       "2 is the source of target leakage. Here is an analysis for each feature: \n",
       "\n",
       "1. The size of a house is unlikely to be changed after it is sold (though technically it's possible). But typically this will be available when we need to make a prediction, and the data won't be modified after the home is sold. So it is pretty safe. \n",
       "\n",
       "2. We don't know the rules for when this is updated. If the field is updated in the raw data after a home was sold, and the home's sale is used to calculate the average, this constitutes a case of target leakage. At an extreme, if only one home is sold in the neighborhood, and it is the home we are trying to predict, then the average will be exactly equal to the value we are trying to predict.  In general, for neighborhoods with few sales, the model will perform very well on the training data.  But when you apply the model, the home you are predicting won't have been sold yet, so this feature won't work the same as it did in the training data. \n",
       "\n",
       "3. These don't change, and will be available at the time we want to make a prediction. So there's no risk of target leakage here. \n",
       "\n",
       "4. This also doesn't change, and it is available at the time we want to make a prediction. So there's no risk of target leakage here."
      ]
     },
     "metadata": {},
     "output_type": "display_data"
    }
   ],
   "source": [
    "# Fill in the line below with one of 1, 2, 3 or 4.\n",
    "potential_leakage_feature = 2\n",
    "\n",
    "# Check your answer\n",
    "q_5.check()"
   ]
  },
  {
   "cell_type": "code",
   "execution_count": 7,
   "id": "9db0afa9",
   "metadata": {
    "execution": {
     "iopub.execute_input": "2021-08-15T21:03:25.654859Z",
     "iopub.status.busy": "2021-08-15T21:03:25.653964Z",
     "iopub.status.idle": "2021-08-15T21:03:25.665315Z",
     "shell.execute_reply": "2021-08-15T21:03:25.664726Z",
     "shell.execute_reply.started": "2021-08-15T21:02:39.194992Z"
    },
    "papermill": {
     "duration": 0.026497,
     "end_time": "2021-08-15T21:03:25.665451",
     "exception": false,
     "start_time": "2021-08-15T21:03:25.638954",
     "status": "completed"
    },
    "tags": []
   },
   "outputs": [
    {
     "data": {
      "application/javascript": [
       "parent.postMessage({\"jupyterEvent\": \"custom.exercise_interaction\", \"data\": {\"interactionType\": 2, \"questionType\": 2, \"questionId\": \"5_HomeAgainLeakage\", \"learnToolsVersion\": \"0.3.4\", \"valueTowardsCompletion\": 0.0, \"failureMessage\": \"\", \"exceptionClass\": \"\", \"trace\": \"\", \"outcomeType\": 4}}, \"*\")"
      ],
      "text/plain": [
       "<IPython.core.display.Javascript object>"
      ]
     },
     "metadata": {},
     "output_type": "display_data"
    },
    {
     "data": {
      "text/markdown": [
       "<span style=\"color:#3366cc\">Hint:</span> Which of these features might be updated in a database after the house is     sold? That's the one to worry about."
      ],
      "text/plain": [
       "Hint: Which of these features might be updated in a database after the house is     sold? That's the one to worry about."
      ]
     },
     "metadata": {},
     "output_type": "display_data"
    },
    {
     "data": {
      "application/javascript": [
       "parent.postMessage({\"jupyterEvent\": \"custom.exercise_interaction\", \"data\": {\"interactionType\": 3, \"questionType\": 2, \"questionId\": \"5_HomeAgainLeakage\", \"learnToolsVersion\": \"0.3.4\", \"valueTowardsCompletion\": 0.0, \"failureMessage\": \"\", \"exceptionClass\": \"\", \"trace\": \"\", \"outcomeType\": 4}}, \"*\")"
      ],
      "text/plain": [
       "<IPython.core.display.Javascript object>"
      ]
     },
     "metadata": {},
     "output_type": "display_data"
    },
    {
     "data": {
      "text/markdown": [
       "<span style=\"color:#33cc99\">Solution:</span> 2 is the source of target leakage. Here is an analysis for each feature: \n",
       "\n",
       "1. The size of a house is unlikely to be changed after it is sold (though technically it's possible). But typically this will be available when we need to make a prediction, and the data won't be modified after the home is sold. So it is pretty safe. \n",
       "\n",
       "2. We don't know the rules for when this is updated. If the field is updated in the raw data after a home was sold, and the home's sale is used to calculate the average, this constitutes a case of target leakage. At an extreme, if only one home is sold in the neighborhood, and it is the home we are trying to predict, then the average will be exactly equal to the value we are trying to predict.  In general, for neighborhoods with few sales, the model will perform very well on the training data.  But when you apply the model, the home you are predicting won't have been sold yet, so this feature won't work the same as it did in the training data. \n",
       "\n",
       "3. These don't change, and will be available at the time we want to make a prediction. So there's no risk of target leakage here. \n",
       "\n",
       "4. This also doesn't change, and it is available at the time we want to make a prediction. So there's no risk of target leakage here."
      ],
      "text/plain": [
       "Solution: 2 is the source of target leakage. Here is an analysis for each feature: \n",
       "\n",
       "1. The size of a house is unlikely to be changed after it is sold (though technically it's possible). But typically this will be available when we need to make a prediction, and the data won't be modified after the home is sold. So it is pretty safe. \n",
       "\n",
       "2. We don't know the rules for when this is updated. If the field is updated in the raw data after a home was sold, and the home's sale is used to calculate the average, this constitutes a case of target leakage. At an extreme, if only one home is sold in the neighborhood, and it is the home we are trying to predict, then the average will be exactly equal to the value we are trying to predict.  In general, for neighborhoods with few sales, the model will perform very well on the training data.  But when you apply the model, the home you are predicting won't have been sold yet, so this feature won't work the same as it did in the training data. \n",
       "\n",
       "3. These don't change, and will be available at the time we want to make a prediction. So there's no risk of target leakage here. \n",
       "\n",
       "4. This also doesn't change, and it is available at the time we want to make a prediction. So there's no risk of target leakage here."
      ]
     },
     "metadata": {},
     "output_type": "display_data"
    }
   ],
   "source": [
    "q_5.hint()\n",
    "q_5.solution()"
   ]
  },
  {
   "cell_type": "markdown",
   "id": "b86cb441",
   "metadata": {
    "papermill": {
     "duration": 0.013838,
     "end_time": "2021-08-15T21:03:25.693656",
     "exception": false,
     "start_time": "2021-08-15T21:03:25.679818",
     "status": "completed"
    },
    "tags": []
   },
   "source": [
    "# Conclusion\n",
    "Leakage is a hard and subtle issue. You should be proud if you picked up on the issues in these examples.\n",
    "\n",
    "Now you have the tools to make highly accurate models, and pick up on the most difficult practical problems that arise with applying these models to solve real problems.\n",
    "\n",
    "There is still a lot of room to build knowledge and experience. Try out a [Competition](https://www.kaggle.com/competitions) or look through our [Datasets](https://kaggle.com/datasets) to practice your new skills.\n",
    "\n",
    "Again, Congratulations!"
   ]
  },
  {
   "cell_type": "markdown",
   "id": "f7df0fa4",
   "metadata": {
    "papermill": {
     "duration": 0.013803,
     "end_time": "2021-08-15T21:03:25.721554",
     "exception": false,
     "start_time": "2021-08-15T21:03:25.707751",
     "status": "completed"
    },
    "tags": []
   },
   "source": [
    "---\n",
    "\n",
    "\n",
    "\n",
    "\n",
    "*Have questions or comments? Visit the [Learn Discussion forum](https://www.kaggle.com/learn-forum/161289) to chat with other Learners.*"
   ]
  }
 ],
 "metadata": {
  "kernelspec": {
   "display_name": "Python 3",
   "language": "python",
   "name": "python3"
  },
  "language_info": {
   "codemirror_mode": {
    "name": "ipython",
    "version": 3
   },
   "file_extension": ".py",
   "mimetype": "text/x-python",
   "name": "python",
   "nbconvert_exporter": "python",
   "pygments_lexer": "ipython3",
   "version": "3.7.10"
  },
  "papermill": {
   "default_parameters": {},
   "duration": 8.677025,
   "end_time": "2021-08-15T21:03:27.248452",
   "environment_variables": {},
   "exception": null,
   "input_path": "__notebook__.ipynb",
   "output_path": "__notebook__.ipynb",
   "parameters": {},
   "start_time": "2021-08-15T21:03:18.571427",
   "version": "2.3.3"
  }
 },
 "nbformat": 4,
 "nbformat_minor": 5
}
