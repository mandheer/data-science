{
 "cells": [
  {
   "cell_type": "markdown",
   "id": "74041ba7",
   "metadata": {
    "papermill": {
     "duration": 0.008183,
     "end_time": "2021-08-14T23:36:36.338952",
     "exception": false,
     "start_time": "2021-08-14T23:36:36.330769",
     "status": "completed"
    },
    "tags": []
   },
   "source": [
    "**This notebook is an exercise in the [Introduction to Machine Learning](https://www.kaggle.com/learn/intro-to-machine-learning) course.  You can reference the tutorial at [this link](https://www.kaggle.com/dansbecker/underfitting-and-overfitting).**\n",
    "\n",
    "---\n"
   ]
  },
  {
   "cell_type": "markdown",
   "id": "a8e94291",
   "metadata": {
    "papermill": {
     "duration": 0.006891,
     "end_time": "2021-08-14T23:36:36.353705",
     "exception": false,
     "start_time": "2021-08-14T23:36:36.346814",
     "status": "completed"
    },
    "tags": []
   },
   "source": [
    "## Recap\n",
    "You've built your first model, and now it's time to optimize the size of the tree to make better predictions. Run this cell to set up your coding environment where the previous step left off."
   ]
  },
  {
   "cell_type": "code",
   "execution_count": 1,
   "id": "5938c61c",
   "metadata": {
    "execution": {
     "iopub.execute_input": "2021-08-14T23:36:36.374005Z",
     "iopub.status.busy": "2021-08-14T23:36:36.372274Z",
     "iopub.status.idle": "2021-08-14T23:36:37.843898Z",
     "shell.execute_reply": "2021-08-14T23:36:37.843180Z",
     "shell.execute_reply.started": "2021-08-14T23:25:04.367465Z"
    },
    "papermill": {
     "duration": 1.483175,
     "end_time": "2021-08-14T23:36:37.844106",
     "exception": false,
     "start_time": "2021-08-14T23:36:36.360931",
     "status": "completed"
    },
    "tags": []
   },
   "outputs": [
    {
     "name": "stdout",
     "output_type": "stream",
     "text": [
      "Validation MAE: 29,653\n",
      "\n",
      "Setup complete\n"
     ]
    }
   ],
   "source": [
    "# Code you have previously used to load data\n",
    "import pandas as pd\n",
    "from sklearn.metrics import mean_absolute_error\n",
    "from sklearn.model_selection import train_test_split\n",
    "from sklearn.tree import DecisionTreeRegressor\n",
    "\n",
    "\n",
    "# Path of the file to read\n",
    "iowa_file_path = '../input/home-data-for-ml-course/train.csv'\n",
    "\n",
    "home_data = pd.read_csv(iowa_file_path)\n",
    "# Create target object and call it y\n",
    "y = home_data.SalePrice\n",
    "# Create X\n",
    "features = ['LotArea', 'YearBuilt', '1stFlrSF', '2ndFlrSF', 'FullBath', 'BedroomAbvGr', 'TotRmsAbvGrd']\n",
    "X = home_data[features]\n",
    "\n",
    "# Split into validation and training data\n",
    "train_X, val_X, train_y, val_y = train_test_split(X, y, random_state=1)\n",
    "\n",
    "# Specify Model\n",
    "iowa_model = DecisionTreeRegressor(random_state=1)\n",
    "# Fit Model\n",
    "iowa_model.fit(train_X, train_y)\n",
    "\n",
    "# Make validation predictions and calculate mean absolute error\n",
    "val_predictions = iowa_model.predict(val_X)\n",
    "val_mae = mean_absolute_error(val_predictions, val_y)\n",
    "print(\"Validation MAE: {:,.0f}\".format(val_mae))\n",
    "\n",
    "# Set up code checking\n",
    "from learntools.core import binder\n",
    "binder.bind(globals())\n",
    "from learntools.machine_learning.ex5 import *\n",
    "print(\"\\nSetup complete\")"
   ]
  },
  {
   "cell_type": "markdown",
   "id": "0c9b28e7",
   "metadata": {
    "papermill": {
     "duration": 0.00795,
     "end_time": "2021-08-14T23:36:37.861146",
     "exception": false,
     "start_time": "2021-08-14T23:36:37.853196",
     "status": "completed"
    },
    "tags": []
   },
   "source": [
    "# Exercises\n",
    "You could write the function `get_mae` yourself. For now, we'll supply it. This is the same function you read about in the previous lesson. Just run the cell below."
   ]
  },
  {
   "cell_type": "code",
   "execution_count": 2,
   "id": "dcf8c481",
   "metadata": {
    "execution": {
     "iopub.execute_input": "2021-08-14T23:36:37.882893Z",
     "iopub.status.busy": "2021-08-14T23:36:37.882226Z",
     "iopub.status.idle": "2021-08-14T23:36:37.885800Z",
     "shell.execute_reply": "2021-08-14T23:36:37.885276Z",
     "shell.execute_reply.started": "2021-08-14T23:25:23.206206Z"
    },
    "papermill": {
     "duration": 0.016968,
     "end_time": "2021-08-14T23:36:37.885957",
     "exception": false,
     "start_time": "2021-08-14T23:36:37.868989",
     "status": "completed"
    },
    "tags": []
   },
   "outputs": [],
   "source": [
    "def get_mae(max_leaf_nodes, train_X, val_X, train_y, val_y):\n",
    "    model = DecisionTreeRegressor(max_leaf_nodes=max_leaf_nodes, random_state=0)\n",
    "    model.fit(train_X, train_y)\n",
    "    preds_val = model.predict(val_X)\n",
    "    mae = mean_absolute_error(val_y, preds_val)\n",
    "    return(mae)"
   ]
  },
  {
   "cell_type": "markdown",
   "id": "9be58937",
   "metadata": {
    "papermill": {
     "duration": 0.007348,
     "end_time": "2021-08-14T23:36:37.901292",
     "exception": false,
     "start_time": "2021-08-14T23:36:37.893944",
     "status": "completed"
    },
    "tags": []
   },
   "source": [
    "## Step 1: Compare Different Tree Sizes\n",
    "Write a loop that tries the following values for *max_leaf_nodes* from a set of possible values.\n",
    "\n",
    "Call the *get_mae* function on each value of max_leaf_nodes. Store the output in some way that allows you to select the value of `max_leaf_nodes` that gives the most accurate model on your data."
   ]
  },
  {
   "cell_type": "code",
   "execution_count": 3,
   "id": "b52fc2ec",
   "metadata": {
    "execution": {
     "iopub.execute_input": "2021-08-14T23:36:37.925514Z",
     "iopub.status.busy": "2021-08-14T23:36:37.924830Z",
     "iopub.status.idle": "2021-08-14T23:36:37.978928Z",
     "shell.execute_reply": "2021-08-14T23:36:37.978263Z",
     "shell.execute_reply.started": "2021-08-14T23:34:09.628114Z"
    },
    "papermill": {
     "duration": 0.069935,
     "end_time": "2021-08-14T23:36:37.979070",
     "exception": false,
     "start_time": "2021-08-14T23:36:37.909135",
     "status": "completed"
    },
    "tags": []
   },
   "outputs": [
    {
     "name": "stdout",
     "output_type": "stream",
     "text": [
      "100\n"
     ]
    },
    {
     "data": {
      "application/javascript": [
       "parent.postMessage({\"jupyterEvent\": \"custom.exercise_interaction\", \"data\": {\"outcomeType\": 1, \"valueTowardsCompletion\": 0.5, \"interactionType\": 1, \"questionType\": 1, \"questionId\": \"1_BestTreeSize\", \"learnToolsVersion\": \"0.3.4\", \"failureMessage\": \"\", \"exceptionClass\": \"\", \"trace\": \"\"}}, \"*\")"
      ],
      "text/plain": [
       "<IPython.core.display.Javascript object>"
      ]
     },
     "metadata": {},
     "output_type": "display_data"
    },
    {
     "data": {
      "text/markdown": [
       "<span style=\"color:#33cc33\">Correct</span>"
      ],
      "text/plain": [
       "Correct"
      ]
     },
     "metadata": {},
     "output_type": "display_data"
    }
   ],
   "source": [
    "candidate_max_leaf_nodes = [5, 25, 50, 100, 250, 500]\n",
    "# Write loop to find the ideal tree size from candidate_max_leaf_nodes\n",
    "mae_final, final_node = 99999999999,0\n",
    "for node in candidate_max_leaf_nodes:\n",
    "    my_mae = get_mae(node, train_X, val_X, train_y, val_y)\n",
    "    if mae_final > my_mae:\n",
    "        mae_final = my_mae\n",
    "        final_node = node\n",
    "\n",
    "# Store the best value of max_leaf_nodes (it will be either 5, 25, 50, 100, 250 or 500)\n",
    "best_tree_size = final_node\n",
    "print(best_tree_size)\n",
    "# Check your answer\n",
    "step_1.check()"
   ]
  },
  {
   "cell_type": "code",
   "execution_count": 4,
   "id": "8ad1a182",
   "metadata": {
    "execution": {
     "iopub.execute_input": "2021-08-14T23:36:38.003174Z",
     "iopub.status.busy": "2021-08-14T23:36:38.002043Z",
     "iopub.status.idle": "2021-08-14T23:36:38.013661Z",
     "shell.execute_reply": "2021-08-14T23:36:38.012772Z",
     "shell.execute_reply.started": "2021-08-14T23:30:20.930307Z"
    },
    "papermill": {
     "duration": 0.025763,
     "end_time": "2021-08-14T23:36:38.013828",
     "exception": false,
     "start_time": "2021-08-14T23:36:37.988065",
     "status": "completed"
    },
    "tags": []
   },
   "outputs": [
    {
     "data": {
      "application/javascript": [
       "parent.postMessage({\"jupyterEvent\": \"custom.exercise_interaction\", \"data\": {\"interactionType\": 2, \"questionType\": 1, \"questionId\": \"1_BestTreeSize\", \"learnToolsVersion\": \"0.3.4\", \"valueTowardsCompletion\": 0.0, \"failureMessage\": \"\", \"exceptionClass\": \"\", \"trace\": \"\", \"outcomeType\": 4}}, \"*\")"
      ],
      "text/plain": [
       "<IPython.core.display.Javascript object>"
      ]
     },
     "metadata": {},
     "output_type": "display_data"
    },
    {
     "data": {
      "text/markdown": [
       "<span style=\"color:#3366cc\">Hint:</span> You will call get_mae in the loop. You'll need to map the names of your data structure to the names in get_mae"
      ],
      "text/plain": [
       "Hint: You will call get_mae in the loop. You'll need to map the names of your data structure to the names in get_mae"
      ]
     },
     "metadata": {},
     "output_type": "display_data"
    },
    {
     "data": {
      "application/javascript": [
       "parent.postMessage({\"jupyterEvent\": \"custom.exercise_interaction\", \"data\": {\"interactionType\": 3, \"questionType\": 1, \"questionId\": \"1_BestTreeSize\", \"learnToolsVersion\": \"0.3.4\", \"valueTowardsCompletion\": 0.0, \"failureMessage\": \"\", \"exceptionClass\": \"\", \"trace\": \"\", \"outcomeType\": 4}}, \"*\")"
      ],
      "text/plain": [
       "<IPython.core.display.Javascript object>"
      ]
     },
     "metadata": {},
     "output_type": "display_data"
    },
    {
     "data": {
      "text/markdown": [
       "<span style=\"color:#33cc99\">Solution:</span> \n",
       "```python\n",
       "# Here is a short solution with a dict comprehension.\n",
       "# The lesson gives an example of how to do this with an explicit loop.\n",
       "scores = {leaf_size: get_mae(leaf_size, train_X, val_X, train_y, val_y) for leaf_size in candidate_max_leaf_nodes}\n",
       "best_tree_size = min(scores, key=scores.get)\n",
       "\n",
       "```"
      ],
      "text/plain": [
       "Solution: \n",
       "```python\n",
       "# Here is a short solution with a dict comprehension.\n",
       "# The lesson gives an example of how to do this with an explicit loop.\n",
       "scores = {leaf_size: get_mae(leaf_size, train_X, val_X, train_y, val_y) for leaf_size in candidate_max_leaf_nodes}\n",
       "best_tree_size = min(scores, key=scores.get)\n",
       "\n",
       "```"
      ]
     },
     "metadata": {},
     "output_type": "display_data"
    }
   ],
   "source": [
    "# The lines below will show you a hint or the solution.\n",
    "step_1.hint() \n",
    "step_1.solution()"
   ]
  },
  {
   "cell_type": "markdown",
   "id": "402c7c95",
   "metadata": {
    "papermill": {
     "duration": 0.010638,
     "end_time": "2021-08-14T23:36:38.034939",
     "exception": false,
     "start_time": "2021-08-14T23:36:38.024301",
     "status": "completed"
    },
    "tags": []
   },
   "source": [
    "## Step 2: Fit Model Using All Data\n",
    "You know the best tree size. If you were going to deploy this model in practice, you would make it even more accurate by using all of the data and keeping that tree size.  That is, you don't need to hold out the validation data now that you've made all your modeling decisions."
   ]
  },
  {
   "cell_type": "code",
   "execution_count": 5,
   "id": "c7225645",
   "metadata": {
    "execution": {
     "iopub.execute_input": "2021-08-14T23:36:38.065238Z",
     "iopub.status.busy": "2021-08-14T23:36:38.063790Z",
     "iopub.status.idle": "2021-08-14T23:36:38.078758Z",
     "shell.execute_reply": "2021-08-14T23:36:38.078206Z",
     "shell.execute_reply.started": "2021-08-14T23:36:10.743750Z"
    },
    "papermill": {
     "duration": 0.033541,
     "end_time": "2021-08-14T23:36:38.078914",
     "exception": false,
     "start_time": "2021-08-14T23:36:38.045373",
     "status": "completed"
    },
    "tags": []
   },
   "outputs": [
    {
     "data": {
      "application/javascript": [
       "parent.postMessage({\"jupyterEvent\": \"custom.exercise_interaction\", \"data\": {\"outcomeType\": 1, \"valueTowardsCompletion\": 0.5, \"interactionType\": 1, \"questionType\": 2, \"questionId\": \"2_FitModelWithAllData\", \"learnToolsVersion\": \"0.3.4\", \"failureMessage\": \"\", \"exceptionClass\": \"\", \"trace\": \"\"}}, \"*\")"
      ],
      "text/plain": [
       "<IPython.core.display.Javascript object>"
      ]
     },
     "metadata": {},
     "output_type": "display_data"
    },
    {
     "data": {
      "text/markdown": [
       "<span style=\"color:#33cc33\">Correct</span>"
      ],
      "text/plain": [
       "Correct"
      ]
     },
     "metadata": {},
     "output_type": "display_data"
    }
   ],
   "source": [
    "# Fill in argument to make optimal size and uncomment\n",
    "final_model = DecisionTreeRegressor(max_leaf_nodes=best_tree_size, random_state=1)\n",
    "\n",
    "# fit the final model and uncomment the next two lines\n",
    "final_model.fit(X, y)\n",
    "\n",
    "# Check your answer\n",
    "step_2.check()"
   ]
  },
  {
   "cell_type": "code",
   "execution_count": 6,
   "id": "9e929344",
   "metadata": {
    "execution": {
     "iopub.execute_input": "2021-08-14T23:36:38.107464Z",
     "iopub.status.busy": "2021-08-14T23:36:38.106855Z",
     "iopub.status.idle": "2021-08-14T23:36:38.115099Z",
     "shell.execute_reply": "2021-08-14T23:36:38.114494Z",
     "shell.execute_reply.started": "2021-08-14T23:35:34.960405Z"
    },
    "papermill": {
     "duration": 0.024598,
     "end_time": "2021-08-14T23:36:38.115251",
     "exception": false,
     "start_time": "2021-08-14T23:36:38.090653",
     "status": "completed"
    },
    "tags": []
   },
   "outputs": [
    {
     "data": {
      "application/javascript": [
       "parent.postMessage({\"jupyterEvent\": \"custom.exercise_interaction\", \"data\": {\"interactionType\": 2, \"questionType\": 2, \"questionId\": \"2_FitModelWithAllData\", \"learnToolsVersion\": \"0.3.4\", \"valueTowardsCompletion\": 0.0, \"failureMessage\": \"\", \"exceptionClass\": \"\", \"trace\": \"\", \"outcomeType\": 4}}, \"*\")"
      ],
      "text/plain": [
       "<IPython.core.display.Javascript object>"
      ]
     },
     "metadata": {},
     "output_type": "display_data"
    },
    {
     "data": {
      "text/markdown": [
       "<span style=\"color:#3366cc\">Hint:</span> Fit with the ideal value of max_leaf_nodes. In the fit step, use all of the data in the dataset"
      ],
      "text/plain": [
       "Hint: Fit with the ideal value of max_leaf_nodes. In the fit step, use all of the data in the dataset"
      ]
     },
     "metadata": {},
     "output_type": "display_data"
    },
    {
     "data": {
      "application/javascript": [
       "parent.postMessage({\"jupyterEvent\": \"custom.exercise_interaction\", \"data\": {\"interactionType\": 3, \"questionType\": 2, \"questionId\": \"2_FitModelWithAllData\", \"learnToolsVersion\": \"0.3.4\", \"valueTowardsCompletion\": 0.0, \"failureMessage\": \"\", \"exceptionClass\": \"\", \"trace\": \"\", \"outcomeType\": 4}}, \"*\")"
      ],
      "text/plain": [
       "<IPython.core.display.Javascript object>"
      ]
     },
     "metadata": {},
     "output_type": "display_data"
    },
    {
     "data": {
      "text/markdown": [
       "<span style=\"color:#33cc99\">Solution:</span> \n",
       "```python\n",
       "# Fit the model with best_tree_size. Fill in argument to make optimal size\n",
       "final_model = DecisionTreeRegressor(max_leaf_nodes=best_tree_size, random_state=1)\n",
       "\n",
       "# fit the final model\n",
       "final_model.fit(X, y)\n",
       "```"
      ],
      "text/plain": [
       "Solution: \n",
       "```python\n",
       "# Fit the model with best_tree_size. Fill in argument to make optimal size\n",
       "final_model = DecisionTreeRegressor(max_leaf_nodes=best_tree_size, random_state=1)\n",
       "\n",
       "# fit the final model\n",
       "final_model.fit(X, y)\n",
       "```"
      ]
     },
     "metadata": {},
     "output_type": "display_data"
    }
   ],
   "source": [
    "step_2.hint()\n",
    "step_2.solution()"
   ]
  },
  {
   "cell_type": "markdown",
   "id": "ecd6c7f9",
   "metadata": {
    "papermill": {
     "duration": 0.012935,
     "end_time": "2021-08-14T23:36:38.140592",
     "exception": false,
     "start_time": "2021-08-14T23:36:38.127657",
     "status": "completed"
    },
    "tags": []
   },
   "source": [
    "You've tuned this model and improved your results. But we are still using Decision Tree models, which are not very sophisticated by modern machine learning standards. In the next step you will learn to use Random Forests to improve your models even more.\n",
    "\n",
    "# Keep Going\n",
    "\n",
    "You are ready for **[Random Forests](https://www.kaggle.com/dansbecker/random-forests).**\n"
   ]
  },
  {
   "cell_type": "markdown",
   "id": "b4e617a1",
   "metadata": {
    "papermill": {
     "duration": 0.012244,
     "end_time": "2021-08-14T23:36:38.165377",
     "exception": false,
     "start_time": "2021-08-14T23:36:38.153133",
     "status": "completed"
    },
    "tags": []
   },
   "source": [
    "---\n",
    "\n",
    "\n",
    "\n",
    "\n",
    "*Have questions or comments? Visit the [Learn Discussion forum](https://www.kaggle.com/learn-forum/161285) to chat with other Learners.*"
   ]
  }
 ],
 "metadata": {
  "kernelspec": {
   "display_name": "Python 3",
   "language": "python",
   "name": "python3"
  },
  "language_info": {
   "codemirror_mode": {
    "name": "ipython",
    "version": 3
   },
   "file_extension": ".py",
   "mimetype": "text/x-python",
   "name": "python",
   "nbconvert_exporter": "python",
   "pygments_lexer": "ipython3",
   "version": "3.7.10"
  },
  "papermill": {
   "default_parameters": {},
   "duration": 10.799819,
   "end_time": "2021-08-14T23:36:38.988983",
   "environment_variables": {},
   "exception": null,
   "input_path": "__notebook__.ipynb",
   "output_path": "__notebook__.ipynb",
   "parameters": {},
   "start_time": "2021-08-14T23:36:28.189164",
   "version": "2.3.3"
  }
 },
 "nbformat": 4,
 "nbformat_minor": 5
}
