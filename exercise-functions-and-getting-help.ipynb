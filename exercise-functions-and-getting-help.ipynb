{
 "cells": [
  {
   "cell_type": "markdown",
   "id": "a2bfdbe5",
   "metadata": {
    "papermill": {
     "duration": 0.014784,
     "end_time": "2021-08-06T22:36:32.150517",
     "exception": false,
     "start_time": "2021-08-06T22:36:32.135733",
     "status": "completed"
    },
    "tags": []
   },
   "source": [
    "**This notebook is an exercise in the [Python](https://www.kaggle.com/learn/python) course.  You can reference the tutorial at [this link](https://www.kaggle.com/colinmorris/functions-and-getting-help).**\n",
    "\n",
    "---\n"
   ]
  },
  {
   "cell_type": "markdown",
   "id": "302e5afb",
   "metadata": {
    "papermill": {
     "duration": 0.013885,
     "end_time": "2021-08-06T22:36:32.179399",
     "exception": false,
     "start_time": "2021-08-06T22:36:32.165514",
     "status": "completed"
    },
    "tags": []
   },
   "source": [
    "Functions are powerful. Try writing some yourself.\n",
    "\n",
    "As before, don't forget to run the setup code below before jumping into question 1."
   ]
  },
  {
   "cell_type": "code",
   "execution_count": 1,
   "id": "9369d40f",
   "metadata": {
    "_kg_hide-input": true,
    "_kg_hide-output": true,
    "execution": {
     "iopub.execute_input": "2021-08-06T22:36:32.221564Z",
     "iopub.status.busy": "2021-08-06T22:36:32.220837Z",
     "iopub.status.idle": "2021-08-06T22:36:32.347300Z",
     "shell.execute_reply": "2021-08-06T22:36:32.346554Z",
     "shell.execute_reply.started": "2021-08-06T22:24:18.419992Z"
    },
    "papermill": {
     "duration": 0.153841,
     "end_time": "2021-08-06T22:36:32.347460",
     "exception": false,
     "start_time": "2021-08-06T22:36:32.193619",
     "status": "completed"
    },
    "tags": []
   },
   "outputs": [
    {
     "name": "stdout",
     "output_type": "stream",
     "text": [
      "Setup complete.\n"
     ]
    }
   ],
   "source": [
    "# SETUP. You don't need to worry for now about what this code does or how it works.\n",
    "from learntools.core import binder; binder.bind(globals())\n",
    "from learntools.python.ex2 import *\n",
    "print('Setup complete.')"
   ]
  },
  {
   "cell_type": "markdown",
   "id": "01ece703",
   "metadata": {
    "papermill": {
     "duration": 0.01425,
     "end_time": "2021-08-06T22:36:32.376440",
     "exception": false,
     "start_time": "2021-08-06T22:36:32.362190",
     "status": "completed"
    },
    "tags": []
   },
   "source": [
    "# 1.\n",
    "\n",
    "Complete the body of the following function according to its docstring.\n",
    "\n",
    "HINT: Python has a built-in function `round`."
   ]
  },
  {
   "cell_type": "code",
   "execution_count": 2,
   "id": "5d963a65",
   "metadata": {
    "execution": {
     "iopub.execute_input": "2021-08-06T22:36:32.414426Z",
     "iopub.status.busy": "2021-08-06T22:36:32.413764Z",
     "iopub.status.idle": "2021-08-06T22:36:32.420197Z",
     "shell.execute_reply": "2021-08-06T22:36:32.419616Z",
     "shell.execute_reply.started": "2021-08-06T22:26:38.300399Z"
    },
    "papermill": {
     "duration": 0.02943,
     "end_time": "2021-08-06T22:36:32.420367",
     "exception": false,
     "start_time": "2021-08-06T22:36:32.390937",
     "status": "completed"
    },
    "tags": []
   },
   "outputs": [
    {
     "data": {
      "application/javascript": [
       "parent.postMessage({\"jupyterEvent\": \"custom.exercise_interaction\", \"data\": {\"outcomeType\": 1, \"valueTowardsCompletion\": 0.16666666666666666, \"interactionType\": 1, \"questionType\": 2, \"questionId\": \"1_RoundFunctionProblem\", \"learnToolsVersion\": \"0.3.4\", \"failureMessage\": \"\", \"exceptionClass\": \"\", \"trace\": \"\"}}, \"*\")"
      ],
      "text/plain": [
       "<IPython.core.display.Javascript object>"
      ]
     },
     "metadata": {},
     "output_type": "display_data"
    },
    {
     "data": {
      "text/markdown": [
       "<span style=\"color:#33cc33\">Correct</span>"
      ],
      "text/plain": [
       "Correct"
      ]
     },
     "metadata": {},
     "output_type": "display_data"
    }
   ],
   "source": [
    "def round_to_two_places(num):\n",
    "    \"\"\"Return the given number rounded to two decimal places. \n",
    "    \n",
    "    >>> round_to_two_places(3.14159)\n",
    "    3.14\n",
    "    \"\"\"\n",
    "    # Replace this body with your own code.\n",
    "    # (\"pass\" is a keyword that does literally nothing. We used it as a placeholder\n",
    "    # because after we begin a code block, Python requires at least one line of code)\n",
    "    return round(num,ndigits=2)\n",
    "\n",
    "# Check your answer\n",
    "q1.check()"
   ]
  },
  {
   "cell_type": "code",
   "execution_count": 3,
   "id": "1a47b76e",
   "metadata": {
    "execution": {
     "iopub.execute_input": "2021-08-06T22:36:32.455945Z",
     "iopub.status.busy": "2021-08-06T22:36:32.454948Z",
     "iopub.status.idle": "2021-08-06T22:36:32.458048Z",
     "shell.execute_reply": "2021-08-06T22:36:32.457376Z",
     "shell.execute_reply.started": "2021-08-06T22:26:46.166873Z"
    },
    "papermill": {
     "duration": 0.022348,
     "end_time": "2021-08-06T22:36:32.458190",
     "exception": false,
     "start_time": "2021-08-06T22:36:32.435842",
     "status": "completed"
    },
    "tags": []
   },
   "outputs": [],
   "source": [
    "# Uncomment the following for a hint\n",
    "#q1.hint()\n",
    "# Or uncomment the following to peek at the solution\n",
    "#q1.solution()"
   ]
  },
  {
   "cell_type": "markdown",
   "id": "1de941de",
   "metadata": {
    "papermill": {
     "duration": 0.015007,
     "end_time": "2021-08-06T22:36:32.488660",
     "exception": false,
     "start_time": "2021-08-06T22:36:32.473653",
     "status": "completed"
    },
    "tags": []
   },
   "source": [
    "# 2.\n",
    "The help for `round` says that `ndigits` (the second argument) may be negative.\n",
    "What do you think will happen when it is? Try some examples in the following cell."
   ]
  },
  {
   "cell_type": "code",
   "execution_count": 4,
   "id": "814d1aab",
   "metadata": {
    "execution": {
     "iopub.execute_input": "2021-08-06T22:36:32.522647Z",
     "iopub.status.busy": "2021-08-06T22:36:32.521748Z",
     "iopub.status.idle": "2021-08-06T22:36:32.527300Z",
     "shell.execute_reply": "2021-08-06T22:36:32.527862Z",
     "shell.execute_reply.started": "2021-08-06T22:28:18.904398Z"
    },
    "papermill": {
     "duration": 0.024114,
     "end_time": "2021-08-06T22:36:32.528034",
     "exception": false,
     "start_time": "2021-08-06T22:36:32.503920",
     "status": "completed"
    },
    "tags": []
   },
   "outputs": [
    {
     "name": "stdout",
     "output_type": "stream",
     "text": [
      "10520.0\n"
     ]
    }
   ],
   "source": [
    "# Put your test code here\n",
    "print(round(10523.147653,ndigits=-1))"
   ]
  },
  {
   "cell_type": "markdown",
   "id": "98a3e46a",
   "metadata": {
    "papermill": {
     "duration": 0.016328,
     "end_time": "2021-08-06T22:36:32.560932",
     "exception": false,
     "start_time": "2021-08-06T22:36:32.544604",
     "status": "completed"
    },
    "tags": []
   },
   "source": [
    "Can you think of a case where this would be useful?  Once you're ready, run the code cell below to see the answer and to receive credit for completing the problem."
   ]
  },
  {
   "cell_type": "code",
   "execution_count": 5,
   "id": "31938e24",
   "metadata": {
    "execution": {
     "iopub.execute_input": "2021-08-06T22:36:32.595647Z",
     "iopub.status.busy": "2021-08-06T22:36:32.594986Z",
     "iopub.status.idle": "2021-08-06T22:36:32.601193Z",
     "shell.execute_reply": "2021-08-06T22:36:32.601725Z",
     "shell.execute_reply.started": "2021-08-06T22:28:38.306847Z"
    },
    "papermill": {
     "duration": 0.025155,
     "end_time": "2021-08-06T22:36:32.601890",
     "exception": false,
     "start_time": "2021-08-06T22:36:32.576735",
     "status": "completed"
    },
    "tags": []
   },
   "outputs": [
    {
     "data": {
      "application/javascript": [
       "parent.postMessage({\"jupyterEvent\": \"custom.exercise_interaction\", \"data\": {\"interactionType\": 3, \"questionType\": 4, \"questionId\": \"2_RoundNdigitsProblem\", \"learnToolsVersion\": \"0.3.4\", \"valueTowardsCompletion\": 0.0, \"failureMessage\": \"\", \"exceptionClass\": \"\", \"trace\": \"\", \"outcomeType\": 4}}, \"*\")"
      ],
      "text/plain": [
       "<IPython.core.display.Javascript object>"
      ]
     },
     "metadata": {},
     "output_type": "display_data"
    },
    {
     "data": {
      "text/markdown": [
       "<span style=\"color:#33cc99\">Solution:</span> As you've seen, `ndigits=-1` rounds to the nearest 10, `ndigits=-2` rounds to the nearest 100 and so on. Where might this be useful? Suppose we're dealing with large numbers:\n",
       "\n",
       "> The area of Finland is 338,424 km²  \n",
       "> The area of Greenland is 2,166,086 km²\n",
       "\n",
       "We probably don't care whether it's really 338,424, or 338,425, or 338,177. All those digits of accuracy are just distracting. We can chop them off by calling `round()` with `ndigits=-3`:\n",
       "\n",
       "> The area of Finland is 338,000 km²  \n",
       "> The area of Greenland is 2,166,000 km²\n",
       "\n",
       "(We'll talk about how we would get the commas later when we talk about string formatting :))\n"
      ],
      "text/plain": [
       "Solution: As you've seen, `ndigits=-1` rounds to the nearest 10, `ndigits=-2` rounds to the nearest 100 and so on. Where might this be useful? Suppose we're dealing with large numbers:\n",
       "\n",
       "> The area of Finland is 338,424 km²  \n",
       "> The area of Greenland is 2,166,086 km²\n",
       "\n",
       "We probably don't care whether it's really 338,424, or 338,425, or 338,177. All those digits of accuracy are just distracting. We can chop them off by calling `round()` with `ndigits=-3`:\n",
       "\n",
       "> The area of Finland is 338,000 km²  \n",
       "> The area of Greenland is 2,166,000 km²\n",
       "\n",
       "(We'll talk about how we would get the commas later when we talk about string formatting :))"
      ]
     },
     "metadata": {},
     "output_type": "display_data"
    }
   ],
   "source": [
    "# Check your answer (Run this code cell to receive credit!)\n",
    "q2.solution()"
   ]
  },
  {
   "cell_type": "markdown",
   "id": "34b988a4",
   "metadata": {
    "papermill": {
     "duration": 0.016534,
     "end_time": "2021-08-06T22:36:32.635293",
     "exception": false,
     "start_time": "2021-08-06T22:36:32.618759",
     "status": "completed"
    },
    "tags": []
   },
   "source": [
    "# 3.\n",
    "\n",
    "In the previous exercise, the candy-sharing friends Alice, Bob and Carol tried to split candies evenly. For the sake of their friendship, any candies left over would be smashed. For example, if they collectively bring home 91 candies, they'll take 30 each and smash 1.\n",
    "\n",
    "Below is a simple function that will calculate the number of candies to smash for *any* number of total candies.\n",
    "\n",
    "Modify it so that it optionally takes a second argument representing the number of friends the candies are being split between. If no second argument is provided, it should assume 3 friends, as before.\n",
    "\n",
    "Update the docstring to reflect this new behaviour."
   ]
  },
  {
   "cell_type": "code",
   "execution_count": 6,
   "id": "c8b692e2",
   "metadata": {
    "execution": {
     "iopub.execute_input": "2021-08-06T22:36:32.673040Z",
     "iopub.status.busy": "2021-08-06T22:36:32.672372Z",
     "iopub.status.idle": "2021-08-06T22:36:32.680814Z",
     "shell.execute_reply": "2021-08-06T22:36:32.680261Z",
     "shell.execute_reply.started": "2021-08-06T22:31:49.010292Z"
    },
    "papermill": {
     "duration": 0.028809,
     "end_time": "2021-08-06T22:36:32.680964",
     "exception": false,
     "start_time": "2021-08-06T22:36:32.652155",
     "status": "completed"
    },
    "tags": []
   },
   "outputs": [
    {
     "data": {
      "application/javascript": [
       "parent.postMessage({\"jupyterEvent\": \"custom.exercise_interaction\", \"data\": {\"outcomeType\": 1, \"valueTowardsCompletion\": 0.16666666666666666, \"interactionType\": 1, \"questionType\": 2, \"questionId\": \"3_CandySmashingFunctionProblem\", \"learnToolsVersion\": \"0.3.4\", \"failureMessage\": \"\", \"exceptionClass\": \"\", \"trace\": \"\"}}, \"*\")"
      ],
      "text/plain": [
       "<IPython.core.display.Javascript object>"
      ]
     },
     "metadata": {},
     "output_type": "display_data"
    },
    {
     "data": {
      "text/markdown": [
       "<span style=\"color:#33cc33\">Correct</span>"
      ],
      "text/plain": [
       "Correct"
      ]
     },
     "metadata": {},
     "output_type": "display_data"
    }
   ],
   "source": [
    "def to_smash(total_candies,nfriends:int=3):\n",
    "    \"\"\"Return the number of leftover candies that must be smashed after distributing\n",
    "    the given number of candies evenly between nfriends=3 (default is 3) friends.\n",
    "    \n",
    "    >>> to_smash(91,nfriends=3)\n",
    "    1\n",
    "    \"\"\"\n",
    "    return total_candies % nfriends\n",
    "\n",
    "# Check your answer\n",
    "q3.check()"
   ]
  },
  {
   "cell_type": "code",
   "execution_count": 7,
   "id": "37ab7741",
   "metadata": {
    "execution": {
     "iopub.execute_input": "2021-08-06T22:36:32.721055Z",
     "iopub.status.busy": "2021-08-06T22:36:32.720334Z",
     "iopub.status.idle": "2021-08-06T22:36:32.722363Z",
     "shell.execute_reply": "2021-08-06T22:36:32.722974Z",
     "shell.execute_reply.started": "2021-08-06T22:31:53.018045Z"
    },
    "papermill": {
     "duration": 0.024353,
     "end_time": "2021-08-06T22:36:32.723148",
     "exception": false,
     "start_time": "2021-08-06T22:36:32.698795",
     "status": "completed"
    },
    "tags": []
   },
   "outputs": [],
   "source": [
    "#q3.hint()"
   ]
  },
  {
   "cell_type": "code",
   "execution_count": 8,
   "id": "6dcb7ab1",
   "metadata": {
    "execution": {
     "iopub.execute_input": "2021-08-06T22:36:32.763456Z",
     "iopub.status.busy": "2021-08-06T22:36:32.762812Z",
     "iopub.status.idle": "2021-08-06T22:36:32.764823Z",
     "shell.execute_reply": "2021-08-06T22:36:32.765262Z",
     "shell.execute_reply.started": "2021-08-06T22:32:02.533352Z"
    },
    "papermill": {
     "duration": 0.024226,
     "end_time": "2021-08-06T22:36:32.765433",
     "exception": false,
     "start_time": "2021-08-06T22:36:32.741207",
     "status": "completed"
    },
    "tags": []
   },
   "outputs": [],
   "source": [
    "#q3.solution()"
   ]
  },
  {
   "cell_type": "markdown",
   "id": "efb9bfc4",
   "metadata": {
    "papermill": {
     "duration": 0.017169,
     "end_time": "2021-08-06T22:36:32.800283",
     "exception": false,
     "start_time": "2021-08-06T22:36:32.783114",
     "status": "completed"
    },
    "tags": []
   },
   "source": [
    "# 4. (Optional)\n",
    "\n",
    "It may not be fun, but reading and understanding error messages will be an important part of your Python career.\n",
    "\n",
    "Each code cell below contains some commented buggy code. For each cell...\n",
    "\n",
    "1. Read the code and predict what you think will happen when it's run.\n",
    "2. Then uncomment the code and run it to see what happens. (**Tip**: In the kernel editor, you can highlight several lines and press `ctrl`+`/` to toggle commenting.)\n",
    "3. Fix the code (so that it accomplishes its intended purpose without throwing an exception)\n",
    "\n",
    "<!-- TODO: should this be autochecked? Delta is probably pretty small. -->"
   ]
  },
  {
   "cell_type": "code",
   "execution_count": 9,
   "id": "6acdde16",
   "metadata": {
    "execution": {
     "iopub.execute_input": "2021-08-06T22:36:32.838986Z",
     "iopub.status.busy": "2021-08-06T22:36:32.838330Z",
     "iopub.status.idle": "2021-08-06T22:36:32.844474Z",
     "shell.execute_reply": "2021-08-06T22:36:32.843905Z",
     "shell.execute_reply.started": "2021-08-06T22:33:55.686945Z"
    },
    "papermill": {
     "duration": 0.026867,
     "end_time": "2021-08-06T22:36:32.844643",
     "exception": false,
     "start_time": "2021-08-06T22:36:32.817776",
     "status": "completed"
    },
    "tags": []
   },
   "outputs": [
    {
     "data": {
      "text/plain": [
       "10.0"
      ]
     },
     "execution_count": 9,
     "metadata": {},
     "output_type": "execute_result"
    }
   ],
   "source": [
    "round_to_two_places(9.9999)"
   ]
  },
  {
   "cell_type": "code",
   "execution_count": 10,
   "id": "18fb4036",
   "metadata": {
    "execution": {
     "iopub.execute_input": "2021-08-06T22:36:32.886028Z",
     "iopub.status.busy": "2021-08-06T22:36:32.885347Z",
     "iopub.status.idle": "2021-08-06T22:36:32.888267Z",
     "shell.execute_reply": "2021-08-06T22:36:32.887636Z",
     "shell.execute_reply.started": "2021-08-06T22:35:01.400499Z"
    },
    "papermill": {
     "duration": 0.025302,
     "end_time": "2021-08-06T22:36:32.888404",
     "exception": false,
     "start_time": "2021-08-06T22:36:32.863102",
     "status": "completed"
    },
    "tags": []
   },
   "outputs": [],
   "source": [
    "x = -10\n",
    "y = 5\n",
    "# Which of the two variables above has the smallest absolute value?\n",
    "smallest_abs = min(abs(x), abs(y))"
   ]
  },
  {
   "cell_type": "code",
   "execution_count": 11,
   "id": "1d1bce20",
   "metadata": {
    "execution": {
     "iopub.execute_input": "2021-08-06T22:36:32.927638Z",
     "iopub.status.busy": "2021-08-06T22:36:32.926950Z",
     "iopub.status.idle": "2021-08-06T22:36:32.933882Z",
     "shell.execute_reply": "2021-08-06T22:36:32.932974Z",
     "shell.execute_reply.started": "2021-08-06T22:35:23.043741Z"
    },
    "papermill": {
     "duration": 0.027574,
     "end_time": "2021-08-06T22:36:32.934078",
     "exception": false,
     "start_time": "2021-08-06T22:36:32.906504",
     "status": "completed"
    },
    "tags": []
   },
   "outputs": [
    {
     "name": "stdout",
     "output_type": "stream",
     "text": [
      "5\n"
     ]
    }
   ],
   "source": [
    "def f(x):\n",
    "    y = abs(x)\n",
    "    return y\n",
    "\n",
    "print(f(5))"
   ]
  },
  {
   "cell_type": "markdown",
   "id": "d55c5d45",
   "metadata": {
    "papermill": {
     "duration": 0.017823,
     "end_time": "2021-08-06T22:36:32.971231",
     "exception": false,
     "start_time": "2021-08-06T22:36:32.953408",
     "status": "completed"
    },
    "tags": []
   },
   "source": [
    "# Keep Going\n",
    "\n",
    "Nice job with the code. Next up, you'll learn about *conditionals*, which you'll need to **[write interesting programs](https://www.kaggle.com/colinmorris/booleans-and-conditionals)**. "
   ]
  },
  {
   "cell_type": "markdown",
   "id": "56952ec1",
   "metadata": {
    "papermill": {
     "duration": 0.021937,
     "end_time": "2021-08-06T22:36:33.011400",
     "exception": false,
     "start_time": "2021-08-06T22:36:32.989463",
     "status": "completed"
    },
    "tags": []
   },
   "source": [
    "---\n",
    "\n",
    "\n",
    "\n",
    "\n",
    "*Have questions or comments? Visit the [Learn Discussion forum](https://www.kaggle.com/learn-forum/161283) to chat with other Learners.*"
   ]
  }
 ],
 "metadata": {
  "kernelspec": {
   "display_name": "Python 3",
   "language": "python",
   "name": "python3"
  },
  "language_info": {
   "codemirror_mode": {
    "name": "ipython",
    "version": 3
   },
   "file_extension": ".py",
   "mimetype": "text/x-python",
   "name": "python",
   "nbconvert_exporter": "python",
   "pygments_lexer": "ipython3",
   "version": "3.7.10"
  },
  "papermill": {
   "default_parameters": {},
   "duration": 10.794989,
   "end_time": "2021-08-06T22:36:34.660669",
   "environment_variables": {},
   "exception": null,
   "input_path": "__notebook__.ipynb",
   "output_path": "__notebook__.ipynb",
   "parameters": {},
   "start_time": "2021-08-06T22:36:23.865680",
   "version": "2.3.3"
  }
 },
 "nbformat": 4,
 "nbformat_minor": 5
}
