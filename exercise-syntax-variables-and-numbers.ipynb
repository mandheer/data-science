{
 "cells": [
  {
   "cell_type": "markdown",
   "id": "4a3effc0",
   "metadata": {
    "papermill": {
     "duration": 0.022268,
     "end_time": "2021-08-03T20:47:07.838614",
     "exception": false,
     "start_time": "2021-08-03T20:47:07.816346",
     "status": "completed"
    },
    "tags": []
   },
   "source": [
    "**This notebook is an exercise in the [Python](https://www.kaggle.com/learn/python) course.  You can reference the tutorial at [this link](https://www.kaggle.com/colinmorris/hello-python).**\n",
    "\n",
    "---\n"
   ]
  },
  {
   "cell_type": "markdown",
   "id": "1b940ae3",
   "metadata": {
    "papermill": {
     "duration": 0.020251,
     "end_time": "2021-08-03T20:47:07.881420",
     "exception": false,
     "start_time": "2021-08-03T20:47:07.861169",
     "status": "completed"
    },
    "tags": []
   },
   "source": [
    "Welcome to your first set of Python coding problems.  If this is your first time using Kaggle Notebooks, welcome! \n",
    "\n",
    "Notebooks are composed of blocks (called \"cells\") of text and code. Each of these is editable, though you'll mainly be editing the code cells to answer some questions.\n",
    "\n",
    "To get started, try running the code cell below (by pressing the ► button, or clicking on the cell and pressing ctrl+enter on your keyboard)."
   ]
  },
  {
   "cell_type": "code",
   "execution_count": 1,
   "id": "c3997ddc",
   "metadata": {
    "execution": {
     "iopub.execute_input": "2021-08-03T20:47:07.927039Z",
     "iopub.status.busy": "2021-08-03T20:47:07.925869Z",
     "iopub.status.idle": "2021-08-03T20:47:07.936886Z",
     "shell.execute_reply": "2021-08-03T20:47:07.937401Z",
     "shell.execute_reply.started": "2021-08-03T20:36:31.802008Z"
    },
    "papermill": {
     "duration": 0.035625,
     "end_time": "2021-08-03T20:47:07.937723",
     "exception": false,
     "start_time": "2021-08-03T20:47:07.902098",
     "status": "completed"
    },
    "tags": []
   },
   "outputs": [
    {
     "name": "stdout",
     "output_type": "stream",
     "text": [
      "You've successfully run some Python code\n",
      "Congratulations!\n"
     ]
    }
   ],
   "source": [
    "print(\"You've successfully run some Python code\")\n",
    "print(\"Congratulations!\")"
   ]
  },
  {
   "cell_type": "markdown",
   "id": "b2f186df",
   "metadata": {
    "papermill": {
     "duration": 0.020765,
     "end_time": "2021-08-03T20:47:07.980008",
     "exception": false,
     "start_time": "2021-08-03T20:47:07.959243",
     "status": "completed"
    },
    "tags": []
   },
   "source": [
    "Try adding another line of code in the cell above and re-running it. \n",
    "\n",
    "Now let's get a little fancier:  Add a new code cell by clicking on an existing code cell, hitting the escape key, and then hitting the `a` or `b` key.  The `a` key will add a cell above the current cell, and `b` adds a cell below.\n",
    "\n",
    "Great! Now you know how to use Notebooks.\n",
    "\n",
    "Each hands-on exercise starts by setting up our feedback and code checking mechanism. Run the code cell below to do that. Then you'll be ready to move on to question 0."
   ]
  },
  {
   "cell_type": "code",
   "execution_count": 2,
   "id": "433e8341",
   "metadata": {
    "_kg_hide-input": true,
    "_kg_hide-output": true,
    "execution": {
     "iopub.execute_input": "2021-08-03T20:47:08.025466Z",
     "iopub.status.busy": "2021-08-03T20:47:08.024742Z",
     "iopub.status.idle": "2021-08-03T20:47:08.163022Z",
     "shell.execute_reply": "2021-08-03T20:47:08.162059Z",
     "shell.execute_reply.started": "2021-08-03T20:36:31.827705Z"
    },
    "papermill": {
     "duration": 0.162125,
     "end_time": "2021-08-03T20:47:08.163226",
     "exception": false,
     "start_time": "2021-08-03T20:47:08.001101",
     "status": "completed"
    },
    "tags": []
   },
   "outputs": [
    {
     "name": "stdout",
     "output_type": "stream",
     "text": [
      "Setup complete! You're ready to start question 0.\n"
     ]
    }
   ],
   "source": [
    "from learntools.core import binder; binder.bind(globals())\n",
    "from learntools.python.ex1 import *\n",
    "print(\"Setup complete! You're ready to start question 0.\")"
   ]
  },
  {
   "cell_type": "markdown",
   "id": "e04edab1",
   "metadata": {
    "papermill": {
     "duration": 0.020818,
     "end_time": "2021-08-03T20:47:08.205962",
     "exception": false,
     "start_time": "2021-08-03T20:47:08.185144",
     "status": "completed"
    },
    "tags": []
   },
   "source": [
    "# 0.\n",
    "\n",
    "*This is a silly question intended as an introduction to the format we use for hands-on exercises throughout all Kaggle courses.*\n",
    "\n",
    "**What is your favorite color? **\n",
    "\n",
    "To complete this question, create a variable called `color` in the cell below with an appropriate value. The function call `q0.check()` (which we've already provided in the cell below) will check your answer."
   ]
  },
  {
   "cell_type": "code",
   "execution_count": 3,
   "id": "38c5a472",
   "metadata": {
    "execution": {
     "iopub.execute_input": "2021-08-03T20:47:08.256035Z",
     "iopub.status.busy": "2021-08-03T20:47:08.255038Z",
     "iopub.status.idle": "2021-08-03T20:47:08.260243Z",
     "shell.execute_reply": "2021-08-03T20:47:08.260716Z",
     "shell.execute_reply.started": "2021-08-03T20:40:01.761816Z"
    },
    "papermill": {
     "duration": 0.033859,
     "end_time": "2021-08-03T20:47:08.260890",
     "exception": false,
     "start_time": "2021-08-03T20:47:08.227031",
     "status": "completed"
    },
    "tags": []
   },
   "outputs": [
    {
     "data": {
      "application/javascript": [
       "parent.postMessage({\"jupyterEvent\": \"custom.exercise_interaction\", \"data\": {\"outcomeType\": 1, \"valueTowardsCompletion\": 0.25, \"interactionType\": 1, \"questionType\": 2, \"questionId\": \"0_ExerciseFormatTutorial\", \"learnToolsVersion\": \"0.3.4\", \"failureMessage\": \"\", \"exceptionClass\": \"\", \"trace\": \"\"}}, \"*\")"
      ],
      "text/plain": [
       "<IPython.core.display.Javascript object>"
      ]
     },
     "metadata": {},
     "output_type": "display_data"
    },
    {
     "data": {
      "text/markdown": [
       "<span style=\"color:#33cc33\">Correct:</span> What?! You got it right without needing a hint or anything? Drats. Well hey, you should still continue to the next step to get some practice asking for a hint and checking solutions. (Even though you obviously don't need any help here.)"
      ],
      "text/plain": [
       "Correct: What?! You got it right without needing a hint or anything? Drats. Well hey, you should still continue to the next step to get some practice asking for a hint and checking solutions. (Even though you obviously don't need any help here.)"
      ]
     },
     "metadata": {},
     "output_type": "display_data"
    }
   ],
   "source": [
    "# create a variable called color with an appropriate value on the line below\n",
    "# (Remember, strings in Python must be enclosed in 'single' or \"double\" quotes)\n",
    "____\n",
    "color = \"blue\"\n",
    "\n",
    "# Check your answer\n",
    "q0.check()"
   ]
  },
  {
   "cell_type": "markdown",
   "id": "f166b201",
   "metadata": {
    "papermill": {
     "duration": 0.02193,
     "end_time": "2021-08-03T20:47:08.305034",
     "exception": false,
     "start_time": "2021-08-03T20:47:08.283104",
     "status": "completed"
    },
    "tags": []
   },
   "source": [
    "Didn't get the right answer? How do you not even know your own favorite color?!\n",
    "\n",
    "Delete the `#` in the line below to make one of the lines run. You can choose between getting a hint or the full answer by choosing which line to remove the `#` from. \n",
    "\n",
    "Removing the `#` is called uncommenting, because it changes that line from a \"comment\" which Python doesn't run to code, which Python does run."
   ]
  },
  {
   "cell_type": "code",
   "execution_count": 4,
   "id": "92cfa63c",
   "metadata": {
    "execution": {
     "iopub.execute_input": "2021-08-03T20:47:08.355170Z",
     "iopub.status.busy": "2021-08-03T20:47:08.354461Z",
     "iopub.status.idle": "2021-08-03T20:47:08.362464Z",
     "shell.execute_reply": "2021-08-03T20:47:08.361906Z",
     "shell.execute_reply.started": "2021-08-03T20:39:45.348322Z"
    },
    "papermill": {
     "duration": 0.035328,
     "end_time": "2021-08-03T20:47:08.362599",
     "exception": false,
     "start_time": "2021-08-03T20:47:08.327271",
     "status": "completed"
    },
    "tags": []
   },
   "outputs": [
    {
     "data": {
      "application/javascript": [
       "parent.postMessage({\"jupyterEvent\": \"custom.exercise_interaction\", \"data\": {\"interactionType\": 2, \"questionType\": 2, \"questionId\": \"0_ExerciseFormatTutorial\", \"learnToolsVersion\": \"0.3.4\", \"valueTowardsCompletion\": 0.0, \"failureMessage\": \"\", \"exceptionClass\": \"\", \"trace\": \"\", \"outcomeType\": 4}}, \"*\")"
      ],
      "text/plain": [
       "<IPython.core.display.Javascript object>"
      ]
     },
     "metadata": {},
     "output_type": "display_data"
    },
    {
     "data": {
      "text/markdown": [
       "<span style=\"color:#3366cc\">Hint:</span> Your favorite color rhymes with *glue*."
      ],
      "text/plain": [
       "Hint: Your favorite color rhymes with *glue*."
      ]
     },
     "metadata": {},
     "output_type": "display_data"
    },
    {
     "data": {
      "application/javascript": [
       "parent.postMessage({\"jupyterEvent\": \"custom.exercise_interaction\", \"data\": {\"interactionType\": 3, \"questionType\": 2, \"questionId\": \"0_ExerciseFormatTutorial\", \"learnToolsVersion\": \"0.3.4\", \"valueTowardsCompletion\": 0.0, \"failureMessage\": \"\", \"exceptionClass\": \"\", \"trace\": \"\", \"outcomeType\": 4}}, \"*\")"
      ],
      "text/plain": [
       "<IPython.core.display.Javascript object>"
      ]
     },
     "metadata": {},
     "output_type": "display_data"
    },
    {
     "data": {
      "text/markdown": [
       "<span style=\"color:#33cc99\">Solution:</span> \n",
       "```python\n",
       "color = \"blue\"\n",
       "```"
      ],
      "text/plain": [
       "Solution: \n",
       "```python\n",
       "color = \"blue\"\n",
       "```"
      ]
     },
     "metadata": {},
     "output_type": "display_data"
    }
   ],
   "source": [
    "q0.hint()\n",
    "q0.solution()"
   ]
  },
  {
   "cell_type": "markdown",
   "id": "bc09a0a7",
   "metadata": {
    "papermill": {
     "duration": 0.023676,
     "end_time": "2021-08-03T20:47:08.410401",
     "exception": false,
     "start_time": "2021-08-03T20:47:08.386725",
     "status": "completed"
    },
    "tags": []
   },
   "source": [
    "The upcoming questions work the same way. The only thing that will change are the question numbers. For the next question, you'll call `q1.check()`, `q1.hint()`, `q1.solution()`, for question 2, you'll call `q2.check()`, and so on."
   ]
  },
  {
   "cell_type": "markdown",
   "id": "6bf6b1c1",
   "metadata": {
    "papermill": {
     "duration": 0.023784,
     "end_time": "2021-08-03T20:47:08.459310",
     "exception": false,
     "start_time": "2021-08-03T20:47:08.435526",
     "status": "completed"
    },
    "tags": []
   },
   "source": [
    "<hr/>\n",
    "\n",
    "# 1.\n",
    "\n",
    "Complete the code below. In case it's helpful, here is the table of available arithmetic operations:\n",
    "\n",
    "\n",
    "\n",
    "| Operator     | Name           | Description                                            |\n",
    "|--------------|----------------|--------------------------------------------------------|\n",
    "| ``a + b``    | Addition       | Sum of ``a`` and ``b``                                 |\n",
    "| ``a - b``    | Subtraction    | Difference of ``a`` and ``b``                          |\n",
    "| ``a * b``    | Multiplication | Product of ``a`` and ``b``                             |\n",
    "| ``a / b``    | True division  | Quotient of ``a`` and ``b``                            |\n",
    "| ``a // b``   | Floor division | Quotient of ``a`` and ``b``, removing fractional parts |\n",
    "| ``a % b``    | Modulus        | Integer remainder after division of ``a`` by ``b``     |\n",
    "| ``a ** b``   | Exponentiation | ``a`` raised to the power of ``b``                     |\n",
    "| ``-a``       | Negation       | The negative of ``a``                                  |\n",
    "\n",
    "<span style=\"display:none\"></span>\n"
   ]
  },
  {
   "cell_type": "code",
   "execution_count": 5,
   "id": "65ff128a",
   "metadata": {
    "execution": {
     "iopub.execute_input": "2021-08-03T20:47:08.510391Z",
     "iopub.status.busy": "2021-08-03T20:47:08.509716Z",
     "iopub.status.idle": "2021-08-03T20:47:08.517433Z",
     "shell.execute_reply": "2021-08-03T20:47:08.516691Z",
     "shell.execute_reply.started": "2021-08-03T20:41:29.352886Z"
    },
    "papermill": {
     "duration": 0.034349,
     "end_time": "2021-08-03T20:47:08.517597",
     "exception": false,
     "start_time": "2021-08-03T20:47:08.483248",
     "status": "completed"
    },
    "tags": []
   },
   "outputs": [
    {
     "data": {
      "application/javascript": [
       "parent.postMessage({\"jupyterEvent\": \"custom.exercise_interaction\", \"data\": {\"outcomeType\": 1, \"valueTowardsCompletion\": 0.25, \"interactionType\": 1, \"questionType\": 1, \"questionId\": \"1_CircleArea\", \"learnToolsVersion\": \"0.3.4\", \"failureMessage\": \"\", \"exceptionClass\": \"\", \"trace\": \"\"}}, \"*\")"
      ],
      "text/plain": [
       "<IPython.core.display.Javascript object>"
      ]
     },
     "metadata": {},
     "output_type": "display_data"
    },
    {
     "data": {
      "text/markdown": [
       "<span style=\"color:#33cc33\">Correct</span>"
      ],
      "text/plain": [
       "Correct"
      ]
     },
     "metadata": {},
     "output_type": "display_data"
    }
   ],
   "source": [
    "pi = 3.14159 # approximate\n",
    "diameter = 3\n",
    "\n",
    "# Create a variable called 'radius' equal to half the diameter\n",
    "____\n",
    "radius = diameter / 2\n",
    "\n",
    "# Create a variable called 'area', using the formula for the area of a circle: pi times the radius squared\n",
    "____\n",
    "area = pi * radius ** 2\n",
    "\n",
    "# Check your answer\n",
    "q1.check()"
   ]
  },
  {
   "cell_type": "code",
   "execution_count": 6,
   "id": "30d69246",
   "metadata": {
    "execution": {
     "iopub.execute_input": "2021-08-03T20:47:08.573874Z",
     "iopub.status.busy": "2021-08-03T20:47:08.572830Z",
     "iopub.status.idle": "2021-08-03T20:47:08.575672Z",
     "shell.execute_reply": "2021-08-03T20:47:08.576211Z",
     "shell.execute_reply.started": "2021-08-03T20:36:31.991843Z"
    },
    "papermill": {
     "duration": 0.03266,
     "end_time": "2021-08-03T20:47:08.576388",
     "exception": false,
     "start_time": "2021-08-03T20:47:08.543728",
     "status": "completed"
    },
    "tags": []
   },
   "outputs": [],
   "source": [
    "# Uncomment and run the lines below if you need help.\n",
    "#q1.hint()\n",
    "#q1.solution()"
   ]
  },
  {
   "cell_type": "markdown",
   "id": "aa3350b2",
   "metadata": {
    "papermill": {
     "duration": 0.026339,
     "end_time": "2021-08-03T20:47:08.628199",
     "exception": false,
     "start_time": "2021-08-03T20:47:08.601860",
     "status": "completed"
    },
    "tags": []
   },
   "source": [
    "<hr/>\n",
    "\n",
    "# 2.\n",
    "\n",
    "Add code to the following cell to swap variables `a` and `b` (so that `a` refers to the object previously referred to by `b` and vice versa)."
   ]
  },
  {
   "cell_type": "code",
   "execution_count": 7,
   "id": "3e71ef25",
   "metadata": {
    "execution": {
     "iopub.execute_input": "2021-08-03T20:47:08.689142Z",
     "iopub.status.busy": "2021-08-03T20:47:08.688314Z",
     "iopub.status.idle": "2021-08-03T20:47:08.697063Z",
     "shell.execute_reply": "2021-08-03T20:47:08.696407Z",
     "shell.execute_reply.started": "2021-08-03T20:43:21.513891Z"
    },
    "papermill": {
     "duration": 0.043727,
     "end_time": "2021-08-03T20:47:08.697207",
     "exception": false,
     "start_time": "2021-08-03T20:47:08.653480",
     "status": "completed"
    },
    "tags": []
   },
   "outputs": [
    {
     "data": {
      "application/javascript": [
       "parent.postMessage({\"jupyterEvent\": \"custom.exercise_interaction\", \"data\": {\"outcomeType\": 1, \"valueTowardsCompletion\": 0.25, \"interactionType\": 1, \"questionType\": 2, \"questionId\": \"2_VariableSwap\", \"learnToolsVersion\": \"0.3.4\", \"failureMessage\": \"\", \"exceptionClass\": \"\", \"trace\": \"\"}}, \"*\")"
      ],
      "text/plain": [
       "<IPython.core.display.Javascript object>"
      ]
     },
     "metadata": {},
     "output_type": "display_data"
    },
    {
     "data": {
      "text/markdown": [
       "<span style=\"color:#33cc33\">Correct:</span> \n",
       "\n",
       "The most straightforward solution is to use a third variable to temporarily store one of the old values. e.g.:\n",
       "\n",
       "    tmp = a\n",
       "    a = b\n",
       "    b = tmp\n",
       "\n",
       "If you've read lots of Python code, you might have seen the following trick to swap two variables in one line:\n",
       "\n",
       "    a, b = b, a\n",
       "\n",
       "We'll demystify this bit of Python magic later when we talk about *tuples*."
      ],
      "text/plain": [
       "Correct: \n",
       "\n",
       "The most straightforward solution is to use a third variable to temporarily store one of the old values. e.g.:\n",
       "\n",
       "    tmp = a\n",
       "    a = b\n",
       "    b = tmp\n",
       "\n",
       "If you've read lots of Python code, you might have seen the following trick to swap two variables in one line:\n",
       "\n",
       "    a, b = b, a\n",
       "\n",
       "We'll demystify this bit of Python magic later when we talk about *tuples*."
      ]
     },
     "metadata": {},
     "output_type": "display_data"
    }
   ],
   "source": [
    "########### Setup code - don't touch this part ######################\n",
    "# If you're curious, these are examples of lists. We'll talk about \n",
    "# them in depth a few lessons from now. For now, just know that they're\n",
    "# yet another type of Python object, like int or float.\n",
    "a = [1, 2, 3]\n",
    "b = [3, 2, 1]\n",
    "q2.store_original_ids()\n",
    "######################################################################\n",
    "\n",
    "# Your code goes here. Swap the values to which a and b refer.\n",
    "# If you get stuck, you can always uncomment one or both of the lines in\n",
    "# the next cell for a hint, or to peek at the solution.\n",
    "c = a\n",
    "a = b\n",
    "b = c\n",
    "\n",
    "######################################################################\n",
    "\n",
    "# Check your answer\n",
    "q2.check()"
   ]
  },
  {
   "cell_type": "code",
   "execution_count": 8,
   "id": "f9ae1220",
   "metadata": {
    "execution": {
     "iopub.execute_input": "2021-08-03T20:47:08.760472Z",
     "iopub.status.busy": "2021-08-03T20:47:08.759855Z",
     "iopub.status.idle": "2021-08-03T20:47:08.763310Z",
     "shell.execute_reply": "2021-08-03T20:47:08.762737Z",
     "shell.execute_reply.started": "2021-08-03T20:36:32.016542Z"
    },
    "papermill": {
     "duration": 0.033866,
     "end_time": "2021-08-03T20:47:08.763470",
     "exception": false,
     "start_time": "2021-08-03T20:47:08.729604",
     "status": "completed"
    },
    "tags": []
   },
   "outputs": [],
   "source": [
    "#q2.hint()"
   ]
  },
  {
   "cell_type": "code",
   "execution_count": 9,
   "id": "5216d862",
   "metadata": {
    "execution": {
     "iopub.execute_input": "2021-08-03T20:47:08.828063Z",
     "iopub.status.busy": "2021-08-03T20:47:08.827237Z",
     "iopub.status.idle": "2021-08-03T20:47:08.831258Z",
     "shell.execute_reply": "2021-08-03T20:47:08.831999Z",
     "shell.execute_reply.started": "2021-08-03T20:36:32.023895Z"
    },
    "papermill": {
     "duration": 0.040669,
     "end_time": "2021-08-03T20:47:08.832327",
     "exception": false,
     "start_time": "2021-08-03T20:47:08.791658",
     "status": "completed"
    },
    "tags": []
   },
   "outputs": [],
   "source": [
    "#q2.solution()"
   ]
  },
  {
   "cell_type": "markdown",
   "id": "f71cc908",
   "metadata": {
    "papermill": {
     "duration": 0.025917,
     "end_time": "2021-08-03T20:47:08.887945",
     "exception": false,
     "start_time": "2021-08-03T20:47:08.862028",
     "status": "completed"
    },
    "tags": []
   },
   "source": [
    "<hr/>\n",
    "\n",
    "# 3a.\n",
    "\n",
    "Add parentheses to the following expression so that it evaluates to 1."
   ]
  },
  {
   "cell_type": "code",
   "execution_count": 10,
   "id": "f58c4c85",
   "metadata": {
    "execution": {
     "iopub.execute_input": "2021-08-03T20:47:08.946725Z",
     "iopub.status.busy": "2021-08-03T20:47:08.945832Z",
     "iopub.status.idle": "2021-08-03T20:47:08.949972Z",
     "shell.execute_reply": "2021-08-03T20:47:08.949310Z",
     "shell.execute_reply.started": "2021-08-03T20:43:42.855033Z"
    },
    "papermill": {
     "duration": 0.03537,
     "end_time": "2021-08-03T20:47:08.950118",
     "exception": false,
     "start_time": "2021-08-03T20:47:08.914748",
     "status": "completed"
    },
    "tags": []
   },
   "outputs": [
    {
     "data": {
      "text/plain": [
       "1"
      ]
     },
     "execution_count": 10,
     "metadata": {},
     "output_type": "execute_result"
    }
   ],
   "source": [
    "(5 - 3) // 2"
   ]
  },
  {
   "cell_type": "code",
   "execution_count": 11,
   "id": "4c825b76",
   "metadata": {
    "execution": {
     "iopub.execute_input": "2021-08-03T20:47:09.007711Z",
     "iopub.status.busy": "2021-08-03T20:47:09.007050Z",
     "iopub.status.idle": "2021-08-03T20:47:09.010083Z",
     "shell.execute_reply": "2021-08-03T20:47:09.009534Z",
     "shell.execute_reply.started": "2021-08-03T20:36:32.046287Z"
    },
    "papermill": {
     "duration": 0.033506,
     "end_time": "2021-08-03T20:47:09.010233",
     "exception": false,
     "start_time": "2021-08-03T20:47:08.976727",
     "status": "completed"
    },
    "tags": []
   },
   "outputs": [],
   "source": [
    "#q3.a.hint()"
   ]
  },
  {
   "cell_type": "code",
   "execution_count": 12,
   "id": "b1da22df",
   "metadata": {
    "execution": {
     "iopub.execute_input": "2021-08-03T20:47:09.070573Z",
     "iopub.status.busy": "2021-08-03T20:47:09.069810Z",
     "iopub.status.idle": "2021-08-03T20:47:09.075470Z",
     "shell.execute_reply": "2021-08-03T20:47:09.074761Z",
     "shell.execute_reply.started": "2021-08-03T20:36:32.055378Z"
    },
    "papermill": {
     "duration": 0.038027,
     "end_time": "2021-08-03T20:47:09.075619",
     "exception": false,
     "start_time": "2021-08-03T20:47:09.037592",
     "status": "completed"
    },
    "tags": []
   },
   "outputs": [
    {
     "data": {
      "application/javascript": [
       "parent.postMessage({\"jupyterEvent\": \"custom.exercise_interaction\", \"data\": {\"interactionType\": 3, \"questionType\": 4, \"questionId\": \"3.1_ArithmeticParensEasy\", \"learnToolsVersion\": \"0.3.4\", \"valueTowardsCompletion\": 0.0, \"failureMessage\": \"\", \"exceptionClass\": \"\", \"trace\": \"\", \"outcomeType\": 4}}, \"*\")"
      ],
      "text/plain": [
       "<IPython.core.display.Javascript object>"
      ]
     },
     "metadata": {},
     "output_type": "display_data"
    },
    {
     "data": {
      "text/markdown": [
       "<span style=\"color:#33cc99\">Solution:</span> \n",
       "```python\n",
       "(5 - 3) // 2\n",
       "```"
      ],
      "text/plain": [
       "Solution: \n",
       "```python\n",
       "(5 - 3) // 2\n",
       "```"
      ]
     },
     "metadata": {},
     "output_type": "display_data"
    }
   ],
   "source": [
    "# Check your answer (Run this code cell to receive credit!)\n",
    "q3.a.solution()"
   ]
  },
  {
   "cell_type": "markdown",
   "id": "ac1cf906",
   "metadata": {
    "papermill": {
     "duration": 0.02709,
     "end_time": "2021-08-03T20:47:09.133964",
     "exception": false,
     "start_time": "2021-08-03T20:47:09.106874",
     "status": "completed"
    },
    "tags": []
   },
   "source": [
    "# 3b.  <span title=\"A bit spicy\" style=\"color: darkgreen \">🌶️</span>\n",
    "\n",
    "<small>Questions, like this one, marked a spicy pepper are a bit harder.</small>\n",
    "\n",
    "Add parentheses to the following expression so that it evaluates to 0."
   ]
  },
  {
   "cell_type": "code",
   "execution_count": 13,
   "id": "b77eb6e6",
   "metadata": {
    "execution": {
     "iopub.execute_input": "2021-08-03T20:47:09.194592Z",
     "iopub.status.busy": "2021-08-03T20:47:09.193678Z",
     "iopub.status.idle": "2021-08-03T20:47:09.197331Z",
     "shell.execute_reply": "2021-08-03T20:47:09.197827Z",
     "shell.execute_reply.started": "2021-08-03T20:44:33.801505Z"
    },
    "papermill": {
     "duration": 0.036603,
     "end_time": "2021-08-03T20:47:09.198005",
     "exception": false,
     "start_time": "2021-08-03T20:47:09.161402",
     "status": "completed"
    },
    "tags": []
   },
   "outputs": [
    {
     "data": {
      "text/plain": [
       "0"
      ]
     },
     "execution_count": 13,
     "metadata": {},
     "output_type": "execute_result"
    }
   ],
   "source": [
    "8 - (3 * 2) - (1 + 1)"
   ]
  },
  {
   "cell_type": "code",
   "execution_count": 14,
   "id": "74c2e677",
   "metadata": {
    "execution": {
     "iopub.execute_input": "2021-08-03T20:47:09.257977Z",
     "iopub.status.busy": "2021-08-03T20:47:09.257212Z",
     "iopub.status.idle": "2021-08-03T20:47:09.260036Z",
     "shell.execute_reply": "2021-08-03T20:47:09.259458Z",
     "shell.execute_reply.started": "2021-08-03T20:36:32.079608Z"
    },
    "papermill": {
     "duration": 0.034319,
     "end_time": "2021-08-03T20:47:09.260181",
     "exception": false,
     "start_time": "2021-08-03T20:47:09.225862",
     "status": "completed"
    },
    "tags": []
   },
   "outputs": [],
   "source": [
    "#q3.b.hint()"
   ]
  },
  {
   "cell_type": "code",
   "execution_count": 15,
   "id": "5cd03ca1",
   "metadata": {
    "execution": {
     "iopub.execute_input": "2021-08-03T20:47:09.321713Z",
     "iopub.status.busy": "2021-08-03T20:47:09.321014Z",
     "iopub.status.idle": "2021-08-03T20:47:09.326536Z",
     "shell.execute_reply": "2021-08-03T20:47:09.326009Z",
     "shell.execute_reply.started": "2021-08-03T20:36:32.087736Z"
    },
    "papermill": {
     "duration": 0.038532,
     "end_time": "2021-08-03T20:47:09.326697",
     "exception": false,
     "start_time": "2021-08-03T20:47:09.288165",
     "status": "completed"
    },
    "tags": []
   },
   "outputs": [
    {
     "data": {
      "application/javascript": [
       "parent.postMessage({\"jupyterEvent\": \"custom.exercise_interaction\", \"data\": {\"interactionType\": 3, \"questionType\": 4, \"questionId\": \"3.2_ArithmeticParensHard\", \"learnToolsVersion\": \"0.3.4\", \"valueTowardsCompletion\": 0.0, \"failureMessage\": \"\", \"exceptionClass\": \"\", \"trace\": \"\", \"outcomeType\": 4}}, \"*\")"
      ],
      "text/plain": [
       "<IPython.core.display.Javascript object>"
      ]
     },
     "metadata": {},
     "output_type": "display_data"
    },
    {
     "data": {
      "text/markdown": [
       "<span style=\"color:#33cc99\">Solution:</span> `(8 - 3) * (2 - (1 + 1))` is one solution. There may be others."
      ],
      "text/plain": [
       "Solution: `(8 - 3) * (2 - (1 + 1))` is one solution. There may be others."
      ]
     },
     "metadata": {},
     "output_type": "display_data"
    }
   ],
   "source": [
    "# Check your answer (Run this code cell to receive credit!)\n",
    "q3.b.solution()"
   ]
  },
  {
   "cell_type": "markdown",
   "id": "28f4be7a",
   "metadata": {
    "papermill": {
     "duration": 0.029493,
     "end_time": "2021-08-03T20:47:09.386184",
     "exception": false,
     "start_time": "2021-08-03T20:47:09.356691",
     "status": "completed"
    },
    "tags": []
   },
   "source": [
    "<hr/>\n",
    "\n",
    "# 4. \n",
    "Alice, Bob and Carol have agreed to pool their Halloween candy and split it evenly among themselves.\n",
    "For the sake of their friendship, any candies left over will be smashed. For example, if they collectively\n",
    "bring home 91 candies, they'll take 30 each and smash 1.\n",
    "\n",
    "Write an arithmetic expression below to calculate how many candies they must smash for a given haul."
   ]
  },
  {
   "cell_type": "code",
   "execution_count": 16,
   "id": "42315430",
   "metadata": {
    "execution": {
     "iopub.execute_input": "2021-08-03T20:47:09.450305Z",
     "iopub.status.busy": "2021-08-03T20:47:09.449617Z",
     "iopub.status.idle": "2021-08-03T20:47:09.456119Z",
     "shell.execute_reply": "2021-08-03T20:47:09.456615Z",
     "shell.execute_reply.started": "2021-08-03T20:46:30.972185Z"
    },
    "papermill": {
     "duration": 0.041549,
     "end_time": "2021-08-03T20:47:09.456809",
     "exception": false,
     "start_time": "2021-08-03T20:47:09.415260",
     "status": "completed"
    },
    "tags": []
   },
   "outputs": [
    {
     "data": {
      "application/javascript": [
       "parent.postMessage({\"jupyterEvent\": \"custom.exercise_interaction\", \"data\": {\"outcomeType\": 1, \"valueTowardsCompletion\": 0.25, \"interactionType\": 1, \"questionType\": 1, \"questionId\": \"4_CandySplitting\", \"learnToolsVersion\": \"0.3.4\", \"failureMessage\": \"\", \"exceptionClass\": \"\", \"trace\": \"\"}}, \"*\")"
      ],
      "text/plain": [
       "<IPython.core.display.Javascript object>"
      ]
     },
     "metadata": {},
     "output_type": "display_data"
    },
    {
     "data": {
      "text/markdown": [
       "<span style=\"color:#33cc33\">Correct</span>"
      ],
      "text/plain": [
       "Correct"
      ]
     },
     "metadata": {},
     "output_type": "display_data"
    }
   ],
   "source": [
    "# Variables representing the number of candies collected by alice, bob, and carol\n",
    "alice_candies = 121\n",
    "bob_candies = 77\n",
    "carol_candies = 109\n",
    "\n",
    "# Your code goes here! Replace the right-hand side of this assignment with an expression\n",
    "# involving alice_candies, bob_candies, and carol_candies\n",
    "to_smash = (alice_candies + bob_candies + carol_candies) % 3\n",
    "\n",
    "# Check your answer\n",
    "q4.check()"
   ]
  },
  {
   "cell_type": "code",
   "execution_count": 17,
   "id": "d0505617",
   "metadata": {
    "execution": {
     "iopub.execute_input": "2021-08-03T20:47:09.519534Z",
     "iopub.status.busy": "2021-08-03T20:47:09.518846Z",
     "iopub.status.idle": "2021-08-03T20:47:09.521729Z",
     "shell.execute_reply": "2021-08-03T20:47:09.522255Z",
     "shell.execute_reply.started": "2021-08-03T20:36:32.116258Z"
    },
    "papermill": {
     "duration": 0.035642,
     "end_time": "2021-08-03T20:47:09.522421",
     "exception": false,
     "start_time": "2021-08-03T20:47:09.486779",
     "status": "completed"
    },
    "tags": []
   },
   "outputs": [],
   "source": [
    "#q4.hint()\n",
    "#q4.solution()"
   ]
  },
  {
   "cell_type": "markdown",
   "id": "6d7fbf0b",
   "metadata": {
    "papermill": {
     "duration": 0.029448,
     "end_time": "2021-08-03T20:47:09.582409",
     "exception": false,
     "start_time": "2021-08-03T20:47:09.552961",
     "status": "completed"
    },
    "tags": []
   },
   "source": [
    "# Keep Going\n",
    "\n",
    "Next up, you'll **[learn to write new functions and understand functions others write](https://www.kaggle.com/colinmorris/functions-and-getting-help)**. This will make you at least 10 times more productive as a Python programmer. "
   ]
  },
  {
   "cell_type": "markdown",
   "id": "89cf5cad",
   "metadata": {
    "papermill": {
     "duration": 0.029446,
     "end_time": "2021-08-03T20:47:09.641761",
     "exception": false,
     "start_time": "2021-08-03T20:47:09.612315",
     "status": "completed"
    },
    "tags": []
   },
   "source": [
    "---\n",
    "\n",
    "\n",
    "\n",
    "\n",
    "*Have questions or comments? Visit the [Learn Discussion forum](https://www.kaggle.com/learn-forum/161283) to chat with other Learners.*"
   ]
  }
 ],
 "metadata": {
  "kernelspec": {
   "display_name": "Python 3",
   "language": "python",
   "name": "python3"
  },
  "language_info": {
   "codemirror_mode": {
    "name": "ipython",
    "version": 3
   },
   "file_extension": ".py",
   "mimetype": "text/x-python",
   "name": "python",
   "nbconvert_exporter": "python",
   "pygments_lexer": "ipython3",
   "version": "3.7.10"
  },
  "papermill": {
   "default_parameters": {},
   "duration": 10.527749,
   "end_time": "2021-08-03T20:47:10.280088",
   "environment_variables": {},
   "exception": null,
   "input_path": "__notebook__.ipynb",
   "output_path": "__notebook__.ipynb",
   "parameters": {},
   "start_time": "2021-08-03T20:46:59.752339",
   "version": "2.3.3"
  }
 },
 "nbformat": 4,
 "nbformat_minor": 5
}
