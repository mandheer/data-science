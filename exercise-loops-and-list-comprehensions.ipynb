{
 "cells": [
  {
   "cell_type": "markdown",
   "id": "11bc7c3b",
   "metadata": {
    "papermill": {
     "duration": 0.019901,
     "end_time": "2021-08-07T15:27:11.682291",
     "exception": false,
     "start_time": "2021-08-07T15:27:11.662390",
     "status": "completed"
    },
    "tags": []
   },
   "source": [
    "**This notebook is an exercise in the [Python](https://www.kaggle.com/learn/python) course.  You can reference the tutorial at [this link](https://www.kaggle.com/colinmorris/loops-and-list-comprehensions).**\n",
    "\n",
    "---\n"
   ]
  },
  {
   "cell_type": "markdown",
   "id": "13bc1727",
   "metadata": {
    "papermill": {
     "duration": 0.016958,
     "end_time": "2021-08-07T15:27:11.717124",
     "exception": false,
     "start_time": "2021-08-07T15:27:11.700166",
     "status": "completed"
    },
    "tags": []
   },
   "source": [
    "With all you've learned, you can start writing much more interesting programs. See if you can solve the problems below.\n",
    "\n",
    "As always, run the setup code below before working on the questions."
   ]
  },
  {
   "cell_type": "code",
   "execution_count": 1,
   "id": "76de3df3",
   "metadata": {
    "execution": {
     "iopub.execute_input": "2021-08-07T15:27:11.763532Z",
     "iopub.status.busy": "2021-08-07T15:27:11.762804Z",
     "iopub.status.idle": "2021-08-07T15:27:11.903640Z",
     "shell.execute_reply": "2021-08-07T15:27:11.809915Z",
     "shell.execute_reply.started": "2021-08-07T15:08:43.816101Z"
    },
    "papermill": {
     "duration": 0.169603,
     "end_time": "2021-08-07T15:27:11.903899",
     "exception": false,
     "start_time": "2021-08-07T15:27:11.734296",
     "status": "completed"
    },
    "tags": []
   },
   "outputs": [
    {
     "name": "stdout",
     "output_type": "stream",
     "text": [
      "Setup complete.\n"
     ]
    }
   ],
   "source": [
    "from learntools.core import binder; binder.bind(globals())\n",
    "from learntools.python.ex5 import *\n",
    "print('Setup complete.')"
   ]
  },
  {
   "cell_type": "markdown",
   "id": "07cc88d1",
   "metadata": {
    "papermill": {
     "duration": 0.017095,
     "end_time": "2021-08-07T15:27:11.939050",
     "exception": false,
     "start_time": "2021-08-07T15:27:11.921955",
     "status": "completed"
    },
    "tags": []
   },
   "source": [
    "# 1.\n",
    "\n",
    "Have you ever felt debugging involved a bit of luck? The following program has a bug. Try to identify the bug and fix it."
   ]
  },
  {
   "cell_type": "code",
   "execution_count": 2,
   "id": "210fd524",
   "metadata": {
    "execution": {
     "iopub.execute_input": "2021-08-07T15:27:11.980583Z",
     "iopub.status.busy": "2021-08-07T15:27:11.979793Z",
     "iopub.status.idle": "2021-08-07T15:27:11.983318Z",
     "shell.execute_reply": "2021-08-07T15:27:11.982718Z",
     "shell.execute_reply.started": "2021-08-07T15:10:01.993207Z"
    },
    "papermill": {
     "duration": 0.026409,
     "end_time": "2021-08-07T15:27:11.983489",
     "exception": false,
     "start_time": "2021-08-07T15:27:11.957080",
     "status": "completed"
    },
    "tags": []
   },
   "outputs": [],
   "source": [
    "def has_lucky_number(nums):\n",
    "    \"\"\"Return whether the given list of numbers is lucky. A lucky list contains\n",
    "    at least one number divisible by 7.\n",
    "    \"\"\"\n",
    "    for num in nums:\n",
    "        if num % 7 == 0:\n",
    "            return True\n",
    "    return False"
   ]
  },
  {
   "cell_type": "markdown",
   "id": "e912d4dd",
   "metadata": {
    "papermill": {
     "duration": 0.017834,
     "end_time": "2021-08-07T15:27:12.019294",
     "exception": false,
     "start_time": "2021-08-07T15:27:12.001460",
     "status": "completed"
    },
    "tags": []
   },
   "source": [
    "Try to identify the bug and fix it in the cell below:"
   ]
  },
  {
   "cell_type": "code",
   "execution_count": 3,
   "id": "9863d624",
   "metadata": {
    "execution": {
     "iopub.execute_input": "2021-08-07T15:27:12.067838Z",
     "iopub.status.busy": "2021-08-07T15:27:12.066592Z",
     "iopub.status.idle": "2021-08-07T15:27:12.076852Z",
     "shell.execute_reply": "2021-08-07T15:27:12.077831Z",
     "shell.execute_reply.started": "2021-08-07T15:10:28.481960Z"
    },
    "papermill": {
     "duration": 0.038916,
     "end_time": "2021-08-07T15:27:12.078161",
     "exception": false,
     "start_time": "2021-08-07T15:27:12.039245",
     "status": "completed"
    },
    "tags": []
   },
   "outputs": [
    {
     "data": {
      "application/javascript": [
       "parent.postMessage({\"jupyterEvent\": \"custom.exercise_interaction\", \"data\": {\"outcomeType\": 1, \"valueTowardsCompletion\": 0.25, \"interactionType\": 1, \"questionType\": 2, \"questionId\": \"1_EarlyExitDebugging\", \"learnToolsVersion\": \"0.3.4\", \"failureMessage\": \"\", \"exceptionClass\": \"\", \"trace\": \"\"}}, \"*\")"
      ],
      "text/plain": [
       "<IPython.core.display.Javascript object>"
      ]
     },
     "metadata": {},
     "output_type": "display_data"
    },
    {
     "data": {
      "text/markdown": [
       "<span style=\"color:#33cc33\">Correct:</span> \n",
       "\n",
       "Remember that `return` causes a function to exit immediately. So our original implementation always ran for just one iteration. We can only return `False` if we've looked at every element of the list (and confirmed that none of them are lucky). Though we can return early if the answer is `True`:\n",
       "\n",
       "```python\n",
       "def has_lucky_number(nums):\n",
       "    for num in nums:\n",
       "        if num % 7 == 0:\n",
       "            return True\n",
       "    # We've exhausted the list without finding a lucky number\n",
       "    return False\n",
       "```\n",
       "\n",
       "Here's a one-line version using a list comprehension with Python's `any` function (you can read about what it does by calling `help(any)`):\n",
       "\n",
       "```python\n",
       "def has_lucky_number(nums):\n",
       "    return any([num % 7 == 0 for num in nums])\n",
       "```\n"
      ],
      "text/plain": [
       "Correct: \n",
       "\n",
       "Remember that `return` causes a function to exit immediately. So our original implementation always ran for just one iteration. We can only return `False` if we've looked at every element of the list (and confirmed that none of them are lucky). Though we can return early if the answer is `True`:\n",
       "\n",
       "```python\n",
       "def has_lucky_number(nums):\n",
       "    for num in nums:\n",
       "        if num % 7 == 0:\n",
       "            return True\n",
       "    # We've exhausted the list without finding a lucky number\n",
       "    return False\n",
       "```\n",
       "\n",
       "Here's a one-line version using a list comprehension with Python's `any` function (you can read about what it does by calling `help(any)`):\n",
       "\n",
       "```python\n",
       "def has_lucky_number(nums):\n",
       "    return any([num % 7 == 0 for num in nums])\n",
       "```"
      ]
     },
     "metadata": {},
     "output_type": "display_data"
    }
   ],
   "source": [
    "def has_lucky_number(nums):\n",
    "    \"\"\"Return whether the given list of numbers is lucky. A lucky list contains\n",
    "    at least one number divisible by 7.\n",
    "    \"\"\"\n",
    "    for num in nums:\n",
    "        if num % 7 == 0:\n",
    "            return True\n",
    "    return False\n",
    "\n",
    "# Check your answer\n",
    "q1.check()"
   ]
  },
  {
   "cell_type": "code",
   "execution_count": 4,
   "id": "e5df1d74",
   "metadata": {
    "execution": {
     "iopub.execute_input": "2021-08-07T15:27:12.131733Z",
     "iopub.status.busy": "2021-08-07T15:27:12.130585Z",
     "iopub.status.idle": "2021-08-07T15:27:12.145030Z",
     "shell.execute_reply": "2021-08-07T15:27:12.145878Z",
     "shell.execute_reply.started": "2021-08-07T15:10:38.926564Z"
    },
    "papermill": {
     "duration": 0.043494,
     "end_time": "2021-08-07T15:27:12.146202",
     "exception": false,
     "start_time": "2021-08-07T15:27:12.102708",
     "status": "completed"
    },
    "tags": []
   },
   "outputs": [
    {
     "data": {
      "application/javascript": [
       "parent.postMessage({\"jupyterEvent\": \"custom.exercise_interaction\", \"data\": {\"interactionType\": 2, \"questionType\": 2, \"questionId\": \"1_EarlyExitDebugging\", \"learnToolsVersion\": \"0.3.4\", \"valueTowardsCompletion\": 0.0, \"failureMessage\": \"\", \"exceptionClass\": \"\", \"trace\": \"\", \"outcomeType\": 4}}, \"*\")"
      ],
      "text/plain": [
       "<IPython.core.display.Javascript object>"
      ]
     },
     "metadata": {},
     "output_type": "display_data"
    },
    {
     "data": {
      "text/markdown": [
       "<span style=\"color:#3366cc\">Hint:</span> How many times does the body of the loop run for a list of length n? (If you're not sure, try adding a `print()` call on the line before the `if`.)"
      ],
      "text/plain": [
       "Hint: How many times does the body of the loop run for a list of length n? (If you're not sure, try adding a `print()` call on the line before the `if`.)"
      ]
     },
     "metadata": {},
     "output_type": "display_data"
    },
    {
     "data": {
      "application/javascript": [
       "parent.postMessage({\"jupyterEvent\": \"custom.exercise_interaction\", \"data\": {\"interactionType\": 3, \"questionType\": 2, \"questionId\": \"1_EarlyExitDebugging\", \"learnToolsVersion\": \"0.3.4\", \"valueTowardsCompletion\": 0.0, \"failureMessage\": \"\", \"exceptionClass\": \"\", \"trace\": \"\", \"outcomeType\": 4}}, \"*\")"
      ],
      "text/plain": [
       "<IPython.core.display.Javascript object>"
      ]
     },
     "metadata": {},
     "output_type": "display_data"
    },
    {
     "data": {
      "text/markdown": [
       "<span style=\"color:#33cc99\">Solution:</span> Remember that `return` causes a function to exit immediately. So our original implementation always ran for just one iteration. We can only return `False` if we've looked at every element of the list (and confirmed that none of them are lucky). Though we can return early if the answer is `True`:\n",
       "\n",
       "```python\n",
       "def has_lucky_number(nums):\n",
       "    for num in nums:\n",
       "        if num % 7 == 0:\n",
       "            return True\n",
       "    # We've exhausted the list without finding a lucky number\n",
       "    return False\n",
       "```\n",
       "\n",
       "Here's a one-line version using a list comprehension with Python's `any` function (you can read about what it does by calling `help(any)`):\n",
       "\n",
       "```python\n",
       "def has_lucky_number(nums):\n",
       "    return any([num % 7 == 0 for num in nums])\n",
       "```\n"
      ],
      "text/plain": [
       "Solution: Remember that `return` causes a function to exit immediately. So our original implementation always ran for just one iteration. We can only return `False` if we've looked at every element of the list (and confirmed that none of them are lucky). Though we can return early if the answer is `True`:\n",
       "\n",
       "```python\n",
       "def has_lucky_number(nums):\n",
       "    for num in nums:\n",
       "        if num % 7 == 0:\n",
       "            return True\n",
       "    # We've exhausted the list without finding a lucky number\n",
       "    return False\n",
       "```\n",
       "\n",
       "Here's a one-line version using a list comprehension with Python's `any` function (you can read about what it does by calling `help(any)`):\n",
       "\n",
       "```python\n",
       "def has_lucky_number(nums):\n",
       "    return any([num % 7 == 0 for num in nums])\n",
       "```"
      ]
     },
     "metadata": {},
     "output_type": "display_data"
    }
   ],
   "source": [
    "q1.hint()\n",
    "q1.solution()"
   ]
  },
  {
   "cell_type": "markdown",
   "id": "27b7fc4c",
   "metadata": {
    "papermill": {
     "duration": 0.020422,
     "end_time": "2021-08-07T15:27:12.191078",
     "exception": false,
     "start_time": "2021-08-07T15:27:12.170656",
     "status": "completed"
    },
    "tags": []
   },
   "source": [
    "# 2.\n",
    "Look at the Python expression below. What do you think we'll get when we run it? When you've made your prediction, uncomment the code and run the cell to see if you were right."
   ]
  },
  {
   "cell_type": "code",
   "execution_count": 5,
   "id": "8e4a3f50",
   "metadata": {
    "execution": {
     "iopub.execute_input": "2021-08-07T15:27:12.235494Z",
     "iopub.status.busy": "2021-08-07T15:27:12.234570Z",
     "iopub.status.idle": "2021-08-07T15:27:12.310156Z",
     "shell.execute_reply": "2021-08-07T15:27:12.308149Z",
     "shell.execute_reply.started": "2021-08-07T15:11:07.907577Z"
    },
    "papermill": {
     "duration": 0.098722,
     "end_time": "2021-08-07T15:27:12.310594",
     "exception": true,
     "start_time": "2021-08-07T15:27:12.211872",
     "status": "failed"
    },
    "tags": []
   },
   "outputs": [
    {
     "ename": "TypeError",
     "evalue": "'>' not supported between instances of 'list' and 'int'",
     "output_type": "error",
     "traceback": [
      "\u001b[0;31m---------------------------------------------------------------------------\u001b[0m",
      "\u001b[0;31mTypeError\u001b[0m                                 Traceback (most recent call last)",
      "\u001b[0;32m<ipython-input-5-6f064fcfe2b9>\u001b[0m in \u001b[0;36m<module>\u001b[0;34m\u001b[0m\n\u001b[0;32m----> 1\u001b[0;31m \u001b[0;34m[\u001b[0m\u001b[0;36m1\u001b[0m\u001b[0;34m,\u001b[0m \u001b[0;36m2\u001b[0m\u001b[0;34m,\u001b[0m \u001b[0;36m3\u001b[0m\u001b[0;34m,\u001b[0m \u001b[0;36m4\u001b[0m\u001b[0;34m]\u001b[0m \u001b[0;34m>\u001b[0m \u001b[0;36m2\u001b[0m\u001b[0;34m\u001b[0m\u001b[0;34m\u001b[0m\u001b[0m\n\u001b[0m",
      "\u001b[0;31mTypeError\u001b[0m: '>' not supported between instances of 'list' and 'int'"
     ]
    }
   ],
   "source": [
    "[1, 2, 3, 4] > 2"
   ]
  },
  {
   "cell_type": "markdown",
   "id": "8dd73f5d",
   "metadata": {
    "papermill": {
     "duration": null,
     "end_time": null,
     "exception": null,
     "start_time": null,
     "status": "pending"
    },
    "tags": []
   },
   "source": [
    "R and Python have some libraries (like numpy and pandas) compare each element of the list to 2 (i.e. do an 'element-wise' comparison) and give us a list of booleans like `[False, False, True, True]`. \n",
    "\n",
    "Implement a function that reproduces this behaviour, returning a list of booleans corresponding to whether the corresponding element is greater than n."
   ]
  },
  {
   "cell_type": "code",
   "execution_count": null,
   "id": "5d94a421",
   "metadata": {
    "execution": {
     "iopub.execute_input": "2021-08-07T15:12:37.660300Z",
     "iopub.status.busy": "2021-08-07T15:12:37.659846Z",
     "iopub.status.idle": "2021-08-07T15:12:37.673128Z",
     "shell.execute_reply": "2021-08-07T15:12:37.671444Z",
     "shell.execute_reply.started": "2021-08-07T15:12:37.660264Z"
    },
    "papermill": {
     "duration": null,
     "end_time": null,
     "exception": null,
     "start_time": null,
     "status": "pending"
    },
    "tags": []
   },
   "outputs": [],
   "source": [
    "def elementwise_greater_than(L, thresh):\n",
    "    \"\"\"Return a list with the same length as L, where the value at index i is \n",
    "    True if L[i] is greater than thresh, and False otherwise.\n",
    "    \n",
    "    >>> elementwise_greater_than([1, 2, 3, 4], 2)\n",
    "    [False, False, True, True]\n",
    "    \"\"\"\n",
    "    return [ n>thresh for n in L ]\n",
    "\n",
    "# Check your answer\n",
    "q2.check()"
   ]
  },
  {
   "cell_type": "code",
   "execution_count": null,
   "id": "0888d638",
   "metadata": {
    "execution": {
     "iopub.execute_input": "2021-08-07T15:12:48.741397Z",
     "iopub.status.busy": "2021-08-07T15:12:48.741056Z",
     "iopub.status.idle": "2021-08-07T15:12:48.749960Z",
     "shell.execute_reply": "2021-08-07T15:12:48.748679Z",
     "shell.execute_reply.started": "2021-08-07T15:12:48.741370Z"
    },
    "papermill": {
     "duration": null,
     "end_time": null,
     "exception": null,
     "start_time": null,
     "status": "pending"
    },
    "tags": []
   },
   "outputs": [],
   "source": [
    "q2.solution()"
   ]
  },
  {
   "cell_type": "markdown",
   "id": "c6ba27fc",
   "metadata": {
    "papermill": {
     "duration": null,
     "end_time": null,
     "exception": null,
     "start_time": null,
     "status": "pending"
    },
    "tags": []
   },
   "source": [
    "# 3.\n",
    "\n",
    "Complete the body of the function below according to its docstring."
   ]
  },
  {
   "cell_type": "code",
   "execution_count": null,
   "id": "4d5d4ad8",
   "metadata": {
    "execution": {
     "iopub.execute_input": "2021-08-07T15:18:02.482667Z",
     "iopub.status.busy": "2021-08-07T15:18:02.482318Z",
     "iopub.status.idle": "2021-08-07T15:18:02.491810Z",
     "shell.execute_reply": "2021-08-07T15:18:02.490901Z",
     "shell.execute_reply.started": "2021-08-07T15:18:02.482637Z"
    },
    "papermill": {
     "duration": null,
     "end_time": null,
     "exception": null,
     "start_time": null,
     "status": "pending"
    },
    "tags": []
   },
   "outputs": [],
   "source": [
    "def menu_is_boring(meals):\n",
    "    \"\"\"Given a list of meals served over some period of time, return True if the\n",
    "    same meal has ever been served two days in a row, and False otherwise.\n",
    "    \"\"\"\n",
    "    return sum([meals[i]==meals[i+1] for i in range(len(meals)-1)]) > 0\n",
    "    \n",
    "\n",
    "# Check your answer\n",
    "q3.check()"
   ]
  },
  {
   "cell_type": "code",
   "execution_count": null,
   "id": "e19750bd",
   "metadata": {
    "execution": {
     "iopub.execute_input": "2021-08-07T15:18:23.104624Z",
     "iopub.status.busy": "2021-08-07T15:18:23.104220Z",
     "iopub.status.idle": "2021-08-07T15:18:23.108744Z",
     "shell.execute_reply": "2021-08-07T15:18:23.107746Z",
     "shell.execute_reply.started": "2021-08-07T15:18:23.104591Z"
    },
    "papermill": {
     "duration": null,
     "end_time": null,
     "exception": null,
     "start_time": null,
     "status": "pending"
    },
    "tags": []
   },
   "outputs": [],
   "source": [
    "#q3.hint()\n",
    "#q3.solution()"
   ]
  },
  {
   "cell_type": "markdown",
   "id": "043335b7",
   "metadata": {
    "papermill": {
     "duration": null,
     "end_time": null,
     "exception": null,
     "start_time": null,
     "status": "pending"
    },
    "tags": []
   },
   "source": [
    "# 4. <span title=\"A bit spicy\" style=\"color: darkgreen \">🌶️</span>\n",
    "\n",
    "Next to the Blackjack table, the Python Challenge Casino has a slot machine. You can get a result from the slot machine by calling `play_slot_machine()`. The number it returns is your winnings in dollars. Usually it returns 0.  But sometimes you'll get lucky and get a big payday. Try running it below:"
   ]
  },
  {
   "cell_type": "code",
   "execution_count": null,
   "id": "7057d96a",
   "metadata": {
    "execution": {
     "iopub.execute_input": "2021-08-07T15:21:06.866505Z",
     "iopub.status.busy": "2021-08-07T15:21:06.866033Z",
     "iopub.status.idle": "2021-08-07T15:21:06.872732Z",
     "shell.execute_reply": "2021-08-07T15:21:06.871918Z",
     "shell.execute_reply.started": "2021-08-07T15:21:06.866464Z"
    },
    "papermill": {
     "duration": null,
     "end_time": null,
     "exception": null,
     "start_time": null,
     "status": "pending"
    },
    "tags": []
   },
   "outputs": [],
   "source": [
    "play_slot_machine()"
   ]
  },
  {
   "cell_type": "markdown",
   "id": "3407e135",
   "metadata": {
    "papermill": {
     "duration": null,
     "end_time": null,
     "exception": null,
     "start_time": null,
     "status": "pending"
    },
    "tags": []
   },
   "source": [
    "By the way, did we mention that each play costs $1? Don't worry, we'll send you the bill later.\n",
    "\n",
    "On average, how much money can you expect to gain (or lose) every time you play the machine?  The casino keeps it a secret, but you can estimate the average value of each pull using a technique called the **Monte Carlo method**. To estimate the average outcome, we simulate the scenario many times, and return the average result.\n",
    "\n",
    "Complete the following function to calculate the average value per play of the slot machine."
   ]
  },
  {
   "cell_type": "code",
   "execution_count": null,
   "id": "ed5d94e4",
   "metadata": {
    "execution": {
     "iopub.execute_input": "2021-08-07T15:26:39.799458Z",
     "iopub.status.busy": "2021-08-07T15:26:39.799111Z",
     "iopub.status.idle": "2021-08-07T15:26:39.809037Z",
     "shell.execute_reply": "2021-08-07T15:26:39.807867Z",
     "shell.execute_reply.started": "2021-08-07T15:26:39.799428Z"
    },
    "papermill": {
     "duration": null,
     "end_time": null,
     "exception": null,
     "start_time": null,
     "status": "pending"
    },
    "tags": []
   },
   "outputs": [],
   "source": [
    "def estimate_average_slot_payout(n_runs):\n",
    "    \"\"\"Run the slot machine n_runs times and return the average net profit per run.\n",
    "    Example calls (note that return value is nondeterministic!):\n",
    "    >>> estimate_average_slot_payout(1)\n",
    "    -1\n",
    "    >>> estimate_average_slot_payout(1)\n",
    "    0.5\n",
    "    \"\"\"\n",
    "    return sum(play_slot_machine() - 1 for i in n_runs) / n_runs\n",
    "q4.check()"
   ]
  },
  {
   "cell_type": "markdown",
   "id": "d220e8f3",
   "metadata": {
    "papermill": {
     "duration": null,
     "end_time": null,
     "exception": null,
     "start_time": null,
     "status": "pending"
    },
    "tags": []
   },
   "source": [
    "When you think you know the expected value per spin, run the code cell below to view the solution and get credit for answering the question."
   ]
  },
  {
   "cell_type": "code",
   "execution_count": null,
   "id": "685699aa",
   "metadata": {
    "execution": {
     "iopub.execute_input": "2021-08-07T15:24:58.238486Z",
     "iopub.status.busy": "2021-08-07T15:24:58.237998Z",
     "iopub.status.idle": "2021-08-07T15:24:58.246620Z",
     "shell.execute_reply": "2021-08-07T15:24:58.245522Z",
     "shell.execute_reply.started": "2021-08-07T15:24:58.238455Z"
    },
    "papermill": {
     "duration": null,
     "end_time": null,
     "exception": null,
     "start_time": null,
     "status": "pending"
    },
    "tags": []
   },
   "outputs": [],
   "source": [
    "# Check your answer (Run this code cell to receive credit!)\n",
    "q4.solution()"
   ]
  },
  {
   "cell_type": "markdown",
   "id": "a6cf9eb8",
   "metadata": {
    "papermill": {
     "duration": null,
     "end_time": null,
     "exception": null,
     "start_time": null,
     "status": "pending"
    },
    "tags": []
   },
   "source": [
    "# Keep Going\n",
    "\n",
    "Many programmers report that dictionaries are their favorite data structure. You'll get to **[learn about them](https://www.kaggle.com/colinmorris/strings-and-dictionaries)** (as well as strings) in the next lesson."
   ]
  },
  {
   "cell_type": "markdown",
   "id": "d8d9e011",
   "metadata": {
    "papermill": {
     "duration": null,
     "end_time": null,
     "exception": null,
     "start_time": null,
     "status": "pending"
    },
    "tags": []
   },
   "source": [
    "---\n",
    "\n",
    "\n",
    "\n",
    "\n",
    "*Have questions or comments? Visit the [Learn Discussion forum](https://www.kaggle.com/learn-forum/161283) to chat with other Learners.*"
   ]
  }
 ],
 "metadata": {
  "kernelspec": {
   "display_name": "Python 3",
   "language": "python",
   "name": "python3"
  },
  "language_info": {
   "codemirror_mode": {
    "name": "ipython",
    "version": 3
   },
   "file_extension": ".py",
   "mimetype": "text/x-python",
   "name": "python",
   "nbconvert_exporter": "python",
   "pygments_lexer": "ipython3",
   "version": "3.7.10"
  },
  "papermill": {
   "default_parameters": {},
   "duration": 10.813474,
   "end_time": "2021-08-07T15:27:14.063956",
   "environment_variables": {},
   "exception": true,
   "input_path": "__notebook__.ipynb",
   "output_path": "__notebook__.ipynb",
   "parameters": {},
   "start_time": "2021-08-07T15:27:03.250482",
   "version": "2.3.3"
  }
 },
 "nbformat": 4,
 "nbformat_minor": 5
}
