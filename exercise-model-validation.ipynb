{
 "cells": [
  {
   "cell_type": "markdown",
   "id": "b33245b6",
   "metadata": {
    "papermill": {
     "duration": 0.014645,
     "end_time": "2021-08-14T23:00:07.975396",
     "exception": false,
     "start_time": "2021-08-14T23:00:07.960751",
     "status": "completed"
    },
    "tags": []
   },
   "source": [
    "**This notebook is an exercise in the [Introduction to Machine Learning](https://www.kaggle.com/learn/intro-to-machine-learning) course.  You can reference the tutorial at [this link](https://www.kaggle.com/dansbecker/model-validation).**\n",
    "\n",
    "---\n"
   ]
  },
  {
   "cell_type": "markdown",
   "id": "44efbd00",
   "metadata": {
    "papermill": {
     "duration": 0.013099,
     "end_time": "2021-08-14T23:00:08.002493",
     "exception": false,
     "start_time": "2021-08-14T23:00:07.989394",
     "status": "completed"
    },
    "tags": []
   },
   "source": [
    "## Recap\n",
    "You've built a model. In this exercise you will test how good your model is.\n",
    "\n",
    "Run the cell below to set up your coding environment where the previous exercise left off."
   ]
  },
  {
   "cell_type": "code",
   "execution_count": 1,
   "id": "7bc42cb9",
   "metadata": {
    "execution": {
     "iopub.execute_input": "2021-08-14T23:00:08.035196Z",
     "iopub.status.busy": "2021-08-14T23:00:08.034001Z",
     "iopub.status.idle": "2021-08-14T23:00:09.602307Z",
     "shell.execute_reply": "2021-08-14T23:00:09.601336Z",
     "shell.execute_reply.started": "2021-08-14T22:59:43.578568Z"
    },
    "papermill": {
     "duration": 1.586191,
     "end_time": "2021-08-14T23:00:09.602530",
     "exception": false,
     "start_time": "2021-08-14T23:00:08.016339",
     "status": "completed"
    },
    "tags": []
   },
   "outputs": [
    {
     "name": "stdout",
     "output_type": "stream",
     "text": [
      "First in-sample predictions: [208500. 181500. 223500. 140000. 250000.]\n",
      "Actual target values for those homes: [208500, 181500, 223500, 140000, 250000]\n",
      "Setup Complete\n"
     ]
    }
   ],
   "source": [
    "# Code you have previously used to load data\n",
    "import pandas as pd\n",
    "from sklearn.tree import DecisionTreeRegressor\n",
    "\n",
    "# Path of the file to read\n",
    "iowa_file_path = '../input/home-data-for-ml-course/train.csv'\n",
    "\n",
    "home_data = pd.read_csv(iowa_file_path)\n",
    "y = home_data.SalePrice\n",
    "feature_columns = ['LotArea', 'YearBuilt', '1stFlrSF', '2ndFlrSF', 'FullBath', 'BedroomAbvGr', 'TotRmsAbvGrd']\n",
    "X = home_data[feature_columns]\n",
    "\n",
    "# Specify Model\n",
    "iowa_model = DecisionTreeRegressor()\n",
    "# Fit Model\n",
    "iowa_model.fit(X, y)\n",
    "\n",
    "print(\"First in-sample predictions:\", iowa_model.predict(X.head()))\n",
    "print(\"Actual target values for those homes:\", y.head().tolist())\n",
    "\n",
    "# Set up code checking\n",
    "from learntools.core import binder\n",
    "binder.bind(globals())\n",
    "from learntools.machine_learning.ex4 import *\n",
    "print(\"Setup Complete\")"
   ]
  },
  {
   "cell_type": "markdown",
   "id": "f3aeb12c",
   "metadata": {
    "papermill": {
     "duration": 0.013974,
     "end_time": "2021-08-14T23:00:09.631838",
     "exception": false,
     "start_time": "2021-08-14T23:00:09.617864",
     "status": "completed"
    },
    "tags": []
   },
   "source": [
    "# Exercises\n",
    "\n",
    "## Step 1: Split Your Data\n",
    "Use the `train_test_split` function to split up your data.\n",
    "\n",
    "Give it the argument `random_state=1` so the `check` functions know what to expect when verifying your code.\n",
    "\n",
    "Recall, your features are loaded in the DataFrame **X** and your target is loaded in **y**.\n"
   ]
  },
  {
   "cell_type": "code",
   "execution_count": 2,
   "id": "58a1c851",
   "metadata": {
    "execution": {
     "iopub.execute_input": "2021-08-14T23:00:09.673235Z",
     "iopub.status.busy": "2021-08-14T23:00:09.672479Z",
     "iopub.status.idle": "2021-08-14T23:00:09.712228Z",
     "shell.execute_reply": "2021-08-14T23:00:09.711696Z",
     "shell.execute_reply.started": "2021-08-14T22:59:43.642537Z"
    },
    "papermill": {
     "duration": 0.065855,
     "end_time": "2021-08-14T23:00:09.712390",
     "exception": false,
     "start_time": "2021-08-14T23:00:09.646535",
     "status": "completed"
    },
    "tags": []
   },
   "outputs": [
    {
     "name": "stdout",
     "output_type": "stream",
     "text": [
      "      LotArea  YearBuilt  1stFlrSF  2ndFlrSF  FullBath  BedroomAbvGr  \\\n",
      "6       10084       2004      1694         0         2             3   \n",
      "807     21384       1923      1072       504         1             3   \n",
      "955      7136       1946       979       979         2             4   \n",
      "1040    13125       1957      1803         0         2             3   \n",
      "701      9600       1969      1164         0         1             3   \n",
      "...       ...        ...       ...       ...       ...           ...   \n",
      "715     10140       1974      1350         0         2             3   \n",
      "905      9920       1954      1063         0         1             3   \n",
      "1096     6882       1914       773       582         1             3   \n",
      "235      1680       1971       483       504         1             2   \n",
      "1061    18000       1935       894         0         1             2   \n",
      "\n",
      "      TotRmsAbvGrd  \n",
      "6                7  \n",
      "807              6  \n",
      "955              8  \n",
      "1040             8  \n",
      "701              6  \n",
      "...            ...  \n",
      "715              7  \n",
      "905              6  \n",
      "1096             7  \n",
      "235              5  \n",
      "1061             6  \n",
      "\n",
      "[1095 rows x 7 columns]\n",
      "      LotArea  YearBuilt  1stFlrSF  2ndFlrSF  FullBath  BedroomAbvGr  \\\n",
      "258     12435       2001       963       829         2             3   \n",
      "267      8400       1939      1052       720         2             4   \n",
      "288      9819       1967       900         0         1             3   \n",
      "649      1936       1970       630         0         1             1   \n",
      "1233    12160       1959      1188         0         1             3   \n",
      "...       ...        ...       ...       ...       ...           ...   \n",
      "1017     5814       1984      1360         0         1             1   \n",
      "534      9056       2004       707       707         2             3   \n",
      "1334     2368       1970       765       600         1             3   \n",
      "1369    10635       2003      1668         0         2             3   \n",
      "628     11606       1969      1040      1040         1             5   \n",
      "\n",
      "      TotRmsAbvGrd  \n",
      "258              7  \n",
      "267              8  \n",
      "288              5  \n",
      "649              3  \n",
      "1233             6  \n",
      "...            ...  \n",
      "1017             4  \n",
      "534              6  \n",
      "1334             7  \n",
      "1369             8  \n",
      "628              9  \n",
      "\n",
      "[365 rows x 7 columns]\n",
      "6       307000\n",
      "807     223500\n",
      "955     145000\n",
      "1040    155000\n",
      "701     140000\n",
      "         ...  \n",
      "715     165000\n",
      "905     128000\n",
      "1096    127000\n",
      "235      89500\n",
      "1061     81000\n",
      "Name: SalePrice, Length: 1095, dtype: int64\n",
      "258     231500\n",
      "267     179500\n",
      "288     122000\n",
      "649      84500\n",
      "1233    142000\n",
      "         ...  \n",
      "1017    187500\n",
      "534     178000\n",
      "1334    125000\n",
      "1369    232000\n",
      "628     135000\n",
      "Name: SalePrice, Length: 365, dtype: int64\n"
     ]
    },
    {
     "data": {
      "application/javascript": [
       "parent.postMessage({\"jupyterEvent\": \"custom.exercise_interaction\", \"data\": {\"outcomeType\": 1, \"valueTowardsCompletion\": 0.25, \"interactionType\": 1, \"questionType\": 2, \"questionId\": \"1_SplitData\", \"learnToolsVersion\": \"0.3.4\", \"failureMessage\": \"\", \"exceptionClass\": \"\", \"trace\": \"\"}}, \"*\")"
      ],
      "text/plain": [
       "<IPython.core.display.Javascript object>"
      ]
     },
     "metadata": {},
     "output_type": "display_data"
    },
    {
     "data": {
      "text/markdown": [
       "<span style=\"color:#33cc33\">Correct</span>"
      ],
      "text/plain": [
       "Correct"
      ]
     },
     "metadata": {},
     "output_type": "display_data"
    }
   ],
   "source": [
    "# Import the train_test_split function and uncomment\n",
    "from sklearn.model_selection import train_test_split\n",
    "\n",
    "# fill in and uncomment\n",
    "train_X, val_X, train_y, val_y = train_test_split(X, y, random_state=1)\n",
    "\n",
    "print(train_X)\n",
    "print(val_X)\n",
    "print(train_y)\n",
    "print(val_y)\n",
    "# Check your answer\n",
    "step_1.check()"
   ]
  },
  {
   "cell_type": "code",
   "execution_count": 3,
   "id": "0bf83052",
   "metadata": {
    "execution": {
     "iopub.execute_input": "2021-08-14T23:00:09.749278Z",
     "iopub.status.busy": "2021-08-14T23:00:09.748368Z",
     "iopub.status.idle": "2021-08-14T23:00:09.758944Z",
     "shell.execute_reply": "2021-08-14T23:00:09.758369Z",
     "shell.execute_reply.started": "2021-08-14T22:59:43.677185Z"
    },
    "papermill": {
     "duration": 0.031107,
     "end_time": "2021-08-14T23:00:09.759097",
     "exception": false,
     "start_time": "2021-08-14T23:00:09.727990",
     "status": "completed"
    },
    "tags": []
   },
   "outputs": [
    {
     "data": {
      "application/javascript": [
       "parent.postMessage({\"jupyterEvent\": \"custom.exercise_interaction\", \"data\": {\"interactionType\": 2, \"questionType\": 2, \"questionId\": \"1_SplitData\", \"learnToolsVersion\": \"0.3.4\", \"valueTowardsCompletion\": 0.0, \"failureMessage\": \"\", \"exceptionClass\": \"\", \"trace\": \"\", \"outcomeType\": 4}}, \"*\")"
      ],
      "text/plain": [
       "<IPython.core.display.Javascript object>"
      ]
     },
     "metadata": {},
     "output_type": "display_data"
    },
    {
     "data": {
      "text/markdown": [
       "<span style=\"color:#3366cc\">Hint:</span> The function you need to import is part of sklearn. When calling the function, the arguments are X and y. Ensure you set the random_state to 1."
      ],
      "text/plain": [
       "Hint: The function you need to import is part of sklearn. When calling the function, the arguments are X and y. Ensure you set the random_state to 1."
      ]
     },
     "metadata": {},
     "output_type": "display_data"
    },
    {
     "data": {
      "application/javascript": [
       "parent.postMessage({\"jupyterEvent\": \"custom.exercise_interaction\", \"data\": {\"interactionType\": 3, \"questionType\": 2, \"questionId\": \"1_SplitData\", \"learnToolsVersion\": \"0.3.4\", \"valueTowardsCompletion\": 0.0, \"failureMessage\": \"\", \"exceptionClass\": \"\", \"trace\": \"\", \"outcomeType\": 4}}, \"*\")"
      ],
      "text/plain": [
       "<IPython.core.display.Javascript object>"
      ]
     },
     "metadata": {},
     "output_type": "display_data"
    },
    {
     "data": {
      "text/markdown": [
       "<span style=\"color:#33cc99\">Solution:</span> \n",
       "```python\n",
       "from sklearn.model_selection import train_test_split\n",
       "train_X, val_X, train_y, val_y = train_test_split(X, y, random_state=1)\n",
       "```"
      ],
      "text/plain": [
       "Solution: \n",
       "```python\n",
       "from sklearn.model_selection import train_test_split\n",
       "train_X, val_X, train_y, val_y = train_test_split(X, y, random_state=1)\n",
       "```"
      ]
     },
     "metadata": {},
     "output_type": "display_data"
    }
   ],
   "source": [
    "# The lines below will show you a hint or the solution.\n",
    "step_1.hint() \n",
    "step_1.solution()\n"
   ]
  },
  {
   "cell_type": "markdown",
   "id": "b09eab04",
   "metadata": {
    "papermill": {
     "duration": 0.01849,
     "end_time": "2021-08-14T23:00:09.795260",
     "exception": false,
     "start_time": "2021-08-14T23:00:09.776770",
     "status": "completed"
    },
    "tags": []
   },
   "source": [
    "## Step 2: Specify and Fit the Model\n",
    "\n",
    "Create a `DecisionTreeRegressor` model and fit it to the relevant data.\n",
    "Set `random_state` to 1 again when creating the model."
   ]
  },
  {
   "cell_type": "code",
   "execution_count": 4,
   "id": "ecb2c568",
   "metadata": {
    "execution": {
     "iopub.execute_input": "2021-08-14T23:00:09.840608Z",
     "iopub.status.busy": "2021-08-14T23:00:09.839827Z",
     "iopub.status.idle": "2021-08-14T23:00:09.865498Z",
     "shell.execute_reply": "2021-08-14T23:00:09.864836Z",
     "shell.execute_reply.started": "2021-08-14T22:59:43.695961Z"
    },
    "papermill": {
     "duration": 0.052219,
     "end_time": "2021-08-14T23:00:09.865646",
     "exception": false,
     "start_time": "2021-08-14T23:00:09.813427",
     "status": "completed"
    },
    "tags": []
   },
   "outputs": [
    {
     "name": "stdout",
     "output_type": "stream",
     "text": [
      "[186500. 184000. 130000.  92000. 164500. 220000. 335000. 144152. 215000.\n",
      " 262000.]\n",
      "[186500. 184000. 130000.  92000. 164500. 220000. 335000. 144152. 215000.\n",
      " 262000.]\n"
     ]
    },
    {
     "data": {
      "application/javascript": [
       "parent.postMessage({\"jupyterEvent\": \"custom.exercise_interaction\", \"data\": {\"outcomeType\": 1, \"valueTowardsCompletion\": 0.25, \"interactionType\": 1, \"questionType\": 2, \"questionId\": \"2_FitModelWithTrain\", \"learnToolsVersion\": \"0.3.4\", \"failureMessage\": \"\", \"exceptionClass\": \"\", \"trace\": \"\"}}, \"*\")"
      ],
      "text/plain": [
       "<IPython.core.display.Javascript object>"
      ]
     },
     "metadata": {},
     "output_type": "display_data"
    },
    {
     "data": {
      "text/markdown": [
       "<span style=\"color:#33cc33\">Correct</span>"
      ],
      "text/plain": [
       "Correct"
      ]
     },
     "metadata": {},
     "output_type": "display_data"
    }
   ],
   "source": [
    "# You imported DecisionTreeRegressor in your last exercise\n",
    "# and that code has been copied to the setup code above. So, no need to\n",
    "# import it again\n",
    "\n",
    "# Specify the model\n",
    "iowa_model = DecisionTreeRegressor(random_state=1)\n",
    "\n",
    "# Fit iowa_model with the training data.\n",
    "iowa_model.fit(train_X, train_y)\n",
    "\n",
    "\n",
    "# Check your answer\n",
    "step_2.check()"
   ]
  },
  {
   "cell_type": "code",
   "execution_count": 5,
   "id": "0c20950f",
   "metadata": {
    "execution": {
     "iopub.execute_input": "2021-08-14T23:00:09.908431Z",
     "iopub.status.busy": "2021-08-14T23:00:09.907786Z",
     "iopub.status.idle": "2021-08-14T23:00:09.915738Z",
     "shell.execute_reply": "2021-08-14T23:00:09.916303Z",
     "shell.execute_reply.started": "2021-08-14T22:59:43.733035Z"
    },
    "papermill": {
     "duration": 0.032307,
     "end_time": "2021-08-14T23:00:09.916512",
     "exception": false,
     "start_time": "2021-08-14T23:00:09.884205",
     "status": "completed"
    },
    "tags": []
   },
   "outputs": [
    {
     "data": {
      "application/javascript": [
       "parent.postMessage({\"jupyterEvent\": \"custom.exercise_interaction\", \"data\": {\"interactionType\": 2, \"questionType\": 2, \"questionId\": \"2_FitModelWithTrain\", \"learnToolsVersion\": \"0.3.4\", \"valueTowardsCompletion\": 0.0, \"failureMessage\": \"\", \"exceptionClass\": \"\", \"trace\": \"\", \"outcomeType\": 4}}, \"*\")"
      ],
      "text/plain": [
       "<IPython.core.display.Javascript object>"
      ]
     },
     "metadata": {},
     "output_type": "display_data"
    },
    {
     "data": {
      "text/markdown": [
       "<span style=\"color:#3366cc\">Hint:</span> Remember, you fit with training data. You will test with validation data soon"
      ],
      "text/plain": [
       "Hint: Remember, you fit with training data. You will test with validation data soon"
      ]
     },
     "metadata": {},
     "output_type": "display_data"
    },
    {
     "data": {
      "application/javascript": [
       "parent.postMessage({\"jupyterEvent\": \"custom.exercise_interaction\", \"data\": {\"interactionType\": 3, \"questionType\": 2, \"questionId\": \"2_FitModelWithTrain\", \"learnToolsVersion\": \"0.3.4\", \"valueTowardsCompletion\": 0.0, \"failureMessage\": \"\", \"exceptionClass\": \"\", \"trace\": \"\", \"outcomeType\": 4}}, \"*\")"
      ],
      "text/plain": [
       "<IPython.core.display.Javascript object>"
      ]
     },
     "metadata": {},
     "output_type": "display_data"
    },
    {
     "data": {
      "text/markdown": [
       "<span style=\"color:#33cc99\">Solution:</span> \n",
       "```python\n",
       "iowa_model = DecisionTreeRegressor(random_state=1)\n",
       "iowa_model.fit(train_X, train_y)\n",
       "```"
      ],
      "text/plain": [
       "Solution: \n",
       "```python\n",
       "iowa_model = DecisionTreeRegressor(random_state=1)\n",
       "iowa_model.fit(train_X, train_y)\n",
       "```"
      ]
     },
     "metadata": {},
     "output_type": "display_data"
    }
   ],
   "source": [
    "step_2.hint()\n",
    "step_2.solution()"
   ]
  },
  {
   "cell_type": "markdown",
   "id": "fe04fb38",
   "metadata": {
    "papermill": {
     "duration": 0.019675,
     "end_time": "2021-08-14T23:00:09.956441",
     "exception": false,
     "start_time": "2021-08-14T23:00:09.936766",
     "status": "completed"
    },
    "tags": []
   },
   "source": [
    "## Step 3: Make Predictions with Validation data\n"
   ]
  },
  {
   "cell_type": "code",
   "execution_count": 6,
   "id": "fcd0c942",
   "metadata": {
    "execution": {
     "iopub.execute_input": "2021-08-14T23:00:10.000672Z",
     "iopub.status.busy": "2021-08-14T23:00:10.000022Z",
     "iopub.status.idle": "2021-08-14T23:00:10.012261Z",
     "shell.execute_reply": "2021-08-14T23:00:10.012793Z",
     "shell.execute_reply.started": "2021-08-14T22:59:43.747697Z"
    },
    "papermill": {
     "duration": 0.035806,
     "end_time": "2021-08-14T23:00:10.012973",
     "exception": false,
     "start_time": "2021-08-14T23:00:09.977167",
     "status": "completed"
    },
    "tags": []
   },
   "outputs": [
    {
     "data": {
      "application/javascript": [
       "parent.postMessage({\"jupyterEvent\": \"custom.exercise_interaction\", \"data\": {\"outcomeType\": 1, \"valueTowardsCompletion\": 0.25, \"interactionType\": 1, \"questionType\": 2, \"questionId\": \"3_ValPreds\", \"learnToolsVersion\": \"0.3.4\", \"failureMessage\": \"\", \"exceptionClass\": \"\", \"trace\": \"\"}}, \"*\")"
      ],
      "text/plain": [
       "<IPython.core.display.Javascript object>"
      ]
     },
     "metadata": {},
     "output_type": "display_data"
    },
    {
     "data": {
      "text/markdown": [
       "<span style=\"color:#33cc33\">Correct</span>"
      ],
      "text/plain": [
       "Correct"
      ]
     },
     "metadata": {},
     "output_type": "display_data"
    }
   ],
   "source": [
    "# Predict with all validation observations\n",
    "val_predictions = iowa_model.predict(val_X)\n",
    "\n",
    "# Check your answer\n",
    "step_3.check()"
   ]
  },
  {
   "cell_type": "code",
   "execution_count": 7,
   "id": "a838442e",
   "metadata": {
    "execution": {
     "iopub.execute_input": "2021-08-14T23:00:10.059003Z",
     "iopub.status.busy": "2021-08-14T23:00:10.058342Z",
     "iopub.status.idle": "2021-08-14T23:00:10.070565Z",
     "shell.execute_reply": "2021-08-14T23:00:10.071069Z",
     "shell.execute_reply.started": "2021-08-14T22:59:43.762543Z"
    },
    "papermill": {
     "duration": 0.036928,
     "end_time": "2021-08-14T23:00:10.071237",
     "exception": false,
     "start_time": "2021-08-14T23:00:10.034309",
     "status": "completed"
    },
    "tags": []
   },
   "outputs": [
    {
     "data": {
      "application/javascript": [
       "parent.postMessage({\"jupyterEvent\": \"custom.exercise_interaction\", \"data\": {\"interactionType\": 2, \"questionType\": 2, \"questionId\": \"3_ValPreds\", \"learnToolsVersion\": \"0.3.4\", \"valueTowardsCompletion\": 0.0, \"failureMessage\": \"\", \"exceptionClass\": \"\", \"trace\": \"\", \"outcomeType\": 4}}, \"*\")"
      ],
      "text/plain": [
       "<IPython.core.display.Javascript object>"
      ]
     },
     "metadata": {},
     "output_type": "display_data"
    },
    {
     "data": {
      "text/markdown": [
       "<span style=\"color:#3366cc\">Hint:</span> Run predict on the right validation data object."
      ],
      "text/plain": [
       "Hint: Run predict on the right validation data object."
      ]
     },
     "metadata": {},
     "output_type": "display_data"
    },
    {
     "data": {
      "application/javascript": [
       "parent.postMessage({\"jupyterEvent\": \"custom.exercise_interaction\", \"data\": {\"interactionType\": 3, \"questionType\": 2, \"questionId\": \"3_ValPreds\", \"learnToolsVersion\": \"0.3.4\", \"valueTowardsCompletion\": 0.0, \"failureMessage\": \"\", \"exceptionClass\": \"\", \"trace\": \"\", \"outcomeType\": 4}}, \"*\")"
      ],
      "text/plain": [
       "<IPython.core.display.Javascript object>"
      ]
     },
     "metadata": {},
     "output_type": "display_data"
    },
    {
     "data": {
      "text/markdown": [
       "<span style=\"color:#33cc99\">Solution:</span> \n",
       "```python\n",
       "val_predictions = iowa_model.predict(val_X)\n",
       "```"
      ],
      "text/plain": [
       "Solution: \n",
       "```python\n",
       "val_predictions = iowa_model.predict(val_X)\n",
       "```"
      ]
     },
     "metadata": {},
     "output_type": "display_data"
    }
   ],
   "source": [
    "step_3.hint()\n",
    "step_3.solution()"
   ]
  },
  {
   "cell_type": "markdown",
   "id": "8b82da34",
   "metadata": {
    "papermill": {
     "duration": 0.022842,
     "end_time": "2021-08-14T23:00:10.117936",
     "exception": false,
     "start_time": "2021-08-14T23:00:10.095094",
     "status": "completed"
    },
    "tags": []
   },
   "source": [
    "Inspect your predictions and actual values from validation data."
   ]
  },
  {
   "cell_type": "code",
   "execution_count": 8,
   "id": "30a4d744",
   "metadata": {
    "execution": {
     "iopub.execute_input": "2021-08-14T23:00:10.167773Z",
     "iopub.status.busy": "2021-08-14T23:00:10.166848Z",
     "iopub.status.idle": "2021-08-14T23:00:10.177390Z",
     "shell.execute_reply": "2021-08-14T23:00:10.176805Z",
     "shell.execute_reply.started": "2021-08-14T22:59:43.786697Z"
    },
    "papermill": {
     "duration": 0.036554,
     "end_time": "2021-08-14T23:00:10.177546",
     "exception": false,
     "start_time": "2021-08-14T23:00:10.140992",
     "status": "completed"
    },
    "tags": []
   },
   "outputs": [
    {
     "name": "stdout",
     "output_type": "stream",
     "text": [
      "      LotArea  YearBuilt  1stFlrSF  2ndFlrSF  FullBath  BedroomAbvGr  \\\n",
      "258     12435       2001       963       829         2             3   \n",
      "267      8400       1939      1052       720         2             4   \n",
      "288      9819       1967       900         0         1             3   \n",
      "649      1936       1970       630         0         1             1   \n",
      "1233    12160       1959      1188         0         1             3   \n",
      "\n",
      "      TotRmsAbvGrd  \n",
      "258              7  \n",
      "267              8  \n",
      "288              5  \n",
      "649              3  \n",
      "1233             6  \n",
      "258     231500\n",
      "267     179500\n",
      "288     122000\n",
      "649      84500\n",
      "1233    142000\n",
      "Name: SalePrice, dtype: int64\n"
     ]
    }
   ],
   "source": [
    "# print the top few validation predictions\n",
    "print(val_X.head())\n",
    "# print the top few actual prices from validation data\n",
    "print(val_y.head())"
   ]
  },
  {
   "cell_type": "markdown",
   "id": "c870883f",
   "metadata": {
    "papermill": {
     "duration": 0.023551,
     "end_time": "2021-08-14T23:00:10.226312",
     "exception": false,
     "start_time": "2021-08-14T23:00:10.202761",
     "status": "completed"
    },
    "tags": []
   },
   "source": [
    "What do you notice that is different from what you saw with in-sample predictions (which are printed after the top code cell in this page).\n",
    "\n",
    "Do you remember why validation predictions differ from in-sample (or training) predictions? This is an important idea from the last lesson.\n",
    "\n",
    "## Step 4: Calculate the Mean Absolute Error in Validation Data\n"
   ]
  },
  {
   "cell_type": "code",
   "execution_count": 9,
   "id": "4c3b99e9",
   "metadata": {
    "execution": {
     "iopub.execute_input": "2021-08-14T23:00:10.281703Z",
     "iopub.status.busy": "2021-08-14T23:00:10.281002Z",
     "iopub.status.idle": "2021-08-14T23:00:10.288435Z",
     "shell.execute_reply": "2021-08-14T23:00:10.287846Z",
     "shell.execute_reply.started": "2021-08-14T22:59:43.799938Z"
    },
    "papermill": {
     "duration": 0.038538,
     "end_time": "2021-08-14T23:00:10.288615",
     "exception": false,
     "start_time": "2021-08-14T23:00:10.250077",
     "status": "completed"
    },
    "tags": []
   },
   "outputs": [
    {
     "name": "stdout",
     "output_type": "stream",
     "text": [
      "29652.931506849316\n"
     ]
    },
    {
     "data": {
      "application/javascript": [
       "parent.postMessage({\"jupyterEvent\": \"custom.exercise_interaction\", \"data\": {\"outcomeType\": 1, \"valueTowardsCompletion\": 0.25, \"interactionType\": 1, \"questionType\": 1, \"questionId\": \"4_MAE\", \"learnToolsVersion\": \"0.3.4\", \"failureMessage\": \"\", \"exceptionClass\": \"\", \"trace\": \"\"}}, \"*\")"
      ],
      "text/plain": [
       "<IPython.core.display.Javascript object>"
      ]
     },
     "metadata": {},
     "output_type": "display_data"
    },
    {
     "data": {
      "text/markdown": [
       "<span style=\"color:#33cc33\">Correct</span>"
      ],
      "text/plain": [
       "Correct"
      ]
     },
     "metadata": {},
     "output_type": "display_data"
    }
   ],
   "source": [
    "from sklearn.metrics import mean_absolute_error\n",
    "val_mae = mean_absolute_error(val_y,val_predictions)\n",
    "\n",
    "# uncomment following line to see the validation_mae\n",
    "print(val_mae)\n",
    "\n",
    "# Check your answer\n",
    "step_4.check()"
   ]
  },
  {
   "cell_type": "code",
   "execution_count": 10,
   "id": "27cc94ea",
   "metadata": {
    "execution": {
     "iopub.execute_input": "2021-08-14T23:00:10.347015Z",
     "iopub.status.busy": "2021-08-14T23:00:10.345971Z",
     "iopub.status.idle": "2021-08-14T23:00:10.356778Z",
     "shell.execute_reply": "2021-08-14T23:00:10.357241Z",
     "shell.execute_reply.started": "2021-08-14T22:59:43.818960Z"
    },
    "papermill": {
     "duration": 0.042294,
     "end_time": "2021-08-14T23:00:10.357444",
     "exception": false,
     "start_time": "2021-08-14T23:00:10.315150",
     "status": "completed"
    },
    "tags": []
   },
   "outputs": [
    {
     "data": {
      "application/javascript": [
       "parent.postMessage({\"jupyterEvent\": \"custom.exercise_interaction\", \"data\": {\"interactionType\": 2, \"questionType\": 1, \"questionId\": \"4_MAE\", \"learnToolsVersion\": \"0.3.4\", \"valueTowardsCompletion\": 0.0, \"failureMessage\": \"\", \"exceptionClass\": \"\", \"trace\": \"\", \"outcomeType\": 4}}, \"*\")"
      ],
      "text/plain": [
       "<IPython.core.display.Javascript object>"
      ]
     },
     "metadata": {},
     "output_type": "display_data"
    },
    {
     "data": {
      "text/markdown": [
       "<span style=\"color:#3366cc\">Hint:</span> The order of arguments to mean_absolute_error doesn't matter. Make sure you fit to only the training data in step 2."
      ],
      "text/plain": [
       "Hint: The order of arguments to mean_absolute_error doesn't matter. Make sure you fit to only the training data in step 2."
      ]
     },
     "metadata": {},
     "output_type": "display_data"
    },
    {
     "data": {
      "application/javascript": [
       "parent.postMessage({\"jupyterEvent\": \"custom.exercise_interaction\", \"data\": {\"interactionType\": 3, \"questionType\": 1, \"questionId\": \"4_MAE\", \"learnToolsVersion\": \"0.3.4\", \"valueTowardsCompletion\": 0.0, \"failureMessage\": \"\", \"exceptionClass\": \"\", \"trace\": \"\", \"outcomeType\": 4}}, \"*\")"
      ],
      "text/plain": [
       "<IPython.core.display.Javascript object>"
      ]
     },
     "metadata": {},
     "output_type": "display_data"
    },
    {
     "data": {
      "text/markdown": [
       "<span style=\"color:#33cc99\">Solution:</span> \n",
       "```python\n",
       "val_mae = mean_absolute_error(val_predictions, val_y)\n",
       "```"
      ],
      "text/plain": [
       "Solution: \n",
       "```python\n",
       "val_mae = mean_absolute_error(val_predictions, val_y)\n",
       "```"
      ]
     },
     "metadata": {},
     "output_type": "display_data"
    }
   ],
   "source": [
    "step_4.hint()\n",
    "step_4.solution()"
   ]
  },
  {
   "cell_type": "markdown",
   "id": "c1b95c76",
   "metadata": {
    "papermill": {
     "duration": 0.026467,
     "end_time": "2021-08-14T23:00:10.410620",
     "exception": false,
     "start_time": "2021-08-14T23:00:10.384153",
     "status": "completed"
    },
    "tags": []
   },
   "source": [
    "Is that MAE good?  There isn't a general rule for what values are good that applies across applications. But you'll see how to use (and improve) this number in the next step.\n",
    "\n",
    "# Keep Going\n",
    "\n",
    "You are ready for **[Underfitting and Overfitting](https://www.kaggle.com/dansbecker/underfitting-and-overfitting).**\n"
   ]
  },
  {
   "cell_type": "markdown",
   "id": "b0d0cb32",
   "metadata": {
    "papermill": {
     "duration": 0.026051,
     "end_time": "2021-08-14T23:00:10.463137",
     "exception": false,
     "start_time": "2021-08-14T23:00:10.437086",
     "status": "completed"
    },
    "tags": []
   },
   "source": [
    "---\n",
    "\n",
    "\n",
    "\n",
    "\n",
    "*Have questions or comments? Visit the [Learn Discussion forum](https://www.kaggle.com/learn-forum/161285) to chat with other Learners.*"
   ]
  }
 ],
 "metadata": {
  "kernelspec": {
   "display_name": "Python 3",
   "language": "python",
   "name": "python3"
  },
  "language_info": {
   "codemirror_mode": {
    "name": "ipython",
    "version": 3
   },
   "file_extension": ".py",
   "mimetype": "text/x-python",
   "name": "python",
   "nbconvert_exporter": "python",
   "pygments_lexer": "ipython3",
   "version": "3.7.10"
  },
  "papermill": {
   "default_parameters": {},
   "duration": 12.905656,
   "end_time": "2021-08-14T23:00:12.190310",
   "environment_variables": {},
   "exception": null,
   "input_path": "__notebook__.ipynb",
   "output_path": "__notebook__.ipynb",
   "parameters": {},
   "start_time": "2021-08-14T22:59:59.284654",
   "version": "2.3.3"
  }
 },
 "nbformat": 4,
 "nbformat_minor": 5
}
