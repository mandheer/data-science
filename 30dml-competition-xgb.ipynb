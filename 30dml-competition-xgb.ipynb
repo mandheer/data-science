{
 "cells": [
  {
   "cell_type": "markdown",
   "id": "255a3a40",
   "metadata": {
    "papermill": {
     "duration": 0.011281,
     "end_time": "2021-08-31T21:40:25.977769",
     "exception": false,
     "start_time": "2021-08-31T21:40:25.966488",
     "status": "completed"
    },
    "tags": []
   },
   "source": [
    "## XGBRegresor | KFOLD-10 & OptunaTunning\n",
    "\n",
    "Optuna:\n",
    "Optuna is an open-source hyperparameter optimization toolkit designed to deal with machine learning and non-machine learning(as long as we can define the objective function). It provides a very imperative interface to fully support Python language with the highest modularity level in code\n"
   ]
  },
  {
   "cell_type": "markdown",
   "id": "a14947a7",
   "metadata": {
    "papermill": {
     "duration": 0.009681,
     "end_time": "2021-08-31T21:40:25.997920",
     "exception": false,
     "start_time": "2021-08-31T21:40:25.988239",
     "status": "completed"
    },
    "tags": []
   },
   "source": [
    "#### **Necessary Library**"
   ]
  },
  {
   "cell_type": "code",
   "execution_count": 1,
   "id": "566bf604",
   "metadata": {
    "execution": {
     "iopub.execute_input": "2021-08-31T21:40:26.033222Z",
     "iopub.status.busy": "2021-08-31T21:40:26.032357Z",
     "iopub.status.idle": "2021-08-31T21:40:29.347247Z",
     "shell.execute_reply": "2021-08-31T21:40:29.346056Z",
     "shell.execute_reply.started": "2021-08-31T20:58:43.125295Z"
    },
    "papermill": {
     "duration": 3.339538,
     "end_time": "2021-08-31T21:40:29.347394",
     "exception": false,
     "start_time": "2021-08-31T21:40:26.007856",
     "status": "completed"
    },
    "tags": []
   },
   "outputs": [
    {
     "data": {
      "text/html": [
       "<style type='text/css'>\n",
       ".datatable table.frame { margin-bottom: 0; }\n",
       ".datatable table.frame thead { border-bottom: none; }\n",
       ".datatable table.frame tr.coltypes td {  color: #FFFFFF;  line-height: 6px;  padding: 0 0.5em;}\n",
       ".datatable .bool    { background: #DDDD99; }\n",
       ".datatable .object  { background: #565656; }\n",
       ".datatable .int     { background: #5D9E5D; }\n",
       ".datatable .float   { background: #4040CC; }\n",
       ".datatable .str     { background: #CC4040; }\n",
       ".datatable .time    { background: #40CC40; }\n",
       ".datatable .row_index {  background: var(--jp-border-color3);  border-right: 1px solid var(--jp-border-color0);  color: var(--jp-ui-font-color3);  font-size: 9px;}\n",
       ".datatable .frame tbody td { text-align: left; }\n",
       ".datatable .frame tr.coltypes .row_index {  background: var(--jp-border-color0);}\n",
       ".datatable th:nth-child(2) { padding-left: 12px; }\n",
       ".datatable .hellipsis {  color: var(--jp-cell-editor-border-color);}\n",
       ".datatable .vellipsis {  background: var(--jp-layout-color0);  color: var(--jp-cell-editor-border-color);}\n",
       ".datatable .na {  color: var(--jp-cell-editor-border-color);  font-size: 80%;}\n",
       ".datatable .sp {  opacity: 0.25;}\n",
       ".datatable .footer { font-size: 9px; }\n",
       ".datatable .frame_dimensions {  background: var(--jp-border-color3);  border-top: 1px solid var(--jp-border-color0);  color: var(--jp-ui-font-color3);  display: inline-block;  opacity: 0.6;  padding: 1px 10px 1px 5px;}\n",
       "</style>\n"
      ],
      "text/plain": [
       "<IPython.core.display.HTML object>"
      ]
     },
     "metadata": {},
     "output_type": "display_data"
    }
   ],
   "source": [
    "#Import necessay libraries\n",
    "import pandas as pd\n",
    "import numpy as np\n",
    "from matplotlib import pyplot as plt\n",
    "%matplotlib inline\n",
    "import matplotlib\n",
    "matplotlib.rcParams[\"figure.figsize\"] = (20,10)\n",
    "import seaborn as sns\n",
    "\n",
    "#Preprocessing\n",
    "from sklearn import model_selection\n",
    "from sklearn.preprocessing import OrdinalEncoder\n",
    "from sklearn import preprocessing\n",
    "from sklearn.model_selection import train_test_split\n",
    "#Model\n",
    "from sklearn.ensemble import RandomForestRegressor\n",
    "from sklearn.metrics import mean_squared_error\n",
    "from xgboost import XGBRegressor\n",
    "from lightgbm import LGBMRegressor\n"
   ]
  },
  {
   "cell_type": "markdown",
   "id": "c795d30e",
   "metadata": {
    "papermill": {
     "duration": 0.01033,
     "end_time": "2021-08-31T21:40:29.369029",
     "exception": false,
     "start_time": "2021-08-31T21:40:29.358699",
     "status": "completed"
    },
    "tags": []
   },
   "source": [
    "#### **KFold**-->Split=5"
   ]
  },
  {
   "cell_type": "code",
   "execution_count": 2,
   "id": "abdd6376",
   "metadata": {
    "execution": {
     "iopub.execute_input": "2021-08-31T21:40:29.395266Z",
     "iopub.status.busy": "2021-08-31T21:40:29.394672Z",
     "iopub.status.idle": "2021-08-31T21:40:42.012272Z",
     "shell.execute_reply": "2021-08-31T21:40:42.011763Z",
     "shell.execute_reply.started": "2021-08-31T20:58:46.315486Z"
    },
    "papermill": {
     "duration": 12.633167,
     "end_time": "2021-08-31T21:40:42.012410",
     "exception": false,
     "start_time": "2021-08-31T21:40:29.379243",
     "status": "completed"
    },
    "tags": []
   },
   "outputs": [
    {
     "name": "stdout",
     "output_type": "stream",
     "text": [
      "(300000, 26) (200000, 25)\n",
      "0    30000\n",
      "1    30000\n",
      "2    30000\n",
      "3    30000\n",
      "4    30000\n",
      "5    30000\n",
      "6    30000\n",
      "7    30000\n",
      "8    30000\n",
      "9    30000\n",
      "Name: kfold, dtype: int64\n"
     ]
    }
   ],
   "source": [
    "#import the data and shape\n",
    "train = pd.read_csv(\"../input/30-days-of-ml/train.csv\")\n",
    "test = pd.read_csv(\"../input/30-days-of-ml/test.csv\")\n",
    "print(train.shape,test.shape)\n",
    "#add extra one columns\n",
    "train['kfold']=-1\n",
    "#Distributing the data 5 shares\n",
    "kfold = model_selection.KFold(n_splits=10, shuffle= True, random_state = 42)\n",
    "for fold, (train_indicies, valid_indicies) in enumerate(kfold.split(X=train)):\n",
    "    #print(fold,train_indicies,valid_indicies)\n",
    "    train.loc[valid_indicies,'kfold'] = fold\n",
    "\n",
    "    \n",
    "print(train.kfold.value_counts()) #total data 300000 = kfold split :5 * 60000\n",
    "\n",
    "#output of train folds data\n",
    "train.to_csv(\"trainfold_10.csv\",index=False)"
   ]
  },
  {
   "cell_type": "markdown",
   "id": "72fd00ac",
   "metadata": {
    "papermill": {
     "duration": 0.010502,
     "end_time": "2021-08-31T21:40:42.033888",
     "exception": false,
     "start_time": "2021-08-31T21:40:42.023386",
     "status": "completed"
    },
    "tags": []
   },
   "source": [
    "### **Read input data**"
   ]
  },
  {
   "cell_type": "code",
   "execution_count": 3,
   "id": "ee5a7195",
   "metadata": {
    "execution": {
     "iopub.execute_input": "2021-08-31T21:40:42.059497Z",
     "iopub.status.busy": "2021-08-31T21:40:42.058916Z",
     "iopub.status.idle": "2021-08-31T21:40:43.859924Z",
     "shell.execute_reply": "2021-08-31T21:40:43.859213Z",
     "shell.execute_reply.started": "2021-08-31T20:58:58.184149Z"
    },
    "papermill": {
     "duration": 1.815528,
     "end_time": "2021-08-31T21:40:43.860063",
     "exception": false,
     "start_time": "2021-08-31T21:40:42.044535",
     "status": "completed"
    },
    "tags": []
   },
   "outputs": [
    {
     "name": "stdout",
     "output_type": "stream",
     "text": [
      "(300000, 27) (200000, 25)\n"
     ]
    },
    {
     "data": {
      "text/html": [
       "<div>\n",
       "<style scoped>\n",
       "    .dataframe tbody tr th:only-of-type {\n",
       "        vertical-align: middle;\n",
       "    }\n",
       "\n",
       "    .dataframe tbody tr th {\n",
       "        vertical-align: top;\n",
       "    }\n",
       "\n",
       "    .dataframe thead th {\n",
       "        text-align: right;\n",
       "    }\n",
       "</style>\n",
       "<table border=\"1\" class=\"dataframe\">\n",
       "  <thead>\n",
       "    <tr style=\"text-align: right;\">\n",
       "      <th></th>\n",
       "      <th>id</th>\n",
       "      <th>cat0</th>\n",
       "      <th>cat1</th>\n",
       "      <th>cat2</th>\n",
       "      <th>cat3</th>\n",
       "      <th>cat4</th>\n",
       "      <th>cat5</th>\n",
       "      <th>cat6</th>\n",
       "      <th>cat7</th>\n",
       "      <th>cat8</th>\n",
       "      <th>...</th>\n",
       "      <th>cont6</th>\n",
       "      <th>cont7</th>\n",
       "      <th>cont8</th>\n",
       "      <th>cont9</th>\n",
       "      <th>cont10</th>\n",
       "      <th>cont11</th>\n",
       "      <th>cont12</th>\n",
       "      <th>cont13</th>\n",
       "      <th>target</th>\n",
       "      <th>kfold</th>\n",
       "    </tr>\n",
       "  </thead>\n",
       "  <tbody>\n",
       "    <tr>\n",
       "      <th>176448</th>\n",
       "      <td>294188</td>\n",
       "      <td>A</td>\n",
       "      <td>B</td>\n",
       "      <td>A</td>\n",
       "      <td>C</td>\n",
       "      <td>B</td>\n",
       "      <td>D</td>\n",
       "      <td>C</td>\n",
       "      <td>E</td>\n",
       "      <td>G</td>\n",
       "      <td>...</td>\n",
       "      <td>0.417667</td>\n",
       "      <td>0.501534</td>\n",
       "      <td>0.570452</td>\n",
       "      <td>0.808488</td>\n",
       "      <td>0.878065</td>\n",
       "      <td>0.802157</td>\n",
       "      <td>0.852899</td>\n",
       "      <td>0.170563</td>\n",
       "      <td>8.115577</td>\n",
       "      <td>7</td>\n",
       "    </tr>\n",
       "  </tbody>\n",
       "</table>\n",
       "<p>1 rows × 27 columns</p>\n",
       "</div>"
      ],
      "text/plain": [
       "            id cat0 cat1 cat2 cat3 cat4 cat5 cat6 cat7 cat8  ...     cont6  \\\n",
       "176448  294188    A    B    A    C    B    D    C    E    G  ...  0.417667   \n",
       "\n",
       "           cont7     cont8     cont9    cont10    cont11    cont12    cont13  \\\n",
       "176448  0.501534  0.570452  0.808488  0.878065  0.802157  0.852899  0.170563   \n",
       "\n",
       "          target  kfold  \n",
       "176448  8.115577      7  \n",
       "\n",
       "[1 rows x 27 columns]"
      ]
     },
     "execution_count": 3,
     "metadata": {},
     "output_type": "execute_result"
    }
   ],
   "source": [
    "#import the data and shape\n",
    "train = pd.read_csv(\"./trainfold_10.csv\")\n",
    "test = pd.read_csv(\"../input/30-days-of-ml/test.csv\")\n",
    "sample_submission = pd.read_csv(\"../input/30-days-of-ml/sample_submission.csv\")\n",
    "#preview the train data\n",
    "print(train.shape,test.shape)\n",
    "train.sample()"
   ]
  },
  {
   "cell_type": "markdown",
   "id": "3ff23d91",
   "metadata": {
    "papermill": {
     "duration": 0.011029,
     "end_time": "2021-08-31T21:40:43.882447",
     "exception": false,
     "start_time": "2021-08-31T21:40:43.871418",
     "status": "completed"
    },
    "tags": []
   },
   "source": [
    "### **HeatMap analysis of Missing data**"
   ]
  },
  {
   "cell_type": "code",
   "execution_count": 4,
   "id": "42c061a2",
   "metadata": {
    "_kg_hide-input": true,
    "execution": {
     "iopub.execute_input": "2021-08-31T21:40:43.923750Z",
     "iopub.status.busy": "2021-08-31T21:40:43.923016Z",
     "iopub.status.idle": "2021-08-31T21:40:44.778915Z",
     "shell.execute_reply": "2021-08-31T21:40:44.778504Z",
     "shell.execute_reply.started": "2021-08-31T20:59:00.048994Z"
    },
    "papermill": {
     "duration": 0.885285,
     "end_time": "2021-08-31T21:40:44.779056",
     "exception": false,
     "start_time": "2021-08-31T21:40:43.893771",
     "status": "completed"
    },
    "tags": []
   },
   "outputs": [
    {
     "data": {
      "image/png": "[encoded data removed]",
      "text/plain": [
       "<Figure size 720x864 with 2 Axes>"
      ]
     },
     "metadata": {
      "needs_background": "light"
     },
     "output_type": "display_data"
    }
   ],
   "source": [
    "plt.rc('figure',figsize= (10,12))\n",
    "sns.set_context('paper',font_scale=1)\n",
    "\n",
    "plt.title('Missing value status',fontweight = 'bold')\n",
    "ax = sns.heatmap(train.isnull().sum().to_frame(),annot=True,fmt = 'd',cmap = 'vlag')\n",
    "ax.set_xlabel('Amount Missing')\n",
    "plt.show()\n"
   ]
  },
  {
   "cell_type": "markdown",
   "id": "ad1420e8",
   "metadata": {
    "papermill": {
     "duration": 0.012373,
     "end_time": "2021-08-31T21:40:44.804119",
     "exception": false,
     "start_time": "2021-08-31T21:40:44.791746",
     "status": "completed"
    },
    "tags": []
   },
   "source": [
    "#### Statistical analysis"
   ]
  },
  {
   "cell_type": "code",
   "execution_count": 5,
   "id": "2163ee38",
   "metadata": {
    "_kg_hide-input": true,
    "_kg_hide-output": true,
    "execution": {
     "iopub.execute_input": "2021-08-31T21:40:44.849719Z",
     "iopub.status.busy": "2021-08-31T21:40:44.848812Z",
     "iopub.status.idle": "2021-08-31T21:40:45.536376Z",
     "shell.execute_reply": "2021-08-31T21:40:45.536923Z",
     "shell.execute_reply.started": "2021-08-31T20:59:01.084066Z"
    },
    "papermill": {
     "duration": 0.720465,
     "end_time": "2021-08-31T21:40:45.537139",
     "exception": false,
     "start_time": "2021-08-31T21:40:44.816674",
     "status": "completed"
    },
    "tags": []
   },
   "outputs": [
    {
     "name": "stdout",
     "output_type": "stream",
     "text": [
      "Describe                   id          cont0          cont1          cont2  \\\n",
      "count  300000.000000  300000.000000  300000.000000  300000.000000   \n",
      "mean   250018.576947       0.527335       0.460926       0.490498   \n",
      "std    144450.150010       0.230599       0.214003       0.253346   \n",
      "min         1.000000      -0.118039      -0.069309      -0.056104   \n",
      "25%    124772.500000       0.405965       0.310494       0.300604   \n",
      "50%    250002.500000       0.497053       0.427903       0.502462   \n",
      "75%    375226.500000       0.668060       0.615113       0.647512   \n",
      "max    499999.000000       1.058443       0.887253       1.034704   \n",
      "\n",
      "               cont3          cont4          cont5          cont6  \\\n",
      "count  300000.000000  300000.000000  300000.000000  300000.000000   \n",
      "mean        0.496689       0.491654       0.510526       0.467476   \n",
      "std         0.219199       0.240074       0.228232       0.210331   \n",
      "min         0.130676       0.255908       0.045915      -0.224689   \n",
      "25%         0.329783       0.284188       0.354141       0.342873   \n",
      "50%         0.465026       0.390470       0.488865       0.429383   \n",
      "75%         0.664451       0.696599       0.669625       0.573383   \n",
      "max         1.039560       1.055424       1.067649       1.111552   \n",
      "\n",
      "               cont7          cont8          cont9         cont10  \\\n",
      "count  300000.000000  300000.000000  300000.000000  300000.000000   \n",
      "mean        0.537119       0.498456       0.474872       0.474492   \n",
      "std         0.218140       0.239920       0.218007       0.255949   \n",
      "min         0.203763      -0.260275       0.117896       0.048732   \n",
      "25%         0.355825       0.332486       0.306874       0.276017   \n",
      "50%         0.504661       0.439151       0.434620       0.459975   \n",
      "75%         0.703441       0.606056       0.614333       0.691579   \n",
      "max         1.032837       1.040229       0.982922       1.055960   \n",
      "\n",
      "              cont11         cont12         cont13         target  \\\n",
      "count  300000.000000  300000.000000  300000.000000  300000.000000   \n",
      "mean        0.473216       0.494561       0.508273       8.241979   \n",
      "std         0.222022       0.247292       0.222950       0.746555   \n",
      "min         0.052608      -0.074208       0.151050       0.140329   \n",
      "25%         0.308151       0.289074       0.300669       7.742071   \n",
      "50%         0.433812       0.422887       0.472400       8.191373   \n",
      "75%         0.642057       0.714502       0.758447       8.728634   \n",
      "max         1.071444       0.975035       0.905992      10.411992   \n",
      "\n",
      "               kfold  \n",
      "count  300000.000000  \n",
      "mean        4.500000  \n",
      "std         2.872286  \n",
      "min         0.000000  \n",
      "25%         2.000000  \n",
      "50%         4.500000  \n",
      "75%         7.000000  \n",
      "max         9.000000  \n",
      "--------------------------------------------------------------------------\n",
      "<class 'pandas.core.frame.DataFrame'>\n",
      "RangeIndex: 300000 entries, 0 to 299999\n",
      "Data columns (total 27 columns):\n",
      " #   Column  Non-Null Count   Dtype  \n",
      "---  ------  --------------   -----  \n",
      " 0   id      300000 non-null  int64  \n",
      " 1   cat0    300000 non-null  object \n",
      " 2   cat1    300000 non-null  object \n",
      " 3   cat2    300000 non-null  object \n",
      " 4   cat3    300000 non-null  object \n",
      " 5   cat4    300000 non-null  object \n",
      " 6   cat5    300000 non-null  object \n",
      " 7   cat6    300000 non-null  object \n",
      " 8   cat7    300000 non-null  object \n",
      " 9   cat8    300000 non-null  object \n",
      " 10  cat9    300000 non-null  object \n",
      " 11  cont0   300000 non-null  float64\n",
      " 12  cont1   300000 non-null  float64\n",
      " 13  cont2   300000 non-null  float64\n",
      " 14  cont3   300000 non-null  float64\n",
      " 15  cont4   300000 non-null  float64\n",
      " 16  cont5   300000 non-null  float64\n",
      " 17  cont6   300000 non-null  float64\n",
      " 18  cont7   300000 non-null  float64\n",
      " 19  cont8   300000 non-null  float64\n",
      " 20  cont9   300000 non-null  float64\n",
      " 21  cont10  300000 non-null  float64\n",
      " 22  cont11  300000 non-null  float64\n",
      " 23  cont12  300000 non-null  float64\n",
      " 24  cont13  300000 non-null  float64\n",
      " 25  target  300000 non-null  float64\n",
      " 26  kfold   300000 non-null  int64  \n",
      "dtypes: float64(15), int64(2), object(10)\n",
      "memory usage: 61.8+ MB\n",
      "Information None\n",
      "---------------------------------------------------------------------------\n",
      "correlation               id     cont0     cont1     cont2     cont3     cont4     cont5  \\\n",
      "id      1.000000  0.002445  0.001970  0.001552  0.000595 -0.002411 -0.001864   \n",
      "cont0   0.002445  1.000000 -0.009422 -0.296989  0.211333 -0.109776  0.392456   \n",
      "cont1   0.001970 -0.009422  1.000000 -0.000627 -0.002233 -0.000285  0.003812   \n",
      "cont2   0.001552 -0.296989 -0.000627  1.000000 -0.180856  0.092780 -0.300140   \n",
      "cont3   0.000595  0.211333 -0.002233 -0.180856  1.000000 -0.069934  0.201441   \n",
      "cont4  -0.002411 -0.109776 -0.000285  0.092780 -0.069934  1.000000 -0.148807   \n",
      "cont5  -0.001864  0.392456  0.003812 -0.300140  0.201441 -0.148807  1.000000   \n",
      "cont6   0.002295  0.133995  0.001321 -0.141724  0.040133 -0.044417  0.211800   \n",
      "cont7  -0.001246  0.294687  0.013475 -0.283989  0.172586 -0.095653  0.329357   \n",
      "cont8  -0.004349  0.388510 -0.021541 -0.326456  0.185221 -0.122594  0.392057   \n",
      "cont9  -0.000328  0.394969 -0.002727 -0.309118  0.194807 -0.123468  0.411366   \n",
      "cont10  0.000832  0.363413 -0.001648 -0.300273  0.199525 -0.132211  0.402053   \n",
      "cont11  0.002284  0.255941 -0.017221 -0.325023  0.140934 -0.115173  0.308249   \n",
      "cont12 -0.000480  0.417872 -0.006862 -0.352009  0.255117 -0.151080  0.473964   \n",
      "cont13 -0.001694  0.023234 -0.010097 -0.039815  0.037920 -0.012798  0.053779   \n",
      "target  0.000480  0.028819 -0.002096  0.034280 -0.022759 -0.023132 -0.015058   \n",
      "kfold  -0.001245 -0.002095 -0.001866 -0.003955  0.000261 -0.000597 -0.000241   \n",
      "\n",
      "           cont6     cont7     cont8     cont9    cont10    cont11    cont12  \\\n",
      "id      0.002295 -0.001246 -0.004349 -0.000328  0.000832  0.002284 -0.000480   \n",
      "cont0   0.133995  0.294687  0.388510  0.394969  0.363413  0.255941  0.417872   \n",
      "cont1   0.001321  0.013475 -0.021541 -0.002727 -0.001648 -0.017221 -0.006862   \n",
      "cont2  -0.141724 -0.283989 -0.326456 -0.309118 -0.300273 -0.325023 -0.352009   \n",
      "cont3   0.040133  0.172586  0.185221  0.194807  0.199525  0.140934  0.255117   \n",
      "cont4  -0.044417 -0.095653 -0.122594 -0.123468 -0.132211 -0.115173 -0.151080   \n",
      "cont5   0.211800  0.329357  0.392057  0.411366  0.402053  0.308249  0.473964   \n",
      "cont6   1.000000  0.135333  0.117833  0.187303  0.178168  0.168731  0.171010   \n",
      "cont7   0.135333  1.000000  0.332639  0.320239  0.283414  0.279405  0.363091   \n",
      "cont8   0.117833  0.332639  1.000000  0.406517  0.341430  0.297121  0.434196   \n",
      "cont9   0.187303  0.320239  0.406517  1.000000  0.361941  0.327866  0.437776   \n",
      "cont10  0.178168  0.283414  0.341430  0.361941  1.000000  0.293860  0.407609   \n",
      "cont11  0.168731  0.279405  0.297121  0.327866  0.293860  1.000000  0.363579   \n",
      "cont12  0.171010  0.363091  0.434196  0.437776  0.407609  0.363579  1.000000   \n",
      "cont13  0.031183  0.056958  0.050163  0.044631  0.041353  0.031141  0.059919   \n",
      "target -0.013807  0.035143  0.017740 -0.015726  0.052468  0.033378  0.055829   \n",
      "kfold  -0.000421  0.002233  0.002751  0.000150 -0.002869  0.000783 -0.000003   \n",
      "\n",
      "          cont13    target     kfold  \n",
      "id     -0.001694  0.000480 -0.001245  \n",
      "cont0   0.023234  0.028819 -0.002095  \n",
      "cont1  -0.010097 -0.002096 -0.001866  \n",
      "cont2  -0.039815  0.034280 -0.003955  \n",
      "cont3   0.037920 -0.022759  0.000261  \n",
      "cont4  -0.012798 -0.023132 -0.000597  \n",
      "cont5   0.053779 -0.015058 -0.000241  \n",
      "cont6   0.031183 -0.013807 -0.000421  \n",
      "cont7   0.056958  0.035143  0.002233  \n",
      "cont8   0.050163  0.017740  0.002751  \n",
      "cont9   0.044631 -0.015726  0.000150  \n",
      "cont10  0.041353  0.052468 -0.002869  \n",
      "cont11  0.031141  0.033378  0.000783  \n",
      "cont12  0.059919  0.055829 -0.000003  \n",
      "cont13  1.000000 -0.028189  0.003539  \n",
      "target -0.028189  1.000000  0.000501  \n",
      "kfold   0.003539  0.000501  1.000000  \n"
     ]
    }
   ],
   "source": [
    "#statistical analysis of train data\n",
    "print(\"Describe\",train.describe())\n",
    "print(\"--------------------------------------------------------------------------\")\n",
    "\n",
    "#information of train data\n",
    "print(\"Information\",train.info())\n",
    "print(\"---------------------------------------------------------------------------\")\n",
    "\n",
    "print(\"correlation\",train.corr())"
   ]
  },
  {
   "cell_type": "code",
   "execution_count": 6,
   "id": "0f877a9b",
   "metadata": {
    "_kg_hide-input": true,
    "execution": {
     "iopub.execute_input": "2021-08-31T21:40:45.572231Z",
     "iopub.status.busy": "2021-08-31T21:40:45.571227Z",
     "iopub.status.idle": "2021-08-31T21:40:46.231631Z",
     "shell.execute_reply": "2021-08-31T21:40:46.231141Z",
     "shell.execute_reply.started": "2021-08-31T20:59:01.787088Z"
    },
    "papermill": {
     "duration": 0.680266,
     "end_time": "2021-08-31T21:40:46.231755",
     "exception": false,
     "start_time": "2021-08-31T21:40:45.551489",
     "status": "completed"
    },
    "tags": []
   },
   "outputs": [
    {
     "data": {
      "image/png": "[encoded data removed]",
      "text/plain": [
       "<Figure size 1152x1152 with 2 Axes>"
      ]
     },
     "metadata": {
      "needs_background": "light"
     },
     "output_type": "display_data"
    }
   ],
   "source": [
    "# Plot dataframe\n",
    "heat = train.corr().round(5)\n",
    "\n",
    "# Mask to hide upper-right part of plot as it is a duplicate\n",
    "mask = np.zeros_like(heat)\n",
    "mask[np.triu_indices_from(mask)] = True\n",
    "\n",
    "# Making a plot\n",
    "plt.figure(figsize=(16,16))\n",
    "ax = sns.heatmap(heat, annot=False, mask=mask, cmap=\"RdYlGn\", annot_kws={\"weight\": \"bold\", \"fontsize\":13})\n",
    "ax.set_title(\"Feature correlation heatmap\", fontsize=17)\n",
    "plt.setp(ax.get_xticklabels(), rotation=90, ha=\"right\",\n",
    "         rotation_mode=\"anchor\", weight=\"normal\")\n",
    "plt.setp(ax.get_yticklabels(), weight=\"normal\",\n",
    "         rotation_mode=\"anchor\", rotation=0, ha=\"right\")\n",
    "plt.show();\n",
    "\n"
   ]
  },
  {
   "cell_type": "markdown",
   "id": "5816d178",
   "metadata": {
    "papermill": {
     "duration": 0.014218,
     "end_time": "2021-08-31T21:40:46.260831",
     "exception": false,
     "start_time": "2021-08-31T21:40:46.246613",
     "status": "completed"
    },
    "tags": []
   },
   "source": [
    "### **Build XgboostRegressor Model**"
   ]
  },
  {
   "cell_type": "code",
   "execution_count": 7,
   "id": "084a6796",
   "metadata": {
    "execution": {
     "iopub.execute_input": "2021-08-31T21:40:46.303617Z",
     "iopub.status.busy": "2021-08-31T21:40:46.302540Z",
     "iopub.status.idle": "2021-08-31T21:42:56.617868Z",
     "shell.execute_reply": "2021-08-31T21:42:56.617101Z"
    },
    "papermill": {
     "duration": 130.342695,
     "end_time": "2021-08-31T21:42:56.618028",
     "exception": false,
     "start_time": "2021-08-31T21:40:46.275333",
     "status": "completed"
    },
    "tags": []
   },
   "outputs": [
    {
     "name": "stdout",
     "output_type": "stream",
     "text": [
      "[0]\tvalidation_0-rmse:7.10842\n",
      "[2000]\tvalidation_0-rmse:0.71927\n",
      "[4000]\tvalidation_0-rmse:0.71822\n",
      "[5031]\tvalidation_0-rmse:0.71801\n",
      "fold:0,rmse:0.7179314219000038\n",
      "[0]\tvalidation_0-rmse:7.08981\n",
      "[2000]\tvalidation_0-rmse:0.71875\n",
      "[4000]\tvalidation_0-rmse:0.71767\n",
      "[4249]\tvalidation_0-rmse:0.71765\n",
      "fold:1,rmse:0.7176279890986057\n",
      "[0]\tvalidation_0-rmse:7.09563\n",
      "[2000]\tvalidation_0-rmse:0.71718\n",
      "[4000]\tvalidation_0-rmse:0.71654\n",
      "[4165]\tvalidation_0-rmse:0.71654\n",
      "fold:2,rmse:0.7164618525050513\n",
      "[0]\tvalidation_0-rmse:7.09597\n",
      "[2000]\tvalidation_0-rmse:0.72017\n",
      "[4000]\tvalidation_0-rmse:0.71902\n",
      "[4271]\tvalidation_0-rmse:0.71901\n",
      "fold:3,rmse:0.7189910305000013\n",
      "[0]\tvalidation_0-rmse:7.08997\n",
      "[2000]\tvalidation_0-rmse:0.72442\n",
      "[4000]\tvalidation_0-rmse:0.72325\n",
      "[4251]\tvalidation_0-rmse:0.72326\n",
      "fold:4,rmse:0.7232367928411212\n",
      "[0]\tvalidation_0-rmse:7.09715\n",
      "[2000]\tvalidation_0-rmse:0.71686\n",
      "[3865]\tvalidation_0-rmse:0.71653\n",
      "fold:5,rmse:0.7165099816024667\n",
      "[0]\tvalidation_0-rmse:7.09786\n",
      "[2000]\tvalidation_0-rmse:0.72019\n",
      "[4000]\tvalidation_0-rmse:0.71926\n",
      "[4665]\tvalidation_0-rmse:0.71920\n",
      "fold:6,rmse:0.7191583013657028\n",
      "[0]\tvalidation_0-rmse:7.09380\n",
      "[2000]\tvalidation_0-rmse:0.72092\n",
      "[4000]\tvalidation_0-rmse:0.71998\n",
      "[5130]\tvalidation_0-rmse:0.71978\n",
      "fold:7,rmse:0.719760091160978\n",
      "[0]\tvalidation_0-rmse:7.09900\n",
      "[2000]\tvalidation_0-rmse:0.72249\n",
      "[4000]\tvalidation_0-rmse:0.72162\n",
      "[5202]\tvalidation_0-rmse:0.72152\n",
      "fold:8,rmse:0.7214880754216315\n",
      "[0]\tvalidation_0-rmse:7.10364\n",
      "[2000]\tvalidation_0-rmse:0.71546\n",
      "[4000]\tvalidation_0-rmse:0.71447\n",
      "[4195]\tvalidation_0-rmse:0.71445\n",
      "fold:9,rmse:0.7144013890733047\n",
      "0.7185566925468867 0.0024411570228148162\n"
     ]
    }
   ],
   "source": [
    "#store the final_prediction data and score\n",
    "final_predictions = []\n",
    "score= []\n",
    "\n",
    "#features(categorical and numerical datas separate)\n",
    "useful_features = [c for c in train.columns if c not in (\"id\",\"target\",\"kfold\")]\n",
    "object_cols = [col for col in useful_features if 'cat' in col]\n",
    "numerical_cols = [col for col in useful_features if 'cont' in col]\n",
    "test = test[useful_features]\n",
    "\n",
    "for fold in range(10):\n",
    "    xtrain = train[train.kfold != fold].reset_index(drop=True)\n",
    "    xvalid = train[train.kfold == fold].reset_index(drop=True)\n",
    "    xtest = test.copy()\n",
    "    \n",
    "    ytrain = xtrain.target\n",
    "    yvalid = xvalid.target\n",
    "    \n",
    "    xtrain = xtrain[useful_features]\n",
    "    xvalid = xvalid[useful_features]\n",
    "    #ordinal encode categorical colums and standardscaler is applied (mean0,sd=1)\n",
    "    ordinal_encoder = OrdinalEncoder()\n",
    "    \n",
    "    xtrain[object_cols] = ordinal_encoder.fit_transform(xtrain[object_cols])\n",
    "    xvalid[object_cols] = ordinal_encoder.transform(xvalid[object_cols])\n",
    "    xtest[object_cols] = ordinal_encoder.transform(xtest[object_cols])\n",
    "    \n",
    "    scaler = preprocessing.StandardScaler()\n",
    "    xtrain[numerical_cols] = scaler.fit_transform(xtrain[numerical_cols])\n",
    "    xvalid[numerical_cols] = scaler.transform(xvalid[numerical_cols])\n",
    "    xtest[numerical_cols] = scaler.transform(xtest[numerical_cols])\n",
    "    \n",
    "    #Model hyperparameter of XGboostRegressor\n",
    "    xgb_params = {\n",
    "        'learning_rate': 0.08837982506397186,\n",
    "        'reg_lambda': 1.5986606673969327e-06,\n",
    "        'reg_alpha': 4.844826299110059e-08,\n",
    "        'subsample': 0.4493238068204164,\n",
    "        'colsample_bytree': 0.9987937142187765,\n",
    "        'max_depth': 2,\n",
    "        'booster': 'gbtree', \n",
    "        'reg_lambda': 0.0008746338866473539,\n",
    "        'reg_alpha': 23.13181079976304,\n",
    "        'random_state':43,\n",
    "        'n_estimators':10000\n",
    "    }\n",
    "    \n",
    "    model= XGBRegressor(**xgb_params,\n",
    "                       tree_method='gpu_hist',\n",
    "                       predictor='gpu_predictor',\n",
    "                       gpu_id=0)\n",
    "    model.fit(xtrain,ytrain,early_stopping_rounds=300,eval_set=[(xvalid,yvalid)],verbose=2000)\n",
    "    preds_valid = model.predict(xvalid)\n",
    "    \n",
    "    #Training model apply the test data and predict the output\n",
    "    test_pre = model.predict(xtest)\n",
    "    final_predictions.append(test_pre)\n",
    "    \n",
    "    #Rootmeansquared output\n",
    "    rms = mean_squared_error(yvalid,preds_valid,squared=False)\n",
    "    \n",
    "    score.append(rms)\n",
    "    #way of output is display\n",
    "    print(f\"fold:{fold},rmse:{rms}\")\n",
    "\n",
    "#mean of repeation of fold data and identify the  mean and standard deviation \n",
    "print(np.mean(score),np.std(score))"
   ]
  },
  {
   "cell_type": "markdown",
   "id": "ca420395",
   "metadata": {
    "papermill": {
     "duration": 0.026747,
     "end_time": "2021-08-31T21:42:56.671923",
     "exception": false,
     "start_time": "2021-08-31T21:42:56.645176",
     "status": "completed"
    },
    "tags": []
   },
   "source": [
    "#### **Predictions | SubmissionFile**"
   ]
  },
  {
   "cell_type": "code",
   "execution_count": 8,
   "id": "a0737f12",
   "metadata": {
    "execution": {
     "iopub.execute_input": "2021-08-31T21:42:56.731193Z",
     "iopub.status.busy": "2021-08-31T21:42:56.730049Z",
     "iopub.status.idle": "2021-08-31T21:42:57.225767Z",
     "shell.execute_reply": "2021-08-31T21:42:57.226316Z"
    },
    "papermill": {
     "duration": 0.52786,
     "end_time": "2021-08-31T21:42:57.226519",
     "exception": false,
     "start_time": "2021-08-31T21:42:56.698659",
     "status": "completed"
    },
    "tags": []
   },
   "outputs": [
    {
     "name": "stdout",
     "output_type": "stream",
     "text": [
      "[8.111847  8.381666  8.405363  ... 8.4782295 8.168773  7.9760046]\n",
      "success\n"
     ]
    }
   ],
   "source": [
    "#prediction of data\n",
    "preds = np.mean(np.column_stack(final_predictions),axis=1)\n",
    "print(preds)\n",
    "sample_submission.target = preds\n",
    "sample_submission.to_csv(\"submission.csv\",index=False)\n",
    "print(\"success\")"
   ]
  },
  {
   "cell_type": "markdown",
   "id": "199b5a63",
   "metadata": {
    "papermill": {
     "duration": 0.027439,
     "end_time": "2021-08-31T21:42:57.282098",
     "exception": false,
     "start_time": "2021-08-31T21:42:57.254659",
     "status": "completed"
    },
    "tags": []
   },
   "source": [
    "**Reference:**\n",
    "\n",
    "1. [https://optuna.readthedocs.io/en/stable/tutorial/10_key_features/005_visualization.html](http://)\n",
    "\n",
    "2. [https://www.kaggle.com/venkatkumar001/30days-optuna-xgb](http://)\n",
    "3. [https://www.kaggle.com/miguelquiceno/30-days-kfold-xgboost](http://)\n",
    "4. [https://www.kaggle.com/hamzaghanmi/xgboost-hyperparameter-tuning-using-optuna](http://)"
   ]
  },
  {
   "cell_type": "markdown",
   "id": "64cd91e9",
   "metadata": {
    "papermill": {
     "duration": 0.027061,
     "end_time": "2021-08-31T21:42:57.336161",
     "exception": false,
     "start_time": "2021-08-31T21:42:57.309100",
     "status": "completed"
    },
    "tags": []
   },
   "source": [
    "#  **ThankYou**"
   ]
  }
 ],
 "metadata": {
  "kernelspec": {
   "display_name": "Python 3",
   "language": "python",
   "name": "python3"
  },
  "language_info": {
   "codemirror_mode": {
    "name": "ipython",
    "version": 3
   },
   "file_extension": ".py",
   "mimetype": "text/x-python",
   "name": "python",
   "nbconvert_exporter": "python",
   "pygments_lexer": "ipython3",
   "version": "3.7.10"
  },
  "papermill": {
   "default_parameters": {},
   "duration": 159.671547,
   "end_time": "2021-08-31T21:42:58.851429",
   "environment_variables": {},
   "exception": null,
   "input_path": "__notebook__.ipynb",
   "output_path": "__notebook__.ipynb",
   "parameters": {},
   "start_time": "2021-08-31T21:40:19.179882",
   "version": "2.3.3"
  }
 },
 "nbformat": 4,
 "nbformat_minor": 5
}
